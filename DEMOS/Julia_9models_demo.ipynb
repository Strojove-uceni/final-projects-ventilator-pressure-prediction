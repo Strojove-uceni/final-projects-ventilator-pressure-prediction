{
  "nbformat": 4,
  "nbformat_minor": 0,
  "metadata": {
    "colab": {
      "name": "Working demo.ipynb",
      "provenance": [],
      "collapsed_sections": [],
      "toc_visible": true
    },
    "kernelspec": {
      "display_name": "Julia",
      "language": "julia",
      "name": "julia"
    },
    "language_info": {
      "file_extension": ".jl",
      "mimetype": "application/julia",
      "name": "julia"
    }
  },
  "cells": [
    {
      "cell_type": "markdown",
      "source": [
        "# Demo for project Ventilator Pressure Prediction\n",
        "\n",
        "This demo is in Julia, to install and prepare everything, first follow the instructions. Then, we can move to the demo itself. The installation of everything will take a few minutes, sorry in advance.\n",
        "\n",
        "## Get scripts and data\n",
        "\n",
        "First, clone the repository below to get all scripts.\n",
        "\n",
        "\n"
      ],
      "metadata": {
        "id": "gnn0fysQ_Vfl"
      }
    },
    {
      "cell_type": "code",
      "source": [
        "!git clone https://github.com/masenka31/Ventilator.git"
      ],
      "metadata": {
        "id": "vpNghsZ5Bw1A",
        "colab": {
          "base_uri": "https://localhost:8080/"
        },
        "outputId": "f5d171f0-05ff-479c-b2b4-e38ac7ccea43"
      },
      "execution_count": null,
      "outputs": [
        {
          "output_type": "stream",
          "name": "stdout",
          "text": [
            "Cloning into 'Ventilator'...\n",
            "remote: Enumerating objects: 189, done.\u001b[K\n",
            "remote: Counting objects: 100% (189/189), done.\u001b[K\n",
            "remote: Compressing objects: 100% (120/120), done.\u001b[K\n",
            "remote: Total 189 (delta 89), reused 155 (delta 63), pack-reused 0\u001b[K\n",
            "Receiving objects: 100% (189/189), 1.59 MiB | 7.37 MiB/s, done.\n",
            "Resolving deltas: 100% (89/89), done.\n"
          ]
        }
      ]
    },
    {
      "cell_type": "markdown",
      "metadata": {
        "id": "tQ1r1bbb0yBv"
      },
      "source": [
        "<img src=\"https://github.com/JuliaLang/julia-logo-graphics/raw/master/images/julia-logo-color.png\" height=\"100\" /> _Colab Notebook Template_\n",
        "\n",
        "## Instructions for Julia installation\n",
        "1. Work on a copy of this notebook: _File_ > _Save a copy in Drive_ (you will need a Google account). Alternatively, you can download the notebook using _File_ > _Download .ipynb_, then upload it to [Colab](https://colab.research.google.com/).\n",
        "2. If you need a GPU: _Runtime_ > _Change runtime type_ > _Harware accelerator_ = _GPU_.\n",
        "3. Execute the following cell (click on it and press Ctrl+Enter) to install Julia, IJulia and other packages (if needed, update `JULIA_VERSION` and the other parameters). This takes a couple of minutes.\n",
        "4. **Reload this page (press Ctrl+R, or ⌘+R, or the F5 key) and continue to the next section.**\n",
        "\n",
        "_Notes_:\n",
        "* If your Colab Runtime gets reset (e.g., due to inactivity), repeat steps 2, 3 and 4.\n",
        "* After installation, if you want to change the Julia version or activate/deactivate the GPU, you will need to reset the Runtime: _Runtime_ > _Factory reset runtime_ and repeat steps 3 and 4."
      ]
    },
    {
      "cell_type": "code",
      "metadata": {
        "id": "GIeFXS0F0zww",
        "colab": {
          "base_uri": "https://localhost:8080/"
        },
        "outputId": "e669384e-2e1f-4a93-a355-6e54e3a81234"
      },
      "source": [
        "%%shell\n",
        "set -e\n",
        "\n",
        "#---------------------------------------------------#\n",
        "JULIA_VERSION=\"1.6.0\" # any version ≥ 0.7.0\n",
        "JULIA_PACKAGES=\"IJulia DrWatson\"\n",
        "JULIA_PACKAGES_IF_GPU=\"CUDA\" # or CuArrays for older Julia versions\n",
        "JULIA_NUM_THREADS=9\n",
        "#---------------------------------------------------#\n",
        "\n",
        "if [ -n \"$COLAB_GPU\" ] && [ -z `which julia` ]; then\n",
        "  # Install Julia\n",
        "  JULIA_VER=`cut -d '.' -f -2 <<< \"$JULIA_VERSION\"`\n",
        "  echo \"Installing Julia $JULIA_VERSION on the current Colab Runtime...\"\n",
        "  BASE_URL=\"https://julialang-s3.julialang.org/bin/linux/x64\"\n",
        "  URL=\"$BASE_URL/$JULIA_VER/julia-$JULIA_VERSION-linux-x86_64.tar.gz\"\n",
        "  wget -nv $URL -O /tmp/julia.tar.gz # -nv means \"not verbose\"\n",
        "  tar -x -f /tmp/julia.tar.gz -C /usr/local --strip-components 1\n",
        "  rm /tmp/julia.tar.gz\n",
        "\n",
        "  # Install Packages\n",
        "  if [ \"$COLAB_GPU\" = \"1\" ]; then\n",
        "      JULIA_PACKAGES=\"$JULIA_PACKAGES $JULIA_PACKAGES_IF_GPU\"\n",
        "  fi\n",
        "  for PKG in `echo $JULIA_PACKAGES`; do\n",
        "    echo \"Installing Julia package $PKG...\"\n",
        "    julia -e 'using Pkg; pkg\"add '$PKG'; precompile;\"' &> /dev/null\n",
        "  done\n",
        "\n",
        "  # Install kernel and rename it to \"julia\"\n",
        "  echo \"Installing IJulia kernel...\"\n",
        "  julia -e 'using IJulia; IJulia.installkernel(\"julia\", env=Dict(\n",
        "      \"JULIA_NUM_THREADS\"=>\"'\"$JULIA_NUM_THREADS\"'\"))'\n",
        "  KERNEL_DIR=`julia -e \"using IJulia; print(IJulia.kerneldir())\"`\n",
        "  KERNEL_NAME=`ls -d \"$KERNEL_DIR\"/julia*`\n",
        "  mv -f $KERNEL_NAME \"$KERNEL_DIR\"/julia  \n",
        "\n",
        "  echo ''\n",
        "  echo \"Success! Please reload this page and jump to the next section.\"\n",
        "fi"
      ],
      "execution_count": null,
      "outputs": [
        {
          "output_type": "stream",
          "name": "stdout",
          "text": [
            "Installing Julia 1.6.0 on the current Colab Runtime...\n",
            "2022-01-02 19:17:09 URL:https://storage.googleapis.com/julialang2/bin/linux/x64/1.6/julia-1.6.0-linux-x86_64.tar.gz [112838927/112838927] -> \"/tmp/julia.tar.gz\" [1]\n",
            "Installing Julia package IJulia...\n",
            "Installing Julia package DrWatson...\n",
            "Installing IJulia kernel...\n",
            "\u001b[36m\u001b[1m[ \u001b[22m\u001b[39m\u001b[36m\u001b[1mInfo: \u001b[22m\u001b[39mInstalling julia kernelspec in /root/.local/share/jupyter/kernels/julia-1.6\n",
            "\n",
            "Success! Please reload this page and jump to the next section.\n"
          ]
        },
        {
          "output_type": "execute_result",
          "data": {
            "text/plain": [
              ""
            ]
          },
          "metadata": {},
          "execution_count": 3
        }
      ]
    },
    {
      "cell_type": "markdown",
      "metadata": {
        "id": "-OS3Ac017T1i"
      },
      "source": [
        "**Have you reloaded the page? If so, great, please continue here.**\n",
        "\n",
        "## Installing packages\n",
        "\n",
        "The `versioninfo()` function should print your Julia version and some other info about the system. Also, we need to load the Pkg package to use DrWatson and instantiate the repository."
      ]
    },
    {
      "cell_type": "code",
      "metadata": {
        "id": "EEzvvzCl1i0F",
        "colab": {
          "base_uri": "https://localhost:8080/"
        },
        "outputId": "0252bdb7-6e0b-471b-8397-1eda160f5af6"
      },
      "source": [
        "versioninfo()\n",
        "using Pkg\n",
        "Pkg.status()"
      ],
      "execution_count": 1,
      "outputs": [
        {
          "output_type": "stream",
          "name": "stdout",
          "text": [
            "Julia Version 1.6.0\n",
            "Commit f9720dc2eb (2021-03-24 12:55 UTC)\n",
            "Platform Info:\n",
            "  OS: Linux (x86_64-pc-linux-gnu)\n",
            "  CPU: Intel(R) Xeon(R) CPU @ 2.20GHz\n",
            "  WORD_SIZE: 64\n",
            "  LIBM: libopenlibm\n",
            "  LLVM: libLLVM-11.0.1 (ORCJIT, broadwell)\n",
            "Environment:\n",
            "  JULIA_NUM_THREADS = 2\n",
            "\u001b[32m\u001b[1m      Status\u001b[22m\u001b[39m `~/.julia/environments/v1.6/Project.toml`\n",
            " \u001b[90m [634d3b9d] \u001b[39m\u001b[37mDrWatson v2.7.5\u001b[39m\n",
            " \u001b[90m [7073ff75] \u001b[39m\u001b[37mIJulia v1.23.2\u001b[39m\n"
          ]
        }
      ]
    },
    {
      "cell_type": "markdown",
      "source": [
        "Now, we need to load DrWatson package and instantiate the repository."
      ],
      "metadata": {
        "id": "tAp1fnhqAQgX"
      }
    },
    {
      "cell_type": "code",
      "source": [
        "cd(\"Ventilator/Ventilator.jl\")"
      ],
      "metadata": {
        "id": "QreF9HfCFyB4"
      },
      "execution_count": 3,
      "outputs": []
    },
    {
      "cell_type": "code",
      "source": [
        "using DrWatson\n",
        "@quickactivate"
      ],
      "metadata": {
        "id": "jSHJeaV8Ab6a",
        "colab": {
          "base_uri": "https://localhost:8080/"
        },
        "outputId": "0b357690-bd06-442d-fe2e-fbb3b44b3b9a"
      },
      "execution_count": 4,
      "outputs": [
        {
          "output_type": "stream",
          "name": "stderr",
          "text": [
            "\u001b[32m\u001b[1m  Activating\u001b[22m\u001b[39m environment at `/content/Ventilator/Ventilator.jl/Project.toml`\n"
          ]
        }
      ]
    },
    {
      "cell_type": "markdown",
      "source": [
        "This will install all necesarry packages and precompile them. It will probably take some time, please, be patient. All other things should be fairly quick :)"
      ],
      "metadata": {
        "id": "pROwqlGGPNQq"
      }
    },
    {
      "cell_type": "code",
      "source": [
        "Pkg.instantiate()"
      ],
      "metadata": {
        "colab": {
          "base_uri": "https://localhost:8080/"
        },
        "id": "u1UnmVIYF3YZ",
        "outputId": "b8577c32-8006-4151-95e6-fa017308941b"
      },
      "execution_count": 4,
      "outputs": [
        {
          "output_type": "stream",
          "name": "stderr",
          "text": [
            "\u001b[32m\u001b[1m   Installed\u001b[22m\u001b[39m LLVMExtra_jll ──────────────── v0.0.11+0\n",
            "\u001b[32m\u001b[1m   Installed\u001b[22m\u001b[39m Crayons ────────────────────── v4.0.4\n",
            "\u001b[32m\u001b[1m   Installed\u001b[22m\u001b[39m ZygoteRules ────────────────── v0.2.2\n",
            "\u001b[32m\u001b[1m   Installed\u001b[22m\u001b[39m SortingAlgorithms ──────────── v1.0.1\n",
            "\u001b[32m\u001b[1m   Installed\u001b[22m\u001b[39m Missings ───────────────────── v1.0.2\n",
            "\u001b[32m\u001b[1m   Installed\u001b[22m\u001b[39m LoweredCodeUtils ───────────── v2.1.2\n",
            "\u001b[32m\u001b[1m   Installed\u001b[22m\u001b[39m DiffRules ──────────────────── v1.3.1\n",
            "\u001b[32m\u001b[1m   Installed\u001b[22m\u001b[39m HTTP ───────────────────────── v0.9.16\n",
            "\u001b[32m\u001b[1m   Installed\u001b[22m\u001b[39m Xorg_libXrandr_jll ─────────── v1.5.2+4\n",
            "\u001b[32m\u001b[1m   Installed\u001b[22m\u001b[39m Zstd_jll ───────────────────── v1.5.0+0\n",
            "\u001b[32m\u001b[1m   Installed\u001b[22m\u001b[39m CSVFiles ───────────────────── v1.0.1\n",
            "\u001b[32m\u001b[1m   Installed\u001b[22m\u001b[39m DataValues ─────────────────── v0.4.13\n",
            "\u001b[32m\u001b[1m   Installed\u001b[22m\u001b[39m Zygote ─────────────────────── v0.6.12\n",
            "\u001b[32m\u001b[1m   Installed\u001b[22m\u001b[39m LZO_jll ────────────────────── v2.10.1+0\n",
            "\u001b[32m\u001b[1m   Installed\u001b[22m\u001b[39m Polynomials ────────────────── v2.0.17\n",
            "\u001b[32m\u001b[1m   Installed\u001b[22m\u001b[39m Nullables ──────────────────── v1.0.0\n",
            "\u001b[32m\u001b[1m   Installed\u001b[22m\u001b[39m FFMPEG ─────────────────────── v0.4.1\n",
            "\u001b[32m\u001b[1m   Installed\u001b[22m\u001b[39m Xorg_libXau_jll ────────────── v1.0.9+4\n",
            "\u001b[32m\u001b[1m   Installed\u001b[22m\u001b[39m JpegTurbo_jll ──────────────── v2.1.0+0\n",
            "\u001b[32m\u001b[1m   Installed\u001b[22m\u001b[39m Measures ───────────────────── v0.3.1\n",
            "\u001b[32m\u001b[1m   Installed\u001b[22m\u001b[39m XML2_jll ───────────────────── v2.9.12+0\n",
            "\u001b[32m\u001b[1m   Installed\u001b[22m\u001b[39m StaticArrays ───────────────── v1.2.13\n",
            "\u001b[32m\u001b[1m   Installed\u001b[22m\u001b[39m Revise ─────────────────────── v3.1.20\n",
            "\u001b[32m\u001b[1m   Installed\u001b[22m\u001b[39m GLFW_jll ───────────────────── v3.3.5+1\n",
            "\u001b[32m\u001b[1m   Installed\u001b[22m\u001b[39m LogExpFunctions ────────────── v0.3.0\n",
            "\u001b[32m\u001b[1m   Installed\u001b[22m\u001b[39m IteratorInterfaceExtensions ── v1.0.0\n",
            "\u001b[32m\u001b[1m   Installed\u001b[22m\u001b[39m Xorg_libXfixes_jll ─────────── v5.0.3+4\n",
            "\u001b[32m\u001b[1m   Installed\u001b[22m\u001b[39m Media ──────────────────────── v0.5.0\n",
            "\u001b[32m\u001b[1m   Installed\u001b[22m\u001b[39m CodeTracking ───────────────── v1.0.6\n",
            "\u001b[32m\u001b[1m   Installed\u001b[22m\u001b[39m ColorTypes ─────────────────── v0.11.0\n",
            "\u001b[32m\u001b[1m   Installed\u001b[22m\u001b[39m Wayland_jll ────────────────── v1.19.0+0\n",
            "\u001b[32m\u001b[1m   Installed\u001b[22m\u001b[39m URIs ───────────────────────── v1.3.0\n",
            "\u001b[32m\u001b[1m   Installed\u001b[22m\u001b[39m Xorg_xcb_util_image_jll ────── v0.4.0+1\n",
            "\u001b[32m\u001b[1m   Installed\u001b[22m\u001b[39m Libgcrypt_jll ──────────────── v1.8.7+0\n",
            "\u001b[32m\u001b[1m   Installed\u001b[22m\u001b[39m Graphite2_jll ──────────────── v1.3.14+0\n",
            "\u001b[32m\u001b[1m   Installed\u001b[22m\u001b[39m Mocking ────────────────────── v0.7.3\n",
            "\u001b[32m\u001b[1m   Installed\u001b[22m\u001b[39m JuliaInterpreter ───────────── v0.8.21\n",
            "\u001b[32m\u001b[1m   Installed\u001b[22m\u001b[39m InlineStrings ──────────────── v1.0.1\n",
            "\u001b[32m\u001b[1m   Installed\u001b[22m\u001b[39m ExprTools ──────────────────── v0.1.6\n",
            "\u001b[32m\u001b[1m   Installed\u001b[22m\u001b[39m CEnum ──────────────────────── v0.4.1\n",
            "\u001b[32m\u001b[1m   Installed\u001b[22m\u001b[39m Plots ──────────────────────── v1.22.6\n",
            "\u001b[32m\u001b[1m   Installed\u001b[22m\u001b[39m Xorg_libXi_jll ─────────────── v1.7.10+4\n",
            "\u001b[32m\u001b[1m   Installed\u001b[22m\u001b[39m RecipesPipeline ────────────── v0.4.1\n",
            "\u001b[32m\u001b[1m   Installed\u001b[22m\u001b[39m Xorg_libXdmcp_jll ──────────── v1.1.3+4\n",
            "\u001b[32m\u001b[1m   Installed\u001b[22m\u001b[39m Bzip2_jll ──────────────────── v1.0.8+0\n",
            "\u001b[32m\u001b[1m   Installed\u001b[22m\u001b[39m Tables ─────────────────────── v1.6.0\n",
            "\u001b[32m\u001b[1m   Installed\u001b[22m\u001b[39m StatsFuns ──────────────────── v0.9.9\n",
            "\u001b[32m\u001b[1m   Installed\u001b[22m\u001b[39m IniFile ────────────────────── v0.5.0\n",
            "\u001b[32m\u001b[1m   Installed\u001b[22m\u001b[39m SentinelArrays ─────────────── v1.3.8\n",
            "\u001b[32m\u001b[1m   Installed\u001b[22m\u001b[39m ArrayInterface ─────────────── v3.1.34\n",
            "\u001b[32m\u001b[1m   Installed\u001b[22m\u001b[39m IfElse ─────────────────────── v0.1.0\n",
            "\u001b[32m\u001b[1m   Installed\u001b[22m\u001b[39m Contour ────────────────────── v0.5.7\n",
            "\u001b[32m\u001b[1m   Installed\u001b[22m\u001b[39m CSV ────────────────────────── v0.9.8\n",
            "\u001b[32m\u001b[1m   Installed\u001b[22m\u001b[39m ChainRules ─────────────────── v0.7.70\n",
            "\u001b[32m\u001b[1m   Installed\u001b[22m\u001b[39m OpenSpecFun_jll ────────────── v0.5.5+0\n",
            "\u001b[32m\u001b[1m   Installed\u001b[22m\u001b[39m CUDA ───────────────────────── v3.5.0\n",
            "\u001b[32m\u001b[1m   Installed\u001b[22m\u001b[39m xkbcommon_jll ──────────────── v0.9.1+5\n",
            "\u001b[32m\u001b[1m   Installed\u001b[22m\u001b[39m StructArrays ───────────────── v0.6.3\n",
            "\u001b[32m\u001b[1m   Installed\u001b[22m\u001b[39m FreeType2_jll ──────────────── v2.10.4+0\n",
            "\u001b[32m\u001b[1m   Installed\u001b[22m\u001b[39m EarCut_jll ─────────────────── v2.2.3+0\n",
            "\u001b[32m\u001b[1m   Installed\u001b[22m\u001b[39m Latexify ───────────────────── v0.15.9\n",
            "\u001b[32m\u001b[1m   Installed\u001b[22m\u001b[39m StatsBase ──────────────────── v0.33.12\n",
            "\u001b[32m\u001b[1m   Installed\u001b[22m\u001b[39m PCRE_jll ───────────────────── v8.44.0+0\n",
            "\u001b[32m\u001b[1m   Installed\u001b[22m\u001b[39m Xorg_libXext_jll ───────────── v1.3.4+4\n",
            "\u001b[32m\u001b[1m   Installed\u001b[22m\u001b[39m DataValueInterfaces ────────── v1.0.0\n",
            "\u001b[32m\u001b[1m   Installed\u001b[22m\u001b[39m Xorg_libxcb_jll ────────────── v1.13.0+3\n",
            "\u001b[32m\u001b[1m   Installed\u001b[22m\u001b[39m QuadGK ─────────────────────── v2.4.2\n",
            "\u001b[32m\u001b[1m   Installed\u001b[22m\u001b[39m Juno ───────────────────────── v0.8.4\n",
            "\u001b[32m\u001b[1m   Installed\u001b[22m\u001b[39m Flux ───────────────────────── v0.12.7\n",
            "\u001b[32m\u001b[1m   Installed\u001b[22m\u001b[39m Libffi_jll ─────────────────── v3.2.2+0\n",
            "\u001b[32m\u001b[1m   Installed\u001b[22m\u001b[39m IRTools ────────────────────── v0.4.3\n",
            "\u001b[32m\u001b[1m   Installed\u001b[22m\u001b[39m Libmount_jll ───────────────── v2.35.0+0\n",
            "\u001b[32m\u001b[1m   Installed\u001b[22m\u001b[39m IterableTables ─────────────── v1.0.0\n",
            "\u001b[32m\u001b[1m   Installed\u001b[22m\u001b[39m Rmath ──────────────────────── v0.7.0\n",
            "\u001b[32m\u001b[1m   Installed\u001b[22m\u001b[39m DoubleFloats ───────────────── v1.1.23\n",
            "\u001b[32m\u001b[1m   Installed\u001b[22m\u001b[39m Wayland_protocols_jll ──────── v1.18.0+4\n",
            "\u001b[32m\u001b[1m   Installed\u001b[22m\u001b[39m Adapt ──────────────────────── v3.3.1\n",
            "\u001b[32m\u001b[1m   Installed\u001b[22m\u001b[39m AbstractFFTs ───────────────── v1.0.1\n",
            "\u001b[32m\u001b[1m   Installed\u001b[22m\u001b[39m LLVM ───────────────────────── v4.6.0\n",
            "\u001b[32m\u001b[1m   Installed\u001b[22m\u001b[39m PooledArrays ───────────────── v1.3.0\n",
            "\u001b[32m\u001b[1m   Installed\u001b[22m\u001b[39m Distributions ──────────────── v0.24.18\n",
            "\u001b[32m\u001b[1m   Installed\u001b[22m\u001b[39m FileIO ─────────────────────── v1.11.1\n",
            "\u001b[32m\u001b[1m   Installed\u001b[22m\u001b[39m CodecZlib ──────────────────── v0.7.0\n",
            "\u001b[32m\u001b[1m   Installed\u001b[22m\u001b[39m Parsers ────────────────────── v2.1.0\n",
            "\u001b[32m\u001b[1m   Installed\u001b[22m\u001b[39m JLD2 ───────────────────────── v0.4.15\n",
            "\u001b[32m\u001b[1m   Installed\u001b[22m\u001b[39m Xorg_libXrender_jll ────────── v0.9.10+4\n",
            "\u001b[32m\u001b[1m   Installed\u001b[22m\u001b[39m Static ─────────────────────── v0.3.3\n",
            "\u001b[32m\u001b[1m   Installed\u001b[22m\u001b[39m Xorg_libXcursor_jll ────────── v1.2.0+4\n",
            "\u001b[32m\u001b[1m   Installed\u001b[22m\u001b[39m libass_jll ─────────────────── v0.15.1+0\n",
            "\u001b[32m\u001b[1m   Installed\u001b[22m\u001b[39m TimerOutputs ───────────────── v0.5.13\n",
            "\u001b[32m\u001b[1m   Installed\u001b[22m\u001b[39m FillArrays ─────────────────── v0.11.9\n",
            "\u001b[32m\u001b[1m   Installed\u001b[22m\u001b[39m TableTraits ────────────────── v1.0.1\n",
            "\u001b[32m\u001b[1m   Installed\u001b[22m\u001b[39m Rmath_jll ──────────────────── v0.3.0+0\n",
            "\u001b[32m\u001b[1m   Installed\u001b[22m\u001b[39m PlotUtils ──────────────────── v1.0.15\n",
            "\u001b[32m\u001b[1m   Installed\u001b[22m\u001b[39m FilePathsBase ──────────────── v0.9.12\n",
            "\u001b[32m\u001b[1m   Installed\u001b[22m\u001b[39m FFMPEG_jll ─────────────────── v4.4.0+0\n",
            "\u001b[32m\u001b[1m   Installed\u001b[22m\u001b[39m XSLT_jll ───────────────────── v1.1.34+0\n",
            "\u001b[32m\u001b[1m   Installed\u001b[22m\u001b[39m Pixman_jll ─────────────────── v0.40.1+0\n",
            "\u001b[32m\u001b[1m   Installed\u001b[22m\u001b[39m Gettext_jll ────────────────── v0.21.0+0\n",
            "\u001b[32m\u001b[1m   Installed\u001b[22m\u001b[39m DrWatson ───────────────────── v2.6.2\n",
            "\u001b[32m\u001b[1m   Installed\u001b[22m\u001b[39m Xorg_xcb_util_renderutil_jll ─ v0.3.9+1\n",
            "\u001b[32m\u001b[1m   Installed\u001b[22m\u001b[39m DataStructures ─────────────── v0.18.10\n",
            "\u001b[32m\u001b[1m   Installed\u001b[22m\u001b[39m ForwardDiff ────────────────── v0.10.21\n",
            "\u001b[32m\u001b[1m   Installed\u001b[22m\u001b[39m Xorg_libpthread_stubs_jll ──── v0.1.0+3\n",
            "\u001b[32m\u001b[1m   Installed\u001b[22m\u001b[39m Xorg_xkeyboard_config_jll ──── v2.27.0+4\n",
            "\u001b[32m\u001b[1m   Installed\u001b[22m\u001b[39m AbstractTrees ──────────────── v0.3.4\n",
            "\u001b[32m\u001b[1m   Installed\u001b[22m\u001b[39m FixedPointNumbers ──────────── v0.8.4\n",
            "\u001b[32m\u001b[1m   Installed\u001b[22m\u001b[39m SpecialFunctions ───────────── v1.8.0\n",
            "\u001b[32m\u001b[1m   Installed\u001b[22m\u001b[39m Libgpg_error_jll ───────────── v1.42.0+0\n",
            "\u001b[32m\u001b[1m   Installed\u001b[22m\u001b[39m GeometryBasics ─────────────── v0.4.1\n",
            "\u001b[32m\u001b[1m   Installed\u001b[22m\u001b[39m TimeZones ──────────────────── v1.6.1\n",
            "\u001b[32m\u001b[1m   Installed\u001b[22m\u001b[39m Xorg_xcb_util_wm_jll ───────── v0.4.1+1\n",
            "\u001b[32m\u001b[1m   Installed\u001b[22m\u001b[39m Xorg_libxkbfile_jll ────────── v1.1.0+4\n",
            "\u001b[32m\u001b[1m   Installed\u001b[22m\u001b[39m Libtiff_jll ────────────────── v4.3.0+0\n",
            "\u001b[32m\u001b[1m   Installed\u001b[22m\u001b[39m BSON ───────────────────────── v0.3.4\n",
            "\u001b[32m\u001b[1m   Installed\u001b[22m\u001b[39m Fontconfig_jll ─────────────── v2.13.93+0\n",
            "\u001b[32m\u001b[1m   Installed\u001b[22m\u001b[39m Compat ─────────────────────── v3.39.0\n",
            "\u001b[32m\u001b[1m   Installed\u001b[22m\u001b[39m DataAPI ────────────────────── v1.9.0\n",
            "\u001b[32m\u001b[1m   Installed\u001b[22m\u001b[39m DataFrames ─────────────────── v1.2.2\n",
            "\u001b[32m\u001b[1m   Installed\u001b[22m\u001b[39m x265_jll ───────────────────── v3.5.0+0\n",
            "\u001b[32m\u001b[1m   Installed\u001b[22m\u001b[39m GPUArrays ──────────────────── v8.1.2\n",
            "\u001b[32m\u001b[1m   Installed\u001b[22m\u001b[39m Qt5Base_jll ────────────────── v5.15.3+0\n",
            "\u001b[32m\u001b[1m   Installed\u001b[22m\u001b[39m Intervals ──────────────────── v1.5.0\n",
            "\u001b[32m\u001b[1m   Installed\u001b[22m\u001b[39m ZipFile ────────────────────── v0.9.4\n",
            "\u001b[32m\u001b[1m   Installed\u001b[22m\u001b[39m Grisu ──────────────────────── v1.0.2\n",
            "\u001b[32m\u001b[1m   Installed\u001b[22m\u001b[39m libvorbis_jll ──────────────── v1.3.7+0\n",
            "\u001b[32m\u001b[1m   Installed\u001b[22m\u001b[39m Libiconv_jll ───────────────── v1.16.1+1\n",
            "\u001b[32m\u001b[1m   Installed\u001b[22m\u001b[39m IterTools ──────────────────── v1.3.0\n",
            "\u001b[32m\u001b[1m   Installed\u001b[22m\u001b[39m IrrationalConstants ────────── v0.1.1\n",
            "\u001b[32m\u001b[1m   Installed\u001b[22m\u001b[39m Glib_jll ───────────────────── v2.68.3+0\n",
            "\u001b[32m\u001b[1m   Installed\u001b[22m\u001b[39m Xorg_xtrans_jll ────────────── v1.4.0+3\n",
            "\u001b[32m\u001b[1m   Installed\u001b[22m\u001b[39m LAME_jll ───────────────────── v3.100.1+0\n",
            "\u001b[32m\u001b[1m   Installed\u001b[22m\u001b[39m Xorg_libX11_jll ────────────── v1.6.9+4\n",
            "\u001b[32m\u001b[1m   Installed\u001b[22m\u001b[39m TextParse ──────────────────── v1.0.2\n",
            "\u001b[32m\u001b[1m   Installed\u001b[22m\u001b[39m RecipesBase ────────────────── v1.1.2\n",
            "\u001b[32m\u001b[1m   Installed\u001b[22m\u001b[39m MutableArithmetics ─────────── v0.2.22\n",
            "\u001b[32m\u001b[1m   Installed\u001b[22m\u001b[39m Xorg_libXinerama_jll ───────── v1.1.4+4\n",
            "\u001b[32m\u001b[1m   Installed\u001b[22m\u001b[39m PDMats ─────────────────────── v0.10.1\n",
            "\u001b[32m\u001b[1m   Installed\u001b[22m\u001b[39m BFloat16s ──────────────────── v0.2.0\n",
            "\u001b[32m\u001b[1m   Installed\u001b[22m\u001b[39m TableShowUtils ─────────────── v0.2.5\n",
            "\u001b[32m\u001b[1m   Installed\u001b[22m\u001b[39m GR_jll ─────────────────────── v0.61.0+0\n",
            "\u001b[32m\u001b[1m   Installed\u001b[22m\u001b[39m HarfBuzz_jll ───────────────── v2.8.1+0\n",
            "\u001b[32m\u001b[1m   Installed\u001b[22m\u001b[39m Functors ───────────────────── v0.2.7\n",
            "\u001b[32m\u001b[1m   Installed\u001b[22m\u001b[39m NNlibCUDA ──────────────────── v0.1.9\n",
            "\u001b[32m\u001b[1m   Installed\u001b[22m\u001b[39m Xorg_xcb_util_jll ──────────── v0.4.0+1\n",
            "\u001b[32m\u001b[1m   Installed\u001b[22m\u001b[39m WeakRefStrings ─────────────── v1.4.1\n",
            "\u001b[32m\u001b[1m   Installed\u001b[22m\u001b[39m Cairo_jll ──────────────────── v1.16.1+0\n",
            "\u001b[32m\u001b[1m   Installed\u001b[22m\u001b[39m LaTeXStrings ───────────────── v1.2.1\n",
            "\u001b[32m\u001b[1m   Installed\u001b[22m\u001b[39m Expat_jll ──────────────────── v2.2.10+0\n",
            "\u001b[32m\u001b[1m   Installed\u001b[22m\u001b[39m x264_jll ───────────────────── v2021.5.5+0\n",
            "\u001b[32m\u001b[1m   Installed\u001b[22m\u001b[39m MacroTools ─────────────────── v0.5.8\n",
            "\u001b[32m\u001b[1m   Installed\u001b[22m\u001b[39m GPUCompiler ────────────────── v0.13.6\n",
            "\u001b[32m\u001b[1m   Installed\u001b[22m\u001b[39m Xorg_xcb_util_keysyms_jll ──── v0.4.0+1\n",
            "\u001b[32m\u001b[1m   Installed\u001b[22m\u001b[39m NaNMath ────────────────────── v0.3.5\n",
            "\u001b[32m\u001b[1m   Installed\u001b[22m\u001b[39m Libuuid_jll ────────────────── v2.36.0+0\n",
            "\u001b[32m\u001b[1m   Installed\u001b[22m\u001b[39m Colors ─────────────────────── v0.12.8\n",
            "\u001b[32m\u001b[1m   Installed\u001b[22m\u001b[39m InvertedIndices ────────────── v1.1.0\n",
            "\u001b[32m\u001b[1m   Installed\u001b[22m\u001b[39m PlotThemes ─────────────────── v2.0.1\n",
            "\u001b[32m\u001b[1m   Installed\u001b[22m\u001b[39m Formatting ─────────────────── v0.4.2\n",
            "\u001b[32m\u001b[1m   Installed\u001b[22m\u001b[39m Showoff ────────────────────── v1.0.3\n",
            "\u001b[32m\u001b[1m   Installed\u001b[22m\u001b[39m ChainRulesCore ─────────────── v0.9.45\n",
            "\u001b[32m\u001b[1m   Installed\u001b[22m\u001b[39m NNlib ──────────────────────── v0.7.29\n",
            "\u001b[32m\u001b[1m   Installed\u001b[22m\u001b[39m ColorSchemes ───────────────── v3.15.0\n",
            "\u001b[32m\u001b[1m   Installed\u001b[22m\u001b[39m RandomNumbers ──────────────── v1.5.3\n",
            "\u001b[32m\u001b[1m   Installed\u001b[22m\u001b[39m Preferences ────────────────── v1.2.2\n",
            "\u001b[32m\u001b[1m   Installed\u001b[22m\u001b[39m Requires ───────────────────── v1.1.3\n",
            "\u001b[32m\u001b[1m   Installed\u001b[22m\u001b[39m CommonSubexpressions ───────── v0.3.0\n",
            "\u001b[32m\u001b[1m   Installed\u001b[22m\u001b[39m Opus_jll ───────────────────── v1.3.2+0\n",
            "\u001b[32m\u001b[1m   Installed\u001b[22m\u001b[39m OpenSSL_jll ────────────────── v1.1.10+0\n",
            "\u001b[32m\u001b[1m   Installed\u001b[22m\u001b[39m TableTraitsUtils ───────────── v1.0.2\n",
            "\u001b[32m\u001b[1m   Installed\u001b[22m\u001b[39m DiffResults ────────────────── v1.0.3\n",
            "\u001b[32m\u001b[1m   Installed\u001b[22m\u001b[39m Xorg_xkbcomp_jll ───────────── v1.4.2+4\n",
            "\u001b[32m\u001b[1m   Installed\u001b[22m\u001b[39m Quadmath ───────────────────── v0.5.5\n",
            "\u001b[32m\u001b[1m   Installed\u001b[22m\u001b[39m libfdk_aac_jll ─────────────── v2.0.2+0\n",
            "\u001b[32m\u001b[1m   Installed\u001b[22m\u001b[39m Libglvnd_jll ───────────────── v1.3.0+3\n",
            "\u001b[32m\u001b[1m   Installed\u001b[22m\u001b[39m Ogg_jll ────────────────────── v1.3.5+0\n",
            "\u001b[32m\u001b[1m   Installed\u001b[22m\u001b[39m FriBidi_jll ────────────────── v1.0.10+0\n",
            "\u001b[32m\u001b[1m   Installed\u001b[22m\u001b[39m GenericLinearAlgebra ───────── v0.2.7\n",
            "\u001b[32m\u001b[1m   Installed\u001b[22m\u001b[39m DocStringExtensions ────────── v0.8.5\n",
            "\u001b[32m\u001b[1m   Installed\u001b[22m\u001b[39m libpng_jll ─────────────────── v1.6.38+0\n",
            "\u001b[32m\u001b[1m   Installed\u001b[22m\u001b[39m Random123 ──────────────────── v1.4.2\n",
            "\u001b[32m\u001b[1m   Installed\u001b[22m\u001b[39m GR ─────────────────────────── v0.61.0\n",
            "\u001b[32m\u001b[1m   Installed\u001b[22m\u001b[39m StatsAPI ───────────────────── v1.0.0\n",
            "\u001b[32m\u001b[1m   Installed\u001b[22m\u001b[39m PrettyTables ───────────────── v1.2.3\n",
            "\u001b[32m\u001b[1m    Building\u001b[22m\u001b[39m TimeZones → `~/.julia/scratchspaces/44cfe95a-1eb2-52ea-b672-e2afdf69b78f/b4c6460412b1db0b4f1679ab2d5ef72568a14a57/build.log`\n",
            "\u001b[32m\u001b[1m    Building\u001b[22m\u001b[39m GR ───────→ `~/.julia/scratchspaces/44cfe95a-1eb2-52ea-b672-e2afdf69b78f/d189c6d2004f63fd3c91748c458b09f26de0efaa/build.log`\n",
            "\u001b[32m\u001b[1m    Building\u001b[22m\u001b[39m Random123 → `~/.julia/scratchspaces/44cfe95a-1eb2-52ea-b672-e2afdf69b78f/0e8b146557ad1c6deb1367655e052276690e71a3/build.log`\n",
            "\u001b[32m\u001b[1mPrecompiling\u001b[22m\u001b[39m project...\n",
            "\u001b[32m  ✓ \u001b[39m\u001b[90mCompilerSupportLibraries_jll\u001b[39m\n",
            "\u001b[32m  ✓ \u001b[39m\u001b[90mAbstractFFTs\u001b[39m\n",
            "\u001b[32m  ✓ \u001b[39m\u001b[90mAbstractTrees\u001b[39m\n",
            "\u001b[32m  ✓ \u001b[39m\u001b[90mURIs\u001b[39m\n",
            "\u001b[32m  ✓ \u001b[39m\u001b[90mMeasures\u001b[39m\n",
            "\u001b[32m  ✓ \u001b[39m\u001b[90mFillArrays\u001b[39m\n",
            "\u001b[32m  ✓ \u001b[39m\u001b[90mChainRulesCore\u001b[39m\n",
            "\u001b[32m  ✓ \u001b[39m\u001b[90mIrrationalConstants\u001b[39m\n",
            "\u001b[32m  ✓ \u001b[39m\u001b[90mMacroTools\u001b[39m\n",
            "\u001b[32m  ✓ \u001b[39m\u001b[90mInvertedIndices\u001b[39m\n",
            "\u001b[32m  ✓ \u001b[39m\u001b[90mRequires\u001b[39m\n",
            "\u001b[32m  ✓ \u001b[39m\u001b[90mIterTools\u001b[39m\n",
            "\u001b[32m  ✓ \u001b[39m\u001b[90mStatsAPI\u001b[39m\n",
            "\u001b[32m  ✓ \u001b[39m\u001b[90mIteratorInterfaceExtensions\u001b[39m\n",
            "\u001b[32m  ✓ \u001b[39m\u001b[90mAdapt\u001b[39m\n",
            "\u001b[32m  ✓ \u001b[39m\u001b[90mLaTeXStrings\u001b[39m\n",
            "\u001b[32m  ✓ \u001b[39m\u001b[90mMutableArithmetics\u001b[39m\n",
            "\u001b[32m  ✓ \u001b[39mBSON\n",
            "\u001b[32m  ✓ \u001b[39m\u001b[90mNullables\u001b[39m\n",
            "\u001b[32m  ✓ \u001b[39m\u001b[90mPreferences\u001b[39m\n",
            "\u001b[32m  ✓ \u001b[39m\u001b[90mDataAPI\u001b[39m\n",
            "\u001b[32m  ✓ \u001b[39m\u001b[90mOpenLibm_jll\u001b[39m\n",
            "\u001b[32m  ✓ \u001b[39m\u001b[90mNaNMath\u001b[39m\n",
            "\u001b[32m  ✓ \u001b[39m\u001b[90mBFloat16s\u001b[39m\n",
            "\u001b[32m  ✓ \u001b[39m\u001b[90mDocStringExtensions\u001b[39m\n",
            "\u001b[32m  ✓ \u001b[39m\u001b[90mCrayons\u001b[39m\n",
            "\u001b[32m  ✓ \u001b[39m\u001b[90mGenericLinearAlgebra\u001b[39m\n",
            "\u001b[32m  ✓ \u001b[39m\u001b[90mIfElse\u001b[39m\n",
            "\u001b[32m  ✓ \u001b[39m\u001b[90mDataValueInterfaces\u001b[39m\n",
            "\u001b[32m  ✓ \u001b[39m\u001b[90mTimerOutputs\u001b[39m\n",
            "\u001b[32m  ✓ \u001b[39m\u001b[90mFilePathsBase\u001b[39m\n",
            "\u001b[32m  ✓ \u001b[39m\u001b[90mGrisu\u001b[39m\n",
            "\u001b[32m  ✓ \u001b[39m\u001b[90mFunctors\u001b[39m\n",
            "\u001b[32m  ✓ \u001b[39m\u001b[90mCodeTracking\u001b[39m\n",
            "\u001b[32m  ✓ \u001b[39m\u001b[90mSentinelArrays\u001b[39m\n",
            "\u001b[32m  ✓ \u001b[39m\u001b[90mFormatting\u001b[39m\n",
            "\u001b[32m  ✓ \u001b[39m\u001b[90mCEnum\u001b[39m\n",
            "\u001b[32m  ✓ \u001b[39m\u001b[90mIniFile\u001b[39m\n",
            "\u001b[32m  ✓ \u001b[39m\u001b[90mPDMats\u001b[39m\n",
            "\u001b[32m  ✓ \u001b[39m\u001b[90mFixedPointNumbers\u001b[39m\n",
            "\u001b[32m  ✓ \u001b[39m\u001b[90mCodecZlib\u001b[39m\n",
            "\u001b[32m  ✓ \u001b[39m\u001b[90mMocking\u001b[39m\n",
            "\u001b[32m  ✓ \u001b[39m\u001b[90mZipFile\u001b[39m\n",
            "\u001b[32m  ✓ \u001b[39m\u001b[90mInlineStrings\u001b[39m\n",
            "\u001b[32m  ✓ \u001b[39m\u001b[90mCommonSubexpressions\u001b[39m\n",
            "\u001b[32m  ✓ \u001b[39m\u001b[90mDataStructures\u001b[39m\n",
            "\u001b[32m  ✓ \u001b[39m\u001b[90mIRTools\u001b[39m\n",
            "\u001b[32m  ✓ \u001b[39m\u001b[90mZygoteRules\u001b[39m\n",
            "\u001b[32m  ✓ \u001b[39m\u001b[90mMedia\u001b[39m\n",
            "\u001b[32m  ✓ \u001b[39m\u001b[90mStaticArrays\u001b[39m\n",
            "\u001b[32m  ✓ \u001b[39m\u001b[90mQuadmath\u001b[39m\n",
            "\u001b[32m  ✓ \u001b[39m\u001b[90mRandomNumbers\u001b[39m\n",
            "\u001b[32m  ✓ \u001b[39m\u001b[90mTableTraits\u001b[39m\n",
            "\u001b[32m  ✓ \u001b[39m\u001b[90mFileIO\u001b[39m\n",
            "\u001b[32m  ✓ \u001b[39m\u001b[90mGPUArrays\u001b[39m\n",
            "\u001b[32m  ✓ \u001b[39m\u001b[90mJLLWrappers\u001b[39m\n",
            "\u001b[32m  ✓ \u001b[39m\u001b[90mPooledArrays\u001b[39m\n",
            "\u001b[32m  ✓ \u001b[39m\u001b[90mMissings\u001b[39m\n",
            "\u001b[32m  ✓ \u001b[39m\u001b[90mNNlib\u001b[39m\n",
            "\u001b[32m  ✓ \u001b[39m\u001b[90mLogExpFunctions\u001b[39m\n",
            "\u001b[32m  ✓ \u001b[39m\u001b[90mStatic\u001b[39m\n",
            "\u001b[32m  ✓ \u001b[39m\u001b[90mDataValues\u001b[39m\n",
            "\u001b[32m  ✓ \u001b[39m\u001b[90mShowoff\u001b[39m\n",
            "\u001b[32m  ✓ \u001b[39m\u001b[90mChainRules\u001b[39m\n",
            "\u001b[32m  ✓ \u001b[39m\u001b[90mLatexify\u001b[39m\n",
            "\u001b[32m  ✓ \u001b[39m\u001b[90mHTTP\u001b[39m\n",
            "\u001b[32m  ✓ \u001b[39m\u001b[90mJuliaInterpreter\u001b[39m\n",
            "\u001b[32m  ✓ \u001b[39m\u001b[90mWeakRefStrings\u001b[39m\n",
            "\u001b[32m  ✓ \u001b[39m\u001b[90mSortingAlgorithms\u001b[39m\n",
            "\u001b[32m  ✓ \u001b[39m\u001b[90mQuadGK\u001b[39m\n",
            "\u001b[32m  ✓ \u001b[39m\u001b[90mJuno\u001b[39m\n",
            "\u001b[32m  ✓ \u001b[39m\u001b[90mTimeZones\u001b[39m\n",
            "\u001b[32m  ✓ \u001b[39m\u001b[90mContour\u001b[39m\n",
            "\u001b[32m  ✓ \u001b[39m\u001b[90mDiffResults\u001b[39m\n",
            "\u001b[32m  ✓ \u001b[39m\u001b[90mRandom123\u001b[39m\n",
            "\u001b[32m  ✓ \u001b[39m\u001b[90mTables\u001b[39m\n",
            "\u001b[32m  ✓ \u001b[39m\u001b[90mOpus_jll\u001b[39m\n",
            "\u001b[32m  ✓ \u001b[39m\u001b[90mPCRE_jll\u001b[39m\n",
            "\u001b[32m  ✓ \u001b[39m\u001b[90mXorg_libXdmcp_jll\u001b[39m\n",
            "\u001b[32m  ✓ \u001b[39m\u001b[90mColorTypes\u001b[39m\n",
            "\u001b[32m  ✓ \u001b[39m\u001b[90mZstd_jll\u001b[39m\n",
            "\u001b[32m  ✓ \u001b[39m\u001b[90mLibffi_jll\u001b[39m\n",
            "\u001b[32m  ✓ \u001b[39m\u001b[90mLZO_jll\u001b[39m\n",
            "\u001b[32m  ✓ \u001b[39m\u001b[90mlibpng_jll\u001b[39m\n",
            "\u001b[32m  ✓ \u001b[39m\u001b[90mXorg_xtrans_jll\u001b[39m\n",
            "\u001b[32m  ✓ \u001b[39m\u001b[90mLibmount_jll\u001b[39m\n",
            "\u001b[32m  ✓ \u001b[39m\u001b[90mLAME_jll\u001b[39m\n",
            "\u001b[32m  ✓ \u001b[39m\u001b[90mGraphite2_jll\u001b[39m\n",
            "\u001b[32m  ✓ \u001b[39m\u001b[90mXorg_libpthread_stubs_jll\u001b[39m\n",
            "\u001b[32m  ✓ \u001b[39m\u001b[90mLLVMExtra_jll\u001b[39m\n",
            "\u001b[32m  ✓ \u001b[39m\u001b[90mx264_jll\u001b[39m\n",
            "\u001b[32m  ✓ \u001b[39m\u001b[90mOpenSpecFun_jll\u001b[39m\n",
            "\u001b[32m  ✓ \u001b[39m\u001b[90mEarCut_jll\u001b[39m\n",
            "\u001b[32m  ✓ \u001b[39m\u001b[90mLibiconv_jll\u001b[39m\n",
            "\u001b[32m  ✓ \u001b[39m\u001b[90mJLD2\u001b[39m\n",
            "\u001b[32m  ✓ \u001b[39m\u001b[90mx265_jll\u001b[39m\n",
            "\u001b[32m  ✓ \u001b[39m\u001b[90mlibfdk_aac_jll\u001b[39m\n",
            "\u001b[32m  ✓ \u001b[39m\u001b[90mFriBidi_jll\u001b[39m\n",
            "\u001b[32m  ✓ \u001b[39m\u001b[90mRmath_jll\u001b[39m\n",
            "\u001b[32m  ✓ \u001b[39m\u001b[90mOpenSSL_jll\u001b[39m\n",
            "\u001b[32m  ✓ \u001b[39m\u001b[90mPixman_jll\u001b[39m\n",
            "\u001b[32m  ✓ \u001b[39m\u001b[90mExpat_jll\u001b[39m\n",
            "\u001b[32m  ✓ \u001b[39m\u001b[90mLibuuid_jll\u001b[39m\n",
            "\u001b[32m  ✓ \u001b[39m\u001b[90mXorg_libXau_jll\u001b[39m\n",
            "\u001b[32m  ✓ \u001b[39m\u001b[90mBzip2_jll\u001b[39m\n",
            "\u001b[32m  ✓ \u001b[39m\u001b[90mLibgpg_error_jll\u001b[39m\n",
            "\u001b[32m  ✓ \u001b[39m\u001b[90mJpegTurbo_jll\u001b[39m\n",
            "\u001b[32m  ✓ \u001b[39m\u001b[90mOgg_jll\u001b[39m\n",
            "\u001b[32m  ✓ \u001b[39m\u001b[90mArrayInterface\u001b[39m\n",
            "\u001b[32m  ✓ \u001b[39m\u001b[90mTableShowUtils\u001b[39m\n",
            "\u001b[32m  ✓ \u001b[39m\u001b[90mTableTraitsUtils\u001b[39m\n",
            "\u001b[32m  ✓ \u001b[39mStatsBase\n",
            "\u001b[32m  ✓ \u001b[39m\u001b[90mIntervals\u001b[39m\n",
            "\u001b[32m  ✓ \u001b[39m\u001b[90mLoweredCodeUtils\u001b[39m\n",
            "\u001b[32m  ✓ \u001b[39m\u001b[90mStructArrays\u001b[39m\n",
            "\u001b[32m  ✓ \u001b[39mPrettyTables\n",
            "\u001b[32m  ✓ \u001b[39m\u001b[90mColors\u001b[39m\n",
            "\u001b[32m  ✓ \u001b[39m\u001b[90mLLVM\u001b[39m\n",
            "\u001b[32m  ✓ \u001b[39mCSV\n",
            "\u001b[32m  ✓ \u001b[39m\u001b[90mSpecialFunctions\u001b[39m\n",
            "\u001b[32m  ✓ \u001b[39m\u001b[90mXML2_jll\u001b[39m\n",
            "\u001b[32m  ✓ \u001b[39mDrWatson\n",
            "\u001b[32m  ✓ \u001b[39m\u001b[90mRmath\u001b[39m\n",
            "\u001b[32m  ✓ \u001b[39m\u001b[90mFreeType2_jll\u001b[39m\n",
            "\u001b[32m  ✓ \u001b[39m\u001b[90mLibgcrypt_jll\u001b[39m\n",
            "\u001b[32m  ✓ \u001b[39m\u001b[90mLibtiff_jll\u001b[39m\n",
            "\u001b[32m  ✓ \u001b[39m\u001b[90mIterableTables\u001b[39m\n",
            "\u001b[32m  ✓ \u001b[39m\u001b[90mlibvorbis_jll\u001b[39m\n",
            "\u001b[32m  ✓ \u001b[39m\u001b[90mPolynomials\u001b[39m\n",
            "\u001b[32m  ✓ \u001b[39mRevise\n",
            "\u001b[32m  ✓ \u001b[39m\u001b[90mGeometryBasics\u001b[39m\n",
            "\u001b[32m  ✓ \u001b[39m\u001b[90mColorSchemes\u001b[39m\n",
            "\u001b[32m  ✓ \u001b[39m\u001b[90mGPUCompiler\u001b[39m\n",
            "\u001b[32m  ✓ \u001b[39m\u001b[90mDiffRules\u001b[39m\n",
            "\u001b[32m  ✓ \u001b[39m\u001b[90mWayland_jll\u001b[39m\n",
            "\u001b[32m  ✓ \u001b[39m\u001b[90mGettext_jll\u001b[39m\n",
            "\u001b[32m  ✓ \u001b[39m\u001b[90mFontconfig_jll\u001b[39m\n",
            "\u001b[32m  ✓ \u001b[39m\u001b[90mStatsFuns\u001b[39m\n",
            "\u001b[32m  ✓ \u001b[39m\u001b[90mXSLT_jll\u001b[39m\n",
            "\u001b[32m  ✓ \u001b[39m\u001b[90mDoubleFloats\u001b[39m\n",
            "\u001b[32m  ✓ \u001b[39m\u001b[90mPlotUtils\u001b[39m\n",
            "\u001b[32m  ✓ \u001b[39m\u001b[90mForwardDiff\u001b[39m\n",
            "\u001b[32m  ✓ \u001b[39m\u001b[90mWayland_protocols_jll\u001b[39m\n",
            "\u001b[32m  ✓ \u001b[39m\u001b[90mGlib_jll\u001b[39m\n",
            "\u001b[32m  ✓ \u001b[39mDistributions\n",
            "\u001b[32m  ✓ \u001b[39m\u001b[90mXorg_libxcb_jll\u001b[39m\n",
            "\u001b[32m  ✓ \u001b[39mDataFrames\n",
            "\u001b[32m  ✓ \u001b[39m\u001b[90mPlotThemes\u001b[39m\n",
            "\u001b[32m  ✓ \u001b[39m\u001b[90mTextParse\u001b[39m\n",
            "\u001b[32m  ✓ \u001b[39m\u001b[90mRecipesPipeline\u001b[39m\n",
            "\u001b[32m  ✓ \u001b[39m\u001b[90mXorg_xcb_util_jll\u001b[39m\n",
            "\u001b[32m  ✓ \u001b[39m\u001b[90mXorg_libX11_jll\u001b[39m\n",
            "\u001b[32m  ✓ \u001b[39mCSVFiles\n",
            "\u001b[32m  ✓ \u001b[39m\u001b[90mXorg_xcb_util_renderutil_jll\u001b[39m\n",
            "\u001b[32m  ✓ \u001b[39m\u001b[90mXorg_xcb_util_keysyms_jll\u001b[39m\n",
            "\u001b[32m  ✓ \u001b[39m\u001b[90mZygote\u001b[39m\n",
            "\u001b[32m  ✓ \u001b[39m\u001b[90mXorg_xcb_util_image_jll\u001b[39m\n",
            "\u001b[32m  ✓ \u001b[39m\u001b[90mXorg_xcb_util_wm_jll\u001b[39m\n",
            "\u001b[32m  ✓ \u001b[39m\u001b[90mXorg_libXfixes_jll\u001b[39m\n",
            "\u001b[32m  ✓ \u001b[39m\u001b[90mXorg_libXrender_jll\u001b[39m\n",
            "\u001b[32m  ✓ \u001b[39m\u001b[90mXorg_libXext_jll\u001b[39m\n",
            "\u001b[32m  ✓ \u001b[39m\u001b[90mXorg_libxkbfile_jll\u001b[39m\n",
            "\u001b[32m  ✓ \u001b[39m\u001b[90mXorg_libXcursor_jll\u001b[39m\n",
            "\u001b[32m  ✓ \u001b[39m\u001b[90mXorg_libXi_jll\u001b[39m\n",
            "\u001b[32m  ✓ \u001b[39m\u001b[90mXorg_libXrandr_jll\u001b[39m\n",
            "\u001b[32m  ✓ \u001b[39m\u001b[90mXorg_libXinerama_jll\u001b[39m\n",
            "\u001b[32m  ✓ \u001b[39m\u001b[90mCairo_jll\u001b[39m\n",
            "\u001b[32m  ✓ \u001b[39m\u001b[90mLibglvnd_jll\u001b[39m\n",
            "\u001b[32m  ✓ \u001b[39m\u001b[90mXorg_xkbcomp_jll\u001b[39m\n",
            "\u001b[32m  ✓ \u001b[39m\u001b[90mHarfBuzz_jll\u001b[39m\n",
            "\u001b[32m  ✓ \u001b[39m\u001b[90mCUDA\u001b[39m\n",
            "\u001b[32m  ✓ \u001b[39m\u001b[90mXorg_xkeyboard_config_jll\u001b[39m\n",
            "\u001b[32m  ✓ \u001b[39m\u001b[90mGLFW_jll\u001b[39m\n",
            "\u001b[32m  ✓ \u001b[39m\u001b[90mlibass_jll\u001b[39m\n",
            "\u001b[32m  ✓ \u001b[39m\u001b[90mxkbcommon_jll\u001b[39m\n",
            "\u001b[32m  ✓ \u001b[39m\u001b[90mFFMPEG_jll\u001b[39m\n",
            "\u001b[32m  ✓ \u001b[39m\u001b[90mQt5Base_jll\u001b[39m\n",
            "\u001b[32m  ✓ \u001b[39m\u001b[90mFFMPEG\u001b[39m\n",
            "\u001b[32m  ✓ \u001b[39m\u001b[90mGR_jll\u001b[39m\n",
            "\u001b[32m  ✓ \u001b[39m\u001b[90mNNlibCUDA\u001b[39m\n",
            "\u001b[32m  ✓ \u001b[39m\u001b[90mGR\u001b[39m\n",
            "\u001b[32m  ✓ \u001b[39mFlux\n",
            "\u001b[32m  ✓ \u001b[39mPlots\n",
            "183 dependencies successfully precompiled in 357 seconds (14 already precompiled)\n"
          ]
        }
      ]
    },
    {
      "cell_type": "code",
      "source": [
        "# check that working directory is \"/content/Ventilator/Ventilator.jl\"\n",
        "pwd()"
      ],
      "metadata": {
        "colab": {
          "base_uri": "https://localhost:8080/"
        },
        "id": "QJK3Z-IPIJCY",
        "outputId": "ed5a81e1-eec5-4b23-e1c2-75bc77f2fcdb"
      },
      "execution_count": 6,
      "outputs": [
        {
          "output_type": "execute_result",
          "data": {
            "text/plain": [
              "\"/content/Ventilator/Ventilator.jl\""
            ]
          },
          "metadata": {},
          "execution_count": 6
        }
      ]
    },
    {
      "cell_type": "markdown",
      "source": [
        "Now we can finally start the demo. Sorry for the inconvenience. I hope you will like what comes next."
      ],
      "metadata": {
        "id": "0b-nr8vvPeqC"
      }
    },
    {
      "cell_type": "markdown",
      "source": [
        "# DEMO HERE\n",
        "\n",
        "Be aware, that this is really just a demo. This notebook shows how one of the models created works. It will walk you through packages, data preparation, loss and other functions, and training. Only a subset of data is used (2k out of 75k training sequences), therefore results probably will not be amazing. Everything is run only on CPU.\n",
        "\n",
        "The author's advice is to go through the repository and the whole `Ventilator.jl` folder. README files are prepared to explain everything and the code itself should be fairly readable.\n",
        "\n",
        "Now, enjoy and hopefully you'll like what you will see.\n",
        "\n",
        "## Load packages\n",
        "\n",
        "First, we need to load necessary packages. Notice that we also need the package Ventilator.jl containing all source files."
      ],
      "metadata": {
        "id": "f8F38uggIpgQ"
      }
    },
    {
      "cell_type": "code",
      "source": [
        "using DrWatson\n",
        "@quickactivate\n",
        "using Ventilator\n",
        "using Flux\n",
        "using Base.Iterators: repeated\n",
        "using Flux: throttle, @epochs, mae, mse\n",
        "using StatsBase\n",
        "\n",
        "using CSV, DataFrames, Random"
      ],
      "metadata": {
        "id": "CkpHry1uIoi2",
        "colab": {
          "base_uri": "https://localhost:8080/"
        },
        "outputId": "d84d0da2-cc3b-4cee-9400-c054103e9bb9"
      },
      "execution_count": 7,
      "outputs": [
        {
          "output_type": "stream",
          "name": "stderr",
          "text": [
            "┌ Info: Precompiling Ventilator [fe13d34f-9972-5c65-b63e-177dafd16705]\n",
            "└ @ Base loading.jl:1317\n",
            "\u001b[33m\u001b[1m┌ \u001b[22m\u001b[39m\u001b[33m\u001b[1mWarning: \u001b[22m\u001b[39mPackage Ventilator does not have Random in its dependencies:\n",
            "\u001b[33m\u001b[1m│ \u001b[22m\u001b[39m- If you have Ventilator checked out for development and have\n",
            "\u001b[33m\u001b[1m│ \u001b[22m\u001b[39m  added Random as a dependency but haven't updated your primary\n",
            "\u001b[33m\u001b[1m│ \u001b[22m\u001b[39m  environment's manifest file, try `Pkg.resolve()`.\n",
            "\u001b[33m\u001b[1m│ \u001b[22m\u001b[39m- Otherwise you may need to report an issue with Ventilator\n",
            "\u001b[33m\u001b[1m└ \u001b[22m\u001b[39mLoading Random into Ventilator from project dependency, future warnings for Ventilator are suppressed.\n"
          ]
        }
      ]
    },
    {
      "cell_type": "markdown",
      "source": [
        "Now, we need a function which will load the data and prepare them. Two functions are used, `load_data_RC` which loads data and splits them by combination of R, C. And `train_val_test_split` which splits our data to train, validation and test dataset."
      ],
      "metadata": {
        "id": "Htd5riquI9ez"
      }
    },
    {
      "cell_type": "code",
      "source": [
        "\n",
        "\"\"\"\n",
        "    load_data_RC(;seed=nothing, vars::Vector{Symbol}=[:time_step, :u_in, :u_out, :R, :C], rnn = true)\n",
        "\n",
        "Loads the `train.csv` dataset and groups the data based on the combination of R, C.\n",
        "Creates a dataset as a dictionary with keys being `Symbol(\"R=R, C=C)`. Each key\n",
        "value is another dictionary with keys being `:train, :val, :test, B`. Each key has\n",
        "data as value, train, val and test have Tuple of (X, Y) and B has a Tuple of u_out\n",
        "binary vectors for train, val and test data.\n",
        "\"\"\"\n",
        "function load_data_RC(;seed=nothing, vars::Vector{Symbol}=[:time_step, :u_in, :u_out, :R, :C], rnn = true)\n",
        "    data = CSV.read(datadir(\"subset.csv\"), DataFrame)\n",
        "    RC_groups = groupby(data, [:R, :C])\n",
        "\n",
        "    dataset = Dict()\n",
        "    for g in RC_groups\n",
        "        df = g |> DataFrame\n",
        "        train, val, test, B = train_val_test_split(df; seed = seed, vars = vars, rnn = rnn)\n",
        "        k = Symbol(\"R=$(g[1,:R]), C=$(g[1,:C])\")\n",
        "        d = Dict(\n",
        "            :train => train,\n",
        "            :val => val,\n",
        "            :test => test,\n",
        "            :B => B\n",
        "        )\n",
        "        push!(dataset, k => d)\n",
        "    end\n",
        "\n",
        "    return dataset\n",
        "end\n",
        "\n",
        "\n",
        "\"\"\"\n",
        "    train_val_test_split(df::DataFrame; seed=nothing, vars::Vector{Symbol}=[:time_step, :u_in, :u_out, :R, :C], rnn=false)\n",
        "\n",
        "Divides the data to train/validation/test splits of 0.8:0.1:0.1 ratios.\n",
        "\"\"\"\n",
        "function train_val_test_split(df::DataFrame; seed=nothing, vars::Vector{Symbol}=[:time_step, :u_in, :u_out, :R, :C], rnn=false)\n",
        "    # group by breath_id\n",
        "    groups = groupby(df, :breath_id)\n",
        "\n",
        "    # allocate vectors\n",
        "    if rnn\n",
        "        X_data, P_data, B_data = Vector{Vector{Float32}}[], Vector{Vector{Float32}}[], Array{Float32,2}[]\n",
        "    else\n",
        "        X_data, P_data, B_data = Array{Float32,2}[], Array{Float32,2}[], Array{Float32,2}[]\n",
        "    end\n",
        "\n",
        "    for g in groups\n",
        "        # the feature engineering part\n",
        "        _x = collect(g[!, vars] |> Array |> transpose)\n",
        "        xf0, x0 = pool_feature_add(_x; u = 0)\n",
        "        xf1, x1 = pool_feature_add(_x; u = 1)\n",
        "        xfull = vcat(hcat(x0,x1), xf0, xf1)\n",
        "\n",
        "        # pressure values\n",
        "        p = collect(g[:, :pressure]')\n",
        "\n",
        "        # push to allocated vectors\n",
        "        if rnn\n",
        "            push!(X_data, [xi for xi in eachcol(xfull)])\n",
        "            push!(P_data, [pi for pi in eachcol(p)])\n",
        "        else\n",
        "            push!(X_data, xfull)\n",
        "            push!(P_data, p)\n",
        "        end\n",
        "\n",
        "        b = collect(g[:, :u_out]')\n",
        "        push!(B_data, b)\n",
        "    end\n",
        "\n",
        "    # get lengths of train/val/test data\n",
        "    n = length(groups)\n",
        "    n1 = round(Int, n*0.8)\n",
        "    n2 = (n - n1) ÷ 2\n",
        "\n",
        "    # set seed\n",
        "    (seed == nothing) ? nothing : Random.seed!(seed)\n",
        "\n",
        "    # randomly sample indexes\n",
        "    idx = sample(1:n, n, replace=false)\n",
        "    tix, val_ix, test_ix = idx[1:n1], idx[n1+1:n1+n2], idx[n1+n2+1:end]\n",
        "\n",
        "    # split data\n",
        "    X_train, P_train, B_train = X_data[tix], P_data[tix], B_data[tix]\n",
        "    X_val, P_val, B_val = X_data[val_ix], P_data[val_ix], B_data[val_ix]\n",
        "    X_test, P_test, B_test = X_data[test_ix], P_data[test_ix], B_data[test_ix]\n",
        "\n",
        "    # reset seed\n",
        "\t(seed !== nothing) ? Random.seed!() : nothing\n",
        "\n",
        "    return (X_train, P_train), (X_val, P_val), (X_test, P_test), (B_train, B_val, B_test)\n",
        "end"
      ],
      "metadata": {
        "colab": {
          "base_uri": "https://localhost:8080/"
        },
        "id": "9yH6w4FYJQzS",
        "outputId": "526abb1c-1636-4210-8dc9-0e866345cc10"
      },
      "execution_count": 8,
      "outputs": [
        {
          "output_type": "execute_result",
          "data": {
            "text/plain": [
              "train_val_test_split"
            ]
          },
          "metadata": {},
          "execution_count": 8
        }
      ]
    },
    {
      "cell_type": "markdown",
      "source": [
        "Now that we have the functions, we can load the dataset."
      ],
      "metadata": {
        "id": "OJLgoHYGJS0w"
      }
    },
    {
      "cell_type": "code",
      "source": [
        "seed = 1\n",
        "dataset = load_data_RC(;seed = seed)\n",
        "@info \"Data loaded.\""
      ],
      "metadata": {
        "id": "uR8bD_H6JX9d",
        "colab": {
          "base_uri": "https://localhost:8080/"
        },
        "outputId": "e5c7e3a0-f646-4a35-96a6-eba3b5aaec0f"
      },
      "execution_count": 11,
      "outputs": [
        {
          "output_type": "stream",
          "name": "stderr",
          "text": [
            "┌ Info: Data loaded.\n",
            "└ @ Main In[11]:3\n"
          ]
        }
      ]
    },
    {
      "cell_type": "markdown",
      "source": [
        "## Preparation\n",
        "\n",
        "New, we need to sample parameters and create loss functions, prediction function and score functions."
      ],
      "metadata": {
        "id": "l4YPvRoVJZFN"
      }
    },
    {
      "cell_type": "code",
      "source": [
        "# function to sample parameters\n",
        "function sample_params()\n",
        "    par_vec = (2 .^ [5,6,7,8,9], 1:4, 1:4, [\"swish\", \"relu\", \"elu\"], [\"LSTM\", \"GRU\"])\n",
        "    argnames = (:hdim, :rnn_layers, :dense_layers, :activation, :rnn_cell)\n",
        "    parameters = (;zip(argnames, map(x->sample(x, 1)[1], par_vec))...)\n",
        "    return parameters\n",
        "end\n",
        "\n",
        "# loss function\n",
        "function lossf(model, x, y)\n",
        "    Flux.reset!(model)\n",
        "    mean(Flux.mae(model(xi), yi) for (xi, yi) in zip(x, y))\n",
        "end\n",
        "\n",
        "# function to predict pressure\n",
        "function predict(model, x)\n",
        "    Flux.reset!(model)\n",
        "    vcat([model(xi) for xi in x]...)\n",
        "end\n",
        "\n",
        "# function to score model\n",
        "function score_model(model, x, p, b)\n",
        "    b = reshape(b, 80)\n",
        "    Flux.mae(predict(model, x)[b .== 0], vcat(p...)[b .== 0])\n",
        "end"
      ],
      "metadata": {
        "colab": {
          "base_uri": "https://localhost:8080/"
        },
        "id": "65636N4RJgn8",
        "outputId": "18873bb2-e481-4f98-d435-e9aaa685422b"
      },
      "execution_count": 9,
      "outputs": [
        {
          "output_type": "execute_result",
          "data": {
            "text/plain": [
              "score_model (generic function with 1 method)"
            ]
          },
          "metadata": {},
          "execution_count": 9
        }
      ]
    },
    {
      "cell_type": "markdown",
      "source": [
        "With the functions created we can define the model. We can sample the parameters with the commented line, but will not do so to generate a simple model which will be trained more quickly."
      ],
      "metadata": {
        "id": "TBv4I58PJjaA"
      }
    },
    {
      "cell_type": "code",
      "source": [
        "# sample parameters and create model\n",
        "d = dataset[Symbol(\"R=5, C=20\")][:train][1];\n",
        "idim = size(d[1][1],1)\n",
        "# pvec = sample_params()\n",
        "pvec = (hdim = 32, rnn_layers = 1, dense_layers = 1, activation = \"relu\", rnn_cell = \"LSTM\")\n",
        "# create one model\n",
        "model = rnn_constructor(;idim = idim, odim = 1, pvec...)\n",
        "# deepcopy it 9 times (number of unique [R, C])\n",
        "models = Dict([(k, deepcopy(model)) for (i,k) in enumerate(keys(dataset))])\n",
        "\n",
        "# get keys to have them enumerated\n",
        "ks = Dict([(i,k) for (i,k) in enumerate(keys(dataset))])\n",
        "\n",
        "# now we need 9 optimizers (one for each model)\n",
        "opts = Dict([(k, ADAM()) for k in keys(dataset)])"
      ],
      "metadata": {
        "colab": {
          "base_uri": "https://localhost:8080/"
        },
        "id": "26QqXmk6Juot",
        "outputId": "adacfef2-f46b-41b9-e2ff-7fe58a8398b0"
      },
      "execution_count": 12,
      "outputs": [
        {
          "output_type": "execute_result",
          "data": {
            "text/plain": [
              "Dict{Symbol, ADAM} with 9 entries:\n",
              "  Symbol(\"R=5, C=20\")  => ADAM(0.001, (0.9, 0.999), IdDict{Any, Any}())\n",
              "  Symbol(\"R=50, C=20\") => ADAM(0.001, (0.9, 0.999), IdDict{Any, Any}())\n",
              "  Symbol(\"R=5, C=10\")  => ADAM(0.001, (0.9, 0.999), IdDict{Any, Any}())\n",
              "  Symbol(\"R=20, C=50\") => ADAM(0.001, (0.9, 0.999), IdDict{Any, Any}())\n",
              "  Symbol(\"R=20, C=10\") => ADAM(0.001, (0.9, 0.999), IdDict{Any, Any}())\n",
              "  Symbol(\"R=50, C=50\") => ADAM(0.001, (0.9, 0.999), IdDict{Any, Any}())\n",
              "  Symbol(\"R=20, C=20\") => ADAM(0.001, (0.9, 0.999), IdDict{Any, Any}())\n",
              "  Symbol(\"R=5, C=50\")  => ADAM(0.001, (0.9, 0.999), IdDict{Any, Any}())\n",
              "  Symbol(\"R=50, C=10\") => ADAM(0.001, (0.9, 0.999), IdDict{Any, Any}())"
            ]
          },
          "metadata": {},
          "execution_count": 12
        }
      ]
    },
    {
      "cell_type": "markdown",
      "source": [
        "## Training\n",
        "\n",
        "We already have everything we need, now just to a training loop. First, we define some convenience variables to save best scores and best models and define for how long we want the model to train with `max_train_time`. Feel free to change this, it is a training time in seconds."
      ],
      "metadata": {
        "id": "ORuu-yycKKos"
      }
    },
    {
      "cell_type": "code",
      "source": [
        "# prerequisities for training\n",
        "best_val_scores = Dict([(k, Inf) for k in keys(dataset)])\n",
        "best_models = deepcopy(models)\n",
        "max_train_time = 60*5 # 5 minutes\n",
        "epoch = 1\n",
        "\n",
        "# and now to the training\n",
        "@info \"Starting training.\"\n",
        "start_time = time()\n",
        "while true\n",
        "    better = false\n",
        "    # use multithreading on more CPU cores\n",
        "    Threads.@threads for i in 1:9\n",
        "    # for i in 1:9\n",
        "        # get data based on key\n",
        "        X, Y = dataset[ks[i]][:train]\n",
        "        \n",
        "        # model & optimiser based on key\n",
        "        m = models[ks[i]]\n",
        "        opt = opts[ks[i]]\n",
        "\n",
        "        # loss function with chosen model\n",
        "        loss(x, y) = lossf(m, x, y)\n",
        "        \n",
        "        # parameters\n",
        "        ps = Flux.params(m)\n",
        "    \n",
        "        # sample batch and train\n",
        "        batch = RandomBatch(X, Y)\n",
        "        Flux.train!(loss, ps, repeated((batch[1], batch[2]), 5), opt)\n",
        "\n",
        "        # validation score\n",
        "        Xv, Yv = dataset[ks[i]][:val]\n",
        "        Bv = dataset[ks[i]][:B][2]\n",
        "\n",
        "        val_score = mean(map((x, y, b) -> score_model(m, x, y, b), Xv, Yv, Bv))\n",
        "\n",
        "        if val_score < best_val_scores[ks[i]]\n",
        "            best_models[ks[i]] = deepcopy(m)\n",
        "            best_val_scores[ks[i]] = val_score\n",
        "            better = true\n",
        "        end\n",
        "    end\n",
        "\n",
        "    # print best scores if some scores changed\n",
        "    if better\n",
        "        for (key, v) in best_val_scores\n",
        "            println(\"key: $key, score = $(round(v, digits=3))\")\n",
        "        end\n",
        "        validation_losses = round(mean(values(best_val_scores)), digits=4)\n",
        "        @show epoch validation_losses\n",
        "    end\n",
        "    global epoch += 1\n",
        "    \n",
        "    # stop when training time is exceeded\n",
        "    if (time() - start_time > max_train_time)\n",
        "        @info \"Stopped training, time limit exceeded.\"\n",
        "        break\n",
        "    end\n",
        "end"
      ],
      "metadata": {
        "id": "74TSYFNhKeCq",
        "colab": {
          "base_uri": "https://localhost:8080/"
        },
        "outputId": "5101190a-e070-4540-f210-5d553dfd3115"
      },
      "execution_count": 19,
      "outputs": [
        {
          "output_type": "stream",
          "name": "stderr",
          "text": [
            "┌ Info: Starting training.\n",
            "└ @ Main In[19]:8\n"
          ]
        },
        {
          "output_type": "stream",
          "name": "stdout",
          "text": [
            "key: R=5, C=20, score = 16.246\n",
            "key: R=50, C=20, score = 14.191\n",
            "key: R=5, C=10, score = 19.173\n",
            "key: R=20, C=50, score = 14.192\n",
            "key: R=20, C=10, score = 19.735\n",
            "key: R=50, C=50, score = 17.54\n",
            "key: R=20, C=20, score = 16.586\n",
            "key: R=5, C=50, score = 13.594\n",
            "key: R=50, C=10, score = 15.561\n",
            "epoch = 1\n",
            "validation_losses = 16.3131\n",
            "key: R=5, C=20, score = 15.921\n",
            "key: R=50, C=20, score = 13.725\n",
            "key: R=5, C=10, score = 18.817\n",
            "key: R=20, C=50, score = 13.783\n",
            "key: R=20, C=10, score = 19.356\n",
            "key: R=50, C=50, score = 17.097\n",
            "key: R=20, C=20, score = 16.209\n",
            "key: R=5, C=50, score = 13.197\n",
            "key: R=50, C=10, score = 15.084\n",
            "epoch = 2\n",
            "validation_losses = 15.9098\n",
            "key: R=5, C=20, score = 15.527\n",
            "key: R=50, C=20, score = 13.248\n",
            "key: R=5, C=10, score = 18.444\n",
            "key: R=20, C=50, score = 13.355\n",
            "key: R=20, C=10, score = 18.944\n",
            "key: R=50, C=50, score = 16.6\n",
            "key: R=20, C=20, score = 15.773\n",
            "key: R=5, C=50, score = 12.756\n",
            "key: R=50, C=10, score = 14.584\n",
            "epoch = 3\n",
            "validation_losses = 15.47\n",
            "key: R=5, C=20, score = 15.057\n",
            "key: R=50, C=20, score = 12.757\n",
            "key: R=5, C=10, score = 18.082\n",
            "key: R=20, C=50, score = 12.867\n",
            "key: R=20, C=10, score = 18.429\n",
            "key: R=50, C=50, score = 16.076\n",
            "key: R=20, C=20, score = 15.257\n",
            "key: R=5, C=50, score = 12.261\n",
            "key: R=50, C=10, score = 14.134\n",
            "epoch = 4\n",
            "validation_losses = 14.9912\n",
            "key: R=5, C=20, score = 14.476\n",
            "key: R=50, C=20, score = 12.266\n",
            "key: R=5, C=10, score = 17.611\n",
            "key: R=20, C=50, score = 12.31\n",
            "key: R=20, C=10, score = 17.82\n",
            "key: R=50, C=50, score = 15.529\n",
            "key: R=20, C=20, score = 14.643\n",
            "key: R=5, C=50, score = 11.625\n",
            "key: R=50, C=10, score = 13.713\n",
            "epoch = 5\n",
            "validation_losses = 14.4437\n",
            "key: R=5, C=20, score = 13.881\n",
            "key: R=50, C=20, score = 11.81\n",
            "key: R=5, C=10, score = 17.009\n",
            "key: R=20, C=50, score = 11.674\n",
            "key: R=20, C=10, score = 17.25\n",
            "key: R=50, C=50, score = 15.064\n",
            "key: R=20, C=20, score = 14.066\n",
            "key: R=5, C=50, score = 10.973\n",
            "key: R=50, C=10, score = 13.28\n",
            "epoch = 6\n",
            "validation_losses = 13.8896\n",
            "key: R=5, C=20, score = 13.28\n",
            "key: R=50, C=20, score = 11.341\n",
            "key: R=5, C=10, score = 16.463\n",
            "key: R=20, C=50, score = 11.088\n",
            "key: R=20, C=10, score = 16.682\n",
            "key: R=50, C=50, score = 14.6\n",
            "key: R=20, C=20, score = 13.555\n",
            "key: R=5, C=50, score = 10.242\n",
            "key: R=50, C=10, score = 12.845\n",
            "epoch = 7\n",
            "validation_losses = 13.3441\n",
            "key: R=5, C=20, score = 12.763\n",
            "key: R=50, C=20, score = 10.94\n",
            "key: R=5, C=10, score = 16.036\n",
            "key: R=20, C=50, score = 10.563\n",
            "key: R=20, C=10, score = 16.152\n",
            "key: R=50, C=50, score = 14.211\n",
            "key: R=20, C=20, score = 13.116\n",
            "key: R=5, C=50, score = 9.815\n",
            "key: R=50, C=10, score = 12.433\n",
            "epoch = 8\n",
            "validation_losses = 12.8922\n",
            "key: R=5, C=20, score = 12.449\n",
            "key: R=50, C=20, score = 10.544\n",
            "key: R=5, C=10, score = 15.656\n",
            "key: R=20, C=50, score = 10.144\n",
            "key: R=20, C=10, score = 15.741\n",
            "key: R=50, C=50, score = 13.849\n",
            "key: R=20, C=20, score = 12.784\n",
            "key: R=5, C=50, score = 9.507\n",
            "key: R=50, C=10, score = 12.141\n",
            "epoch = 9\n",
            "validation_losses = 12.535\n",
            "key: R=5, C=20, score = 12.162\n",
            "key: R=50, C=20, score = 10.251\n",
            "key: R=5, C=10, score = 15.336\n",
            "key: R=20, C=50, score = 9.805\n",
            "key: R=20, C=10, score = 15.418\n",
            "key: R=50, C=50, score = 13.604\n",
            "key: R=20, C=20, score = 12.474\n",
            "key: R=5, C=50, score = 9.239\n",
            "key: R=50, C=10, score = 11.97\n",
            "epoch = 10\n",
            "validation_losses = 12.2511\n",
            "key: R=5, C=20, score = 11.893\n",
            "key: R=50, C=20, score = 9.989\n",
            "key: R=5, C=10, score = 15.053\n",
            "key: R=20, C=50, score = 9.535\n",
            "key: R=20, C=10, score = 15.189\n",
            "key: R=50, C=50, score = 13.456\n",
            "key: R=20, C=20, score = 12.205\n",
            "key: R=5, C=50, score = 8.941\n",
            "key: R=50, C=10, score = 11.872\n",
            "epoch = 11\n",
            "validation_losses = 12.0147\n",
            "key: R=5, C=20, score = 11.598\n",
            "key: R=50, C=20, score = 9.832\n",
            "key: R=5, C=10, score = 14.814\n",
            "key: R=20, C=50, score = 9.369\n",
            "key: R=20, C=10, score = 14.997\n",
            "key: R=50, C=50, score = 13.356\n",
            "key: R=20, C=20, score = 11.961\n",
            "key: R=5, C=50, score = 8.737\n",
            "key: R=50, C=10, score = 11.804\n",
            "epoch = 12\n",
            "validation_losses = 11.8297\n",
            "key: R=5, C=20, score = 11.335\n",
            "key: R=50, C=20, score = 9.729\n",
            "key: R=5, C=10, score = 14.576\n",
            "key: R=20, C=50, score = 9.205\n",
            "key: R=20, C=10, score = 14.866\n",
            "key: R=50, C=50, score = 13.289\n",
            "key: R=20, C=20, score = 11.841\n",
            "key: R=5, C=50, score = 8.601\n",
            "key: R=50, C=10, score = 11.758\n",
            "epoch = 13\n",
            "validation_losses = 11.6888\n",
            "key: R=5, C=20, score = 11.122\n",
            "key: R=50, C=20, score = 9.642\n",
            "key: R=5, C=10, score = 14.397\n",
            "key: R=20, C=50, score = 9.043\n",
            "key: R=20, C=10, score = 14.709\n",
            "key: R=50, C=50, score = 13.235\n",
            "key: R=20, C=20, score = 11.687\n",
            "key: R=5, C=50, score = 8.451\n",
            "key: R=50, C=10, score = 11.707\n",
            "epoch = 14\n",
            "validation_losses = 11.5548\n",
            "key: R=5, C=20, score = 10.937\n",
            "key: R=50, C=20, score = 9.575\n",
            "key: R=5, C=10, score = 14.22\n",
            "key: R=20, C=50, score = 8.953\n",
            "key: R=20, C=10, score = 14.61\n",
            "key: R=50, C=50, score = 13.152\n",
            "key: R=20, C=20, score = 11.587\n",
            "key: R=5, C=50, score = 8.305\n",
            "key: R=50, C=10, score = 11.658\n",
            "epoch = 15\n",
            "validation_losses = 11.4441\n",
            "key: R=5, C=20, score = 10.741\n",
            "key: R=50, C=20, score = 9.536\n",
            "key: R=5, C=10, score = 14.126\n",
            "key: R=20, C=50, score = 8.909\n",
            "key: R=20, C=10, score = 14.491\n",
            "key: R=50, C=50, score = 13.121\n",
            "key: R=20, C=20, score = 11.462\n",
            "key: R=5, C=50, score = 8.16\n",
            "key: R=50, C=10, score = 11.626\n",
            "epoch = 16\n",
            "validation_losses = 11.3525\n",
            "key: R=5, C=20, score = 10.537\n",
            "key: R=50, C=20, score = 9.502\n",
            "key: R=5, C=10, score = 14.044\n",
            "key: R=20, C=50, score = 8.831\n",
            "key: R=20, C=10, score = 14.408\n",
            "key: R=50, C=50, score = 13.072\n",
            "key: R=20, C=20, score = 11.415\n",
            "key: R=5, C=50, score = 8.069\n",
            "key: R=50, C=10, score = 11.619\n",
            "epoch = 17\n",
            "validation_losses = 11.2775\n",
            "key: R=5, C=20, score = 10.424\n",
            "key: R=50, C=20, score = 9.476\n",
            "key: R=5, C=10, score = 14.015\n",
            "key: R=20, C=50, score = 8.767\n",
            "key: R=20, C=10, score = 14.402\n",
            "key: R=50, C=50, score = 13.034\n",
            "key: R=20, C=20, score = 11.392\n",
            "key: R=5, C=50, score = 8.018\n",
            "key: R=50, C=10, score = 11.613\n",
            "epoch = 18\n",
            "validation_losses = 11.2378\n",
            "key: R=5, C=20, score = 10.326\n",
            "key: R=50, C=20, score = 9.463\n",
            "key: R=5, C=10, score = 13.976\n",
            "key: R=20, C=50, score = 8.736\n",
            "key: R=20, C=10, score = 14.402\n",
            "key: R=50, C=50, score = 12.997\n",
            "key: R=20, C=20, score = 11.386\n",
            "key: R=5, C=50, score = 7.966\n",
            "key: R=50, C=10, score = 11.608\n",
            "epoch = 19\n",
            "validation_losses = 11.2065\n",
            "key: R=5, C=20, score = 10.255\n",
            "key: R=50, C=20, score = 9.458\n",
            "key: R=5, C=10, score = 13.946\n",
            "key: R=20, C=50, score = 8.699\n",
            "key: R=20, C=10, score = 14.402\n",
            "key: R=50, C=50, score = 12.932\n",
            "key: R=20, C=20, score = 11.379\n",
            "key: R=5, C=50, score = 7.924\n",
            "key: R=50, C=10, score = 11.608\n",
            "epoch = 20\n",
            "validation_losses = 11.1781\n",
            "key: R=5, C=20, score = 10.204\n",
            "key: R=50, C=20, score = 9.458\n",
            "key: R=5, C=10, score = 13.918\n",
            "key: R=20, C=50, score = 8.695\n",
            "key: R=20, C=10, score = 14.402\n",
            "key: R=50, C=50, score = 12.852\n",
            "key: R=20, C=20, score = 11.37\n",
            "key: R=5, C=50, score = 7.87\n",
            "key: R=50, C=10, score = 11.608\n",
            "epoch = 21\n",
            "validation_losses = 11.153\n",
            "key: R=5, C=20, score = 10.157\n",
            "key: R=50, C=20, score = 9.458\n",
            "key: R=5, C=10, score = 13.899\n",
            "key: R=20, C=50, score = 8.695\n",
            "key: R=20, C=10, score = 14.402\n",
            "key: R=50, C=50, score = 12.786\n",
            "key: R=20, C=20, score = 11.352\n",
            "key: R=5, C=50, score = 7.82\n",
            "key: R=50, C=10, score = 11.608\n",
            "epoch = 22\n",
            "validation_losses = 11.1307\n",
            "key: R=5, C=20, score = 10.123\n",
            "key: R=50, C=20, score = 9.458\n",
            "key: R=5, C=10, score = 13.882\n",
            "key: R=20, C=50, score = 8.694\n",
            "key: R=20, C=10, score = 14.402\n",
            "key: R=50, C=50, score = 12.724\n",
            "key: R=20, C=20, score = 11.34\n",
            "key: R=5, C=50, score = 7.786\n",
            "key: R=50, C=10, score = 11.601\n",
            "epoch = 23\n",
            "validation_losses = 11.1123\n",
            "key: R=5, C=20, score = 10.1\n",
            "key: R=50, C=20, score = 9.458\n",
            "key: R=5, C=10, score = 13.866\n",
            "key: R=20, C=50, score = 8.653\n",
            "key: R=20, C=10, score = 14.402\n",
            "key: R=50, C=50, score = 12.69\n",
            "key: R=20, C=20, score = 11.323\n",
            "key: R=5, C=50, score = 7.754\n",
            "key: R=50, C=10, score = 11.586\n",
            "epoch = 24\n",
            "validation_losses = 11.0925\n",
            "key: R=5, C=20, score = 10.085\n",
            "key: R=50, C=20, score = 9.458\n",
            "key: R=5, C=10, score = 13.866\n",
            "key: R=20, C=50, score = 8.634\n",
            "key: R=20, C=10, score = 14.402\n",
            "key: R=50, C=50, score = 12.67\n",
            "key: R=20, C=20, score = 11.306\n",
            "key: R=5, C=50, score = 7.716\n",
            "key: R=50, C=10, score = 11.586\n",
            "epoch = 25\n",
            "validation_losses = 11.0804\n",
            "key: R=5, C=20, score = 10.085\n",
            "key: R=50, C=20, score = 9.458\n",
            "key: R=5, C=10, score = 13.866\n",
            "key: R=20, C=50, score = 8.618\n",
            "key: R=20, C=10, score = 14.402\n",
            "key: R=50, C=50, score = 12.657\n",
            "key: R=20, C=20, score = 11.29\n",
            "key: R=5, C=50, score = 7.661\n",
            "key: R=50, C=10, score = 11.574\n",
            "epoch = 26\n",
            "validation_losses = 11.0679\n",
            "key: R=5, C=20, score = 10.085\n",
            "key: R=50, C=20, score = 9.458\n",
            "key: R=5, C=10, score = 13.866\n",
            "key: R=20, C=50, score = 8.611\n",
            "key: R=20, C=10, score = 14.402\n",
            "key: R=50, C=50, score = 12.642\n",
            "key: R=20, C=20, score = 11.264\n",
            "key: R=5, C=50, score = 7.625\n",
            "key: R=50, C=10, score = 11.535\n",
            "epoch = 27\n",
            "validation_losses = 11.0544\n",
            "key: R=5, C=20, score = 10.074\n",
            "key: R=50, C=20, score = 9.458\n",
            "key: R=5, C=10, score = 13.866\n",
            "key: R=20, C=50, score = 8.607\n",
            "key: R=20, C=10, score = 14.402\n",
            "key: R=50, C=50, score = 12.603\n",
            "key: R=20, C=20, score = 11.247\n",
            "key: R=5, C=50, score = 7.594\n",
            "key: R=50, C=10, score = 11.529\n",
            "epoch = 28\n",
            "validation_losses = 11.0421\n",
            "key: R=5, C=20, score = 9.952\n",
            "key: R=50, C=20, score = 9.458\n",
            "key: R=5, C=10, score = 13.866\n",
            "key: R=20, C=50, score = 8.6\n",
            "key: R=20, C=10, score = 14.402\n",
            "key: R=50, C=50, score = 12.573\n",
            "key: R=20, C=20, score = 11.238\n",
            "key: R=5, C=50, score = 7.577\n",
            "key: R=50, C=10, score = 11.509\n",
            "epoch = 29\n",
            "validation_losses = 11.0194\n"
          ]
        },
        {
          "output_type": "stream",
          "name": "stderr",
          "text": [
            "┌ Info: Stopped training, time limit exceeded.\n",
            "└ @ Main In[19]:57\n"
          ]
        }
      ]
    },
    {
      "cell_type": "markdown",
      "source": [
        "## Evaluation\n",
        "\n",
        "Let's define a function to get score for data and use it to calculate the scores."
      ],
      "metadata": {
        "id": "cZbCr9UuUj8o"
      }
    },
    {
      "cell_type": "code",
      "source": [
        "\"\"\"\n",
        "    get_scores(dataset, models, ks, type::Symbol=:val)\n",
        "\n",
        "Calculates the scores for all models and all 9 subsets of datasets.\n",
        "Variable `type` controls whether to use train, validation or test data.\n",
        "Returns a vector of scores (without R, C combination).\n",
        "\"\"\"\n",
        "function get_scores(dataset, models, ks, type::Symbol=:val)\n",
        "    scores = Dict([(k, 0f0) for k in keys(dataset)])\n",
        "    \n",
        "    Threads.@threads for i in 1:9\n",
        "        # model based on key\n",
        "        m = models[ks[i]]\n",
        "\n",
        "        # score\n",
        "        Xv, Yv = dataset[ks[i]][type]\n",
        "        num = Dict(:train => 1, :val => 2, :test => 3)\n",
        "        Bv = dataset[ks[i]][:B][num[type]]\n",
        "        score = mean(map((x, y, b) -> score_model(m, x, y, b), Xv, Yv, Bv))\n",
        "        \n",
        "        scores[ks[i]] = score\n",
        "    end\n",
        "    \n",
        "    return scores\n",
        "end"
      ],
      "metadata": {
        "colab": {
          "base_uri": "https://localhost:8080/"
        },
        "id": "JIFjbd57Urwu",
        "outputId": "3284d343-bb21-4308-c0fa-48a16dca5161"
      },
      "execution_count": 14,
      "outputs": [
        {
          "output_type": "execute_result",
          "data": {
            "text/plain": [
              "get_scores"
            ]
          },
          "metadata": {},
          "execution_count": 14
        }
      ]
    },
    {
      "cell_type": "code",
      "source": [
        "# calculate train, validation, test scores\n",
        "train_sc = get_scores(dataset, best_models, ks, :train)\n",
        "val_sc = get_scores(dataset, best_models, ks, :val)\n",
        "test_sc = get_scores(dataset, best_models, ks, :test)\n",
        "\n",
        "train, val, test = map(x -> mean(values(x)), [train_sc, val_sc, test_sc])\n",
        "\n",
        "println(\"\"\"\n",
        "\n",
        "Training finished with the following results:\n",
        "\n",
        "train score      = $(round(train, digits=4))\n",
        "validation score = $(round(val, digits=4))\n",
        "test score       = $(round(test, digits=4))\n",
        "\"\"\")\n"
      ],
      "metadata": {
        "colab": {
          "base_uri": "https://localhost:8080/"
        },
        "id": "T9-OLBIWUs8E",
        "outputId": "5a846d5c-d2c7-4933-9084-8f0f04f9c283"
      },
      "execution_count": 42,
      "outputs": [
        {
          "output_type": "stream",
          "name": "stdout",
          "text": [
            "\n",
            "Training finished with the following results:\n",
            "\n",
            "train score      = 10.8355\n",
            "validation score = 11.0194\n",
            "test score       = 10.628\n",
            "\n"
          ]
        }
      ]
    },
    {
      "cell_type": "markdown",
      "source": [
        "## Visualization\n",
        "\n",
        "Now that we have trained our model, we can also see visually the sequences and how our model predicts the data vs real values."
      ],
      "metadata": {
        "id": "D2GwGjg3cQAS"
      }
    },
    {
      "cell_type": "code",
      "source": [
        "using Plots\n",
        "function plot_sequences(dataset, models, ks, type=:train; seed = 1)\n",
        "    # set seed\n",
        "    Random.seed!(seed)\n",
        "\n",
        "    # sample sequence\n",
        "    ix9 = sample(1:9)\n",
        "    ix = sample(1:15)\n",
        "    _d = dataset[ks[ix9]][type][1][ix]\n",
        "    d = hcat(_d...)\n",
        "\n",
        "    # model\n",
        "    m = models[ks[ix9]]\n",
        "    # time\n",
        "    t = d[1,:]\n",
        "    # u_in\n",
        "    u = d[2,:]\n",
        "    # pressure\n",
        "    p = vcat(dataset[ks[ix9]][type][2][ix]...)\n",
        "\n",
        "    # make model prediction\n",
        "    pred = predict(m, _d)\n",
        "\n",
        "    # plot sequences\n",
        "    plot(t, p, marker=:circle, label=\"true\", title=ks[ix9])\n",
        "    plot!(t, pred, marker=:square, label=\"prediction\")\n",
        "end"
      ],
      "metadata": {
        "colab": {
          "base_uri": "https://localhost:8080/"
        },
        "id": "4vj2ldHggvc2",
        "outputId": "10b01c30-0f6e-4464-9d6a-0b6693e5ecc0"
      },
      "execution_count": 39,
      "outputs": [
        {
          "output_type": "execute_result",
          "data": {
            "text/plain": [
              "plot_sequences (generic function with 3 methods)"
            ]
          },
          "metadata": {},
          "execution_count": 39
        }
      ]
    },
    {
      "cell_type": "code",
      "source": [
        "plot_sequences(dataset, models, ks, :test, seed = 10)"
      ],
      "metadata": {
        "colab": {
          "base_uri": "https://localhost:8080/",
          "height": 421
        },
        "id": "7_5L7C0geuOo",
        "outputId": "d0c92de0-c2b5-46b5-a46d-310806e88eda"
      },
      "execution_count": 43,
      "outputs": [
        {
          "output_type": "execute_result",
          "data": {
            "image/svg+xml": "<?xml version=\"1.0\" encoding=\"utf-8\"?>\n<svg xmlns=\"http://www.w3.org/2000/svg\" xmlns:xlink=\"http://www.w3.org/1999/xlink\" width=\"600\" height=\"400\" viewBox=\"0 0 2400 1600\">\n<defs>\n  <clipPath id=\"clip150\">\n    <rect x=\"0\" y=\"0\" width=\"2400\" height=\"1600\"/>\n  </clipPath>\n</defs>\n<path clip-path=\"url(#clip150)\" d=\"\nM0 1600 L2400 1600 L2400 0 L0 0  Z\n  \" fill=\"#ffffff\" fill-rule=\"evenodd\" fill-opacity=\"1\"/>\n<defs>\n  <clipPath id=\"clip151\">\n    <rect x=\"480\" y=\"0\" width=\"1681\" height=\"1600\"/>\n  </clipPath>\n</defs>\n<path clip-path=\"url(#clip150)\" d=\"\nM138.959 1486.45 L2352.76 1486.45 L2352.76 123.472 L138.959 123.472  Z\n  \" fill=\"#ffffff\" fill-rule=\"evenodd\" fill-opacity=\"1\"/>\n<defs>\n  <clipPath id=\"clip152\">\n    <rect x=\"138\" y=\"123\" width=\"2215\" height=\"1364\"/>\n  </clipPath>\n</defs>\n<polyline clip-path=\"url(#clip152)\" style=\"stroke:#000000; stroke-linecap:butt; stroke-linejoin:round; stroke-width:2; stroke-opacity:0.1; fill:none\" points=\"\n  201.614,1486.45 201.614,123.472 \n  \"/>\n<polyline clip-path=\"url(#clip152)\" style=\"stroke:#000000; stroke-linecap:butt; stroke-linejoin:round; stroke-width:2; stroke-opacity:0.1; fill:none\" points=\"\n  618.583,1486.45 618.583,123.472 \n  \"/>\n<polyline clip-path=\"url(#clip152)\" style=\"stroke:#000000; stroke-linecap:butt; stroke-linejoin:round; stroke-width:2; stroke-opacity:0.1; fill:none\" points=\"\n  1035.55,1486.45 1035.55,123.472 \n  \"/>\n<polyline clip-path=\"url(#clip152)\" style=\"stroke:#000000; stroke-linecap:butt; stroke-linejoin:round; stroke-width:2; stroke-opacity:0.1; fill:none\" points=\"\n  1452.52,1486.45 1452.52,123.472 \n  \"/>\n<polyline clip-path=\"url(#clip152)\" style=\"stroke:#000000; stroke-linecap:butt; stroke-linejoin:round; stroke-width:2; stroke-opacity:0.1; fill:none\" points=\"\n  1869.49,1486.45 1869.49,123.472 \n  \"/>\n<polyline clip-path=\"url(#clip152)\" style=\"stroke:#000000; stroke-linecap:butt; stroke-linejoin:round; stroke-width:2; stroke-opacity:0.1; fill:none\" points=\"\n  2286.46,1486.45 2286.46,123.472 \n  \"/>\n<polyline clip-path=\"url(#clip150)\" style=\"stroke:#000000; stroke-linecap:butt; stroke-linejoin:round; stroke-width:4; stroke-opacity:1; fill:none\" points=\"\n  138.959,1486.45 2352.76,1486.45 \n  \"/>\n<polyline clip-path=\"url(#clip150)\" style=\"stroke:#000000; stroke-linecap:butt; stroke-linejoin:round; stroke-width:4; stroke-opacity:1; fill:none\" points=\"\n  201.614,1486.45 201.614,1467.55 \n  \"/>\n<polyline clip-path=\"url(#clip150)\" style=\"stroke:#000000; stroke-linecap:butt; stroke-linejoin:round; stroke-width:4; stroke-opacity:1; fill:none\" points=\"\n  618.583,1486.45 618.583,1467.55 \n  \"/>\n<polyline clip-path=\"url(#clip150)\" style=\"stroke:#000000; stroke-linecap:butt; stroke-linejoin:round; stroke-width:4; stroke-opacity:1; fill:none\" points=\"\n  1035.55,1486.45 1035.55,1467.55 \n  \"/>\n<polyline clip-path=\"url(#clip150)\" style=\"stroke:#000000; stroke-linecap:butt; stroke-linejoin:round; stroke-width:4; stroke-opacity:1; fill:none\" points=\"\n  1452.52,1486.45 1452.52,1467.55 \n  \"/>\n<polyline clip-path=\"url(#clip150)\" style=\"stroke:#000000; stroke-linecap:butt; stroke-linejoin:round; stroke-width:4; stroke-opacity:1; fill:none\" points=\"\n  1869.49,1486.45 1869.49,1467.55 \n  \"/>\n<polyline clip-path=\"url(#clip150)\" style=\"stroke:#000000; stroke-linecap:butt; stroke-linejoin:round; stroke-width:4; stroke-opacity:1; fill:none\" points=\"\n  2286.46,1486.45 2286.46,1467.55 \n  \"/>\n<path clip-path=\"url(#clip150)\" d=\"M178.998 1517.37 Q175.387 1517.37 173.559 1520.93 Q171.753 1524.47 171.753 1531.6 Q171.753 1538.71 173.559 1542.27 Q175.387 1545.82 178.998 1545.82 Q182.633 1545.82 184.438 1542.27 Q186.267 1538.71 186.267 1531.6 Q186.267 1524.47 184.438 1520.93 Q182.633 1517.37 178.998 1517.37 M178.998 1513.66 Q184.809 1513.66 187.864 1518.27 Q190.943 1522.85 190.943 1531.6 Q190.943 1540.33 187.864 1544.94 Q184.809 1549.52 178.998 1549.52 Q173.188 1549.52 170.11 1544.94 Q167.054 1540.33 167.054 1531.6 Q167.054 1522.85 170.11 1518.27 Q173.188 1513.66 178.998 1513.66 Z\" fill=\"#000000\" fill-rule=\"evenodd\" fill-opacity=\"1\" /><path clip-path=\"url(#clip150)\" d=\"M199.16 1542.97 L204.045 1542.97 L204.045 1548.85 L199.16 1548.85 L199.16 1542.97 Z\" fill=\"#000000\" fill-rule=\"evenodd\" fill-opacity=\"1\" /><path clip-path=\"url(#clip150)\" d=\"M224.23 1517.37 Q220.619 1517.37 218.79 1520.93 Q216.984 1524.47 216.984 1531.6 Q216.984 1538.71 218.79 1542.27 Q220.619 1545.82 224.23 1545.82 Q227.864 1545.82 229.669 1542.27 Q231.498 1538.71 231.498 1531.6 Q231.498 1524.47 229.669 1520.93 Q227.864 1517.37 224.23 1517.37 M224.23 1513.66 Q230.04 1513.66 233.095 1518.27 Q236.174 1522.85 236.174 1531.6 Q236.174 1540.33 233.095 1544.94 Q230.04 1549.52 224.23 1549.52 Q218.42 1549.52 215.341 1544.94 Q212.285 1540.33 212.285 1531.6 Q212.285 1522.85 215.341 1518.27 Q218.42 1513.66 224.23 1513.66 Z\" fill=\"#000000\" fill-rule=\"evenodd\" fill-opacity=\"1\" /><path clip-path=\"url(#clip150)\" d=\"M596.465 1517.37 Q592.854 1517.37 591.025 1520.93 Q589.22 1524.47 589.22 1531.6 Q589.22 1538.71 591.025 1542.27 Q592.854 1545.82 596.465 1545.82 Q600.099 1545.82 601.905 1542.27 Q603.734 1538.71 603.734 1531.6 Q603.734 1524.47 601.905 1520.93 Q600.099 1517.37 596.465 1517.37 M596.465 1513.66 Q602.275 1513.66 605.331 1518.27 Q608.409 1522.85 608.409 1531.6 Q608.409 1540.33 605.331 1544.94 Q602.275 1549.52 596.465 1549.52 Q590.655 1549.52 587.576 1544.94 Q584.521 1540.33 584.521 1531.6 Q584.521 1522.85 587.576 1518.27 Q590.655 1513.66 596.465 1513.66 Z\" fill=\"#000000\" fill-rule=\"evenodd\" fill-opacity=\"1\" /><path clip-path=\"url(#clip150)\" d=\"M616.627 1542.97 L621.511 1542.97 L621.511 1548.85 L616.627 1548.85 L616.627 1542.97 Z\" fill=\"#000000\" fill-rule=\"evenodd\" fill-opacity=\"1\" /><path clip-path=\"url(#clip150)\" d=\"M631.743 1514.29 L650.099 1514.29 L650.099 1518.22 L636.025 1518.22 L636.025 1526.7 Q637.044 1526.35 638.062 1526.19 Q639.081 1526 640.099 1526 Q645.886 1526 649.266 1529.17 Q652.645 1532.34 652.645 1537.76 Q652.645 1543.34 649.173 1546.44 Q645.701 1549.52 639.382 1549.52 Q637.206 1549.52 634.937 1549.15 Q632.692 1548.78 630.284 1548.04 L630.284 1543.34 Q632.368 1544.47 634.59 1545.03 Q636.812 1545.58 639.289 1545.58 Q643.294 1545.58 645.631 1543.48 Q647.969 1541.37 647.969 1537.76 Q647.969 1534.15 645.631 1532.04 Q643.294 1529.94 639.289 1529.94 Q637.414 1529.94 635.539 1530.35 Q633.687 1530.77 631.743 1531.65 L631.743 1514.29 Z\" fill=\"#000000\" fill-rule=\"evenodd\" fill-opacity=\"1\" /><path clip-path=\"url(#clip150)\" d=\"M1002.7 1544.91 L1010.34 1544.91 L1010.34 1518.55 L1002.03 1520.21 L1002.03 1515.95 L1010.3 1514.29 L1014.97 1514.29 L1014.97 1544.91 L1022.61 1544.91 L1022.61 1548.85 L1002.7 1548.85 L1002.7 1544.91 Z\" fill=\"#000000\" fill-rule=\"evenodd\" fill-opacity=\"1\" /><path clip-path=\"url(#clip150)\" d=\"M1032.06 1542.97 L1036.94 1542.97 L1036.94 1548.85 L1032.06 1548.85 L1032.06 1542.97 Z\" fill=\"#000000\" fill-rule=\"evenodd\" fill-opacity=\"1\" /><path clip-path=\"url(#clip150)\" d=\"M1057.13 1517.37 Q1053.51 1517.37 1051.69 1520.93 Q1049.88 1524.47 1049.88 1531.6 Q1049.88 1538.71 1051.69 1542.27 Q1053.51 1545.82 1057.13 1545.82 Q1060.76 1545.82 1062.57 1542.27 Q1064.39 1538.71 1064.39 1531.6 Q1064.39 1524.47 1062.57 1520.93 Q1060.76 1517.37 1057.13 1517.37 M1057.13 1513.66 Q1062.94 1513.66 1065.99 1518.27 Q1069.07 1522.85 1069.07 1531.6 Q1069.07 1540.33 1065.99 1544.94 Q1062.94 1549.52 1057.13 1549.52 Q1051.32 1549.52 1048.24 1544.94 Q1045.18 1540.33 1045.18 1531.6 Q1045.18 1522.85 1048.24 1518.27 Q1051.32 1513.66 1057.13 1513.66 Z\" fill=\"#000000\" fill-rule=\"evenodd\" fill-opacity=\"1\" /><path clip-path=\"url(#clip150)\" d=\"M1420.17 1544.91 L1427.81 1544.91 L1427.81 1518.55 L1419.5 1520.21 L1419.5 1515.95 L1427.76 1514.29 L1432.44 1514.29 L1432.44 1544.91 L1440.08 1544.91 L1440.08 1548.85 L1420.17 1548.85 L1420.17 1544.91 Z\" fill=\"#000000\" fill-rule=\"evenodd\" fill-opacity=\"1\" /><path clip-path=\"url(#clip150)\" d=\"M1449.52 1542.97 L1454.41 1542.97 L1454.41 1548.85 L1449.52 1548.85 L1449.52 1542.97 Z\" fill=\"#000000\" fill-rule=\"evenodd\" fill-opacity=\"1\" /><path clip-path=\"url(#clip150)\" d=\"M1464.64 1514.29 L1483 1514.29 L1483 1518.22 L1468.92 1518.22 L1468.92 1526.7 Q1469.94 1526.35 1470.96 1526.19 Q1471.98 1526 1473 1526 Q1478.78 1526 1482.16 1529.17 Q1485.54 1532.34 1485.54 1537.76 Q1485.54 1543.34 1482.07 1546.44 Q1478.6 1549.52 1472.28 1549.52 Q1470.1 1549.52 1467.83 1549.15 Q1465.59 1548.78 1463.18 1548.04 L1463.18 1543.34 Q1465.26 1544.47 1467.49 1545.03 Q1469.71 1545.58 1472.19 1545.58 Q1476.19 1545.58 1478.53 1543.48 Q1480.87 1541.37 1480.87 1537.76 Q1480.87 1534.15 1478.53 1532.04 Q1476.19 1529.94 1472.19 1529.94 Q1470.31 1529.94 1468.44 1530.35 Q1466.58 1530.77 1464.64 1531.65 L1464.64 1514.29 Z\" fill=\"#000000\" fill-rule=\"evenodd\" fill-opacity=\"1\" /><path clip-path=\"url(#clip150)\" d=\"M1840.73 1544.91 L1857.05 1544.91 L1857.05 1548.85 L1835.1 1548.85 L1835.1 1544.91 Q1837.77 1542.16 1842.35 1537.53 Q1846.96 1532.88 1848.14 1531.53 Q1850.38 1529.01 1851.26 1527.27 Q1852.16 1525.51 1852.16 1523.82 Q1852.16 1521.07 1850.22 1519.33 Q1848.3 1517.6 1845.2 1517.6 Q1843 1517.6 1840.54 1518.36 Q1838.11 1519.13 1835.33 1520.68 L1835.33 1515.95 Q1838.16 1514.82 1840.61 1514.24 Q1843.07 1513.66 1845.1 1513.66 Q1850.47 1513.66 1853.67 1516.35 Q1856.86 1519.03 1856.86 1523.52 Q1856.86 1525.65 1856.05 1527.57 Q1855.27 1529.47 1853.16 1532.07 Q1852.58 1532.74 1849.48 1535.95 Q1846.38 1539.15 1840.73 1544.91 Z\" fill=\"#000000\" fill-rule=\"evenodd\" fill-opacity=\"1\" /><path clip-path=\"url(#clip150)\" d=\"M1866.86 1542.97 L1871.75 1542.97 L1871.75 1548.85 L1866.86 1548.85 L1866.86 1542.97 Z\" fill=\"#000000\" fill-rule=\"evenodd\" fill-opacity=\"1\" /><path clip-path=\"url(#clip150)\" d=\"M1891.93 1517.37 Q1888.32 1517.37 1886.49 1520.93 Q1884.69 1524.47 1884.69 1531.6 Q1884.69 1538.71 1886.49 1542.27 Q1888.32 1545.82 1891.93 1545.82 Q1895.57 1545.82 1897.37 1542.27 Q1899.2 1538.71 1899.2 1531.6 Q1899.2 1524.47 1897.37 1520.93 Q1895.57 1517.37 1891.93 1517.37 M1891.93 1513.66 Q1897.74 1513.66 1900.8 1518.27 Q1903.88 1522.85 1903.88 1531.6 Q1903.88 1540.33 1900.8 1544.94 Q1897.74 1549.52 1891.93 1549.52 Q1886.12 1549.52 1883.04 1544.94 Q1879.99 1540.33 1879.99 1531.6 Q1879.99 1522.85 1883.04 1518.27 Q1886.12 1513.66 1891.93 1513.66 Z\" fill=\"#000000\" fill-rule=\"evenodd\" fill-opacity=\"1\" /><path clip-path=\"url(#clip150)\" d=\"M2258.2 1544.91 L2274.51 1544.91 L2274.51 1548.85 L2252.57 1548.85 L2252.57 1544.91 Q2255.23 1542.16 2259.82 1537.53 Q2264.42 1532.88 2265.6 1531.53 Q2267.85 1529.01 2268.73 1527.27 Q2269.63 1525.51 2269.63 1523.82 Q2269.63 1521.07 2267.69 1519.33 Q2265.76 1517.6 2262.66 1517.6 Q2260.46 1517.6 2258.01 1518.36 Q2255.58 1519.13 2252.8 1520.68 L2252.8 1515.95 Q2255.63 1514.82 2258.08 1514.24 Q2260.53 1513.66 2262.57 1513.66 Q2267.94 1513.66 2271.13 1516.35 Q2274.33 1519.03 2274.33 1523.52 Q2274.33 1525.65 2273.52 1527.57 Q2272.73 1529.47 2270.63 1532.07 Q2270.05 1532.74 2266.95 1535.95 Q2263.84 1539.15 2258.2 1544.91 Z\" fill=\"#000000\" fill-rule=\"evenodd\" fill-opacity=\"1\" /><path clip-path=\"url(#clip150)\" d=\"M2284.33 1542.97 L2289.21 1542.97 L2289.21 1548.85 L2284.33 1548.85 L2284.33 1542.97 Z\" fill=\"#000000\" fill-rule=\"evenodd\" fill-opacity=\"1\" /><path clip-path=\"url(#clip150)\" d=\"M2299.44 1514.29 L2317.8 1514.29 L2317.8 1518.22 L2303.73 1518.22 L2303.73 1526.7 Q2304.75 1526.35 2305.76 1526.19 Q2306.78 1526 2307.8 1526 Q2313.59 1526 2316.97 1529.17 Q2320.35 1532.34 2320.35 1537.76 Q2320.35 1543.34 2316.88 1546.44 Q2313.4 1549.52 2307.08 1549.52 Q2304.91 1549.52 2302.64 1549.15 Q2300.39 1548.78 2297.99 1548.04 L2297.99 1543.34 Q2300.07 1544.47 2302.29 1545.03 Q2304.51 1545.58 2306.99 1545.58 Q2311 1545.58 2313.33 1543.48 Q2315.67 1541.37 2315.67 1537.76 Q2315.67 1534.15 2313.33 1532.04 Q2311 1529.94 2306.99 1529.94 Q2305.12 1529.94 2303.24 1530.35 Q2301.39 1530.77 2299.44 1531.65 L2299.44 1514.29 Z\" fill=\"#000000\" fill-rule=\"evenodd\" fill-opacity=\"1\" /><polyline clip-path=\"url(#clip152)\" style=\"stroke:#000000; stroke-linecap:butt; stroke-linejoin:round; stroke-width:2; stroke-opacity:0.1; fill:none\" points=\"\n  138.959,1269.37 2352.76,1269.37 \n  \"/>\n<polyline clip-path=\"url(#clip152)\" style=\"stroke:#000000; stroke-linecap:butt; stroke-linejoin:round; stroke-width:2; stroke-opacity:0.1; fill:none\" points=\"\n  138.959,965.556 2352.76,965.556 \n  \"/>\n<polyline clip-path=\"url(#clip152)\" style=\"stroke:#000000; stroke-linecap:butt; stroke-linejoin:round; stroke-width:2; stroke-opacity:0.1; fill:none\" points=\"\n  138.959,661.744 2352.76,661.744 \n  \"/>\n<polyline clip-path=\"url(#clip152)\" style=\"stroke:#000000; stroke-linecap:butt; stroke-linejoin:round; stroke-width:2; stroke-opacity:0.1; fill:none\" points=\"\n  138.959,357.933 2352.76,357.933 \n  \"/>\n<polyline clip-path=\"url(#clip150)\" style=\"stroke:#000000; stroke-linecap:butt; stroke-linejoin:round; stroke-width:4; stroke-opacity:1; fill:none\" points=\"\n  138.959,1486.45 138.959,123.472 \n  \"/>\n<polyline clip-path=\"url(#clip150)\" style=\"stroke:#000000; stroke-linecap:butt; stroke-linejoin:round; stroke-width:4; stroke-opacity:1; fill:none\" points=\"\n  138.959,1269.37 157.857,1269.37 \n  \"/>\n<polyline clip-path=\"url(#clip150)\" style=\"stroke:#000000; stroke-linecap:butt; stroke-linejoin:round; stroke-width:4; stroke-opacity:1; fill:none\" points=\"\n  138.959,965.556 157.857,965.556 \n  \"/>\n<polyline clip-path=\"url(#clip150)\" style=\"stroke:#000000; stroke-linecap:butt; stroke-linejoin:round; stroke-width:4; stroke-opacity:1; fill:none\" points=\"\n  138.959,661.744 157.857,661.744 \n  \"/>\n<polyline clip-path=\"url(#clip150)\" style=\"stroke:#000000; stroke-linecap:butt; stroke-linejoin:round; stroke-width:4; stroke-opacity:1; fill:none\" points=\"\n  138.959,357.933 157.857,357.933 \n  \"/>\n<path clip-path=\"url(#clip150)\" d=\"M91.4317 1267.5 Q88.2836 1267.5 86.4318 1269.66 Q84.6031 1271.81 84.6031 1275.56 Q84.6031 1279.29 86.4318 1281.46 Q88.2836 1283.62 91.4317 1283.62 Q94.5799 1283.62 96.4085 1281.46 Q98.2604 1279.29 98.2604 1275.56 Q98.2604 1271.81 96.4085 1269.66 Q94.5799 1267.5 91.4317 1267.5 M100.714 1252.85 L100.714 1257.11 Q98.9548 1256.28 97.1493 1255.84 Q95.3669 1255.4 93.6076 1255.4 Q88.978 1255.4 86.5243 1258.52 Q84.0938 1261.65 83.7466 1267.97 Q85.1123 1265.95 87.1725 1264.89 Q89.2327 1263.8 91.7095 1263.8 Q96.9178 1263.8 99.927 1266.97 Q102.959 1270.12 102.959 1275.56 Q102.959 1280.88 99.8113 1284.1 Q96.6632 1287.32 91.4317 1287.32 Q85.4364 1287.32 82.2651 1282.74 Q79.0938 1278.13 79.0938 1269.4 Q79.0938 1261.21 82.9827 1256.35 Q86.8716 1251.46 93.4225 1251.46 Q95.1817 1251.46 96.9641 1251.81 Q98.7696 1252.16 100.714 1252.85 Z\" fill=\"#000000\" fill-rule=\"evenodd\" fill-opacity=\"1\" /><path clip-path=\"url(#clip150)\" d=\"M91.1077 966.424 Q87.7743 966.424 85.8531 968.207 Q83.9549 969.989 83.9549 973.114 Q83.9549 976.239 85.8531 978.021 Q87.7743 979.804 91.1077 979.804 Q94.441 979.804 96.3623 978.021 Q98.2835 976.216 98.2835 973.114 Q98.2835 969.989 96.3623 968.207 Q94.4641 966.424 91.1077 966.424 M86.4318 964.433 Q83.4225 963.693 81.7327 961.633 Q80.066 959.572 80.066 956.609 Q80.066 952.466 83.0058 950.059 Q85.9688 947.651 91.1077 947.651 Q96.2697 947.651 99.2095 950.059 Q102.149 952.466 102.149 956.609 Q102.149 959.572 100.459 961.633 Q98.7928 963.693 95.8067 964.433 Q99.1863 965.22 101.061 967.512 Q102.959 969.804 102.959 973.114 Q102.959 978.137 99.8808 980.822 Q96.8252 983.507 91.1077 983.507 Q85.3901 983.507 82.3114 980.822 Q79.2559 978.137 79.2559 973.114 Q79.2559 969.804 81.154 967.512 Q83.0521 965.22 86.4318 964.433 M84.7188 957.049 Q84.7188 959.734 86.3855 961.239 Q88.0753 962.744 91.1077 962.744 Q94.1169 962.744 95.8067 961.239 Q97.5197 959.734 97.5197 957.049 Q97.5197 954.364 95.8067 952.859 Q94.1169 951.355 91.1077 951.355 Q88.0753 951.355 86.3855 952.859 Q84.7188 954.364 84.7188 957.049 Z\" fill=\"#000000\" fill-rule=\"evenodd\" fill-opacity=\"1\" /><path clip-path=\"url(#clip150)\" d=\"M51.6634 675.089 L59.3023 675.089 L59.3023 648.724 L50.9921 650.39 L50.9921 646.131 L59.256 644.464 L63.9319 644.464 L63.9319 675.089 L71.5707 675.089 L71.5707 679.024 L51.6634 679.024 L51.6634 675.089 Z\" fill=\"#000000\" fill-rule=\"evenodd\" fill-opacity=\"1\" /><path clip-path=\"url(#clip150)\" d=\"M91.0151 647.543 Q87.404 647.543 85.5753 651.108 Q83.7697 654.649 83.7697 661.779 Q83.7697 668.885 85.5753 672.45 Q87.404 675.992 91.0151 675.992 Q94.6493 675.992 96.4548 672.45 Q98.2835 668.885 98.2835 661.779 Q98.2835 654.649 96.4548 651.108 Q94.6493 647.543 91.0151 647.543 M91.0151 643.839 Q96.8252 643.839 99.8808 648.446 Q102.959 653.029 102.959 661.779 Q102.959 670.506 99.8808 675.112 Q96.8252 679.696 91.0151 679.696 Q85.2049 679.696 82.1262 675.112 Q79.0707 670.506 79.0707 661.779 Q79.0707 653.029 82.1262 648.446 Q85.2049 643.839 91.0151 643.839 Z\" fill=\"#000000\" fill-rule=\"evenodd\" fill-opacity=\"1\" /><path clip-path=\"url(#clip150)\" d=\"M53.2606 371.277 L60.8995 371.277 L60.8995 344.912 L52.5893 346.578 L52.5893 342.319 L60.8532 340.653 L65.5291 340.653 L65.5291 371.277 L73.1679 371.277 L73.1679 375.213 L53.2606 375.213 L53.2606 371.277 Z\" fill=\"#000000\" fill-rule=\"evenodd\" fill-opacity=\"1\" /><path clip-path=\"url(#clip150)\" d=\"M86.6401 371.277 L102.959 371.277 L102.959 375.213 L81.0151 375.213 L81.0151 371.277 Q83.6771 368.523 88.2604 363.893 Q92.8669 359.24 94.0475 357.898 Q96.2928 355.375 97.1724 353.639 Q98.0752 351.879 98.0752 350.189 Q98.0752 347.435 96.1308 345.699 Q94.2095 343.963 91.1077 343.963 Q88.9086 343.963 86.4549 344.727 Q84.0244 345.49 81.2466 347.041 L81.2466 342.319 Q84.0707 341.185 86.5243 340.606 Q88.978 340.028 91.0151 340.028 Q96.3854 340.028 99.5798 342.713 Q102.774 345.398 102.774 349.889 Q102.774 352.018 101.964 353.939 Q101.177 355.838 99.0706 358.43 Q98.4919 359.101 95.39 362.319 Q92.2882 365.513 86.6401 371.277 Z\" fill=\"#000000\" fill-rule=\"evenodd\" fill-opacity=\"1\" /><path clip-path=\"url(#clip150)\" d=\"M1048.52 44.2197 Q1051.15 45.1109 1053.62 48.0275 Q1056.13 50.9442 1058.65 56.0483 L1066.95 72.576 L1058.16 72.576 L1050.42 57.061 Q1047.42 50.9847 1044.59 48.9997 Q1041.79 47.0148 1036.93 47.0148 L1028.02 47.0148 L1028.02 72.576 L1019.84 72.576 L1019.84 12.096 L1038.31 12.096 Q1048.68 12.096 1053.78 16.4305 Q1058.89 20.7649 1058.89 29.5149 Q1058.89 35.2267 1056.21 38.994 Q1053.58 42.7613 1048.52 44.2197 M1028.02 18.8205 L1028.02 40.2903 L1038.31 40.2903 Q1044.22 40.2903 1047.22 37.5762 Q1050.26 34.8216 1050.26 29.5149 Q1050.26 24.2082 1047.22 21.5346 Q1044.22 18.8205 1038.31 18.8205 L1028.02 18.8205 Z\" fill=\"#000000\" fill-rule=\"evenodd\" fill-opacity=\"1\" /><path clip-path=\"url(#clip150)\" d=\"M1078.13 34.9026 L1130.06 34.9026 L1130.06 41.7081 L1078.13 41.7081 L1078.13 34.9026 M1078.13 51.4303 L1130.06 51.4303 L1130.06 58.3168 L1078.13 58.3168 L1078.13 51.4303 Z\" fill=\"#000000\" fill-rule=\"evenodd\" fill-opacity=\"1\" /><path clip-path=\"url(#clip150)\" d=\"M1147.81 12.096 L1179.93 12.096 L1179.93 18.9825 L1155.3 18.9825 L1155.3 33.8088 Q1157.08 33.2012 1158.86 32.9176 Q1160.65 32.5936 1162.43 32.5936 Q1172.56 32.5936 1178.47 38.1433 Q1184.39 43.6931 1184.39 53.1722 Q1184.39 62.9348 1178.31 68.3631 Q1172.23 73.7508 1161.17 73.7508 Q1157.37 73.7508 1153.4 73.1026 Q1149.47 72.4545 1145.25 71.1582 L1145.25 62.9348 Q1148.9 64.9198 1152.79 65.892 Q1156.68 66.8642 1161.01 66.8642 Q1168.02 66.8642 1172.11 63.1779 Q1176.2 59.4916 1176.2 53.1722 Q1176.2 46.8528 1172.11 43.1664 Q1168.02 39.4801 1161.01 39.4801 Q1157.73 39.4801 1154.45 40.2093 Q1151.21 40.9384 1147.81 42.4778 L1147.81 12.096 Z\" fill=\"#000000\" fill-rule=\"evenodd\" fill-opacity=\"1\" /><path clip-path=\"url(#clip150)\" d=\"M1201.36 62.2867 L1209.91 62.2867 L1209.91 69.2543 L1203.26 82.2172 L1198.04 82.2172 L1201.36 69.2543 L1201.36 62.2867 Z\" fill=\"#000000\" fill-rule=\"evenodd\" fill-opacity=\"1\" /><path clip-path=\"url(#clip150)\" d=\"M1297.81 16.7545 L1297.81 25.383 Q1293.68 21.5346 1288.98 19.6307 Q1284.32 17.7268 1279.05 17.7268 Q1268.68 17.7268 1263.18 24.0867 Q1257.67 30.4061 1257.67 42.3968 Q1257.67 54.3469 1263.18 60.7069 Q1268.68 67.0263 1279.05 67.0263 Q1284.32 67.0263 1288.98 65.1223 Q1293.68 63.2184 1297.81 59.3701 L1297.81 67.9175 Q1293.52 70.8341 1288.7 72.2924 Q1283.92 73.7508 1278.57 73.7508 Q1264.84 73.7508 1256.94 65.3654 Q1249.04 56.9395 1249.04 42.3968 Q1249.04 27.8135 1256.94 19.4281 Q1264.84 11.0023 1278.57 11.0023 Q1284 11.0023 1288.78 12.4606 Q1293.6 13.8784 1297.81 16.7545 Z\" fill=\"#000000\" fill-rule=\"evenodd\" fill-opacity=\"1\" /><path clip-path=\"url(#clip150)\" d=\"M1311.1 34.9026 L1363.03 34.9026 L1363.03 41.7081 L1311.1 41.7081 L1311.1 34.9026 M1311.1 51.4303 L1363.03 51.4303 L1363.03 58.3168 L1311.1 58.3168 L1311.1 51.4303 Z\" fill=\"#000000\" fill-rule=\"evenodd\" fill-opacity=\"1\" /><path clip-path=\"url(#clip150)\" d=\"M1387.74 65.6895 L1416.3 65.6895 L1416.3 72.576 L1377.9 72.576 L1377.9 65.6895 Q1382.56 60.8689 1390.58 52.7671 Q1398.64 44.6248 1400.7 42.2752 Q1404.63 37.8598 1406.17 34.8216 Q1407.75 31.7429 1407.75 28.7857 Q1407.75 23.9651 1404.35 20.927 Q1400.99 17.8888 1395.56 17.8888 Q1391.71 17.8888 1387.42 19.2256 Q1383.16 20.5624 1378.3 23.2765 L1378.3 15.0127 Q1383.24 13.0277 1387.54 12.015 Q1391.83 11.0023 1395.4 11.0023 Q1404.79 11.0023 1410.39 15.7013 Q1415.98 20.4004 1415.98 28.2591 Q1415.98 31.9859 1414.56 35.3482 Q1413.18 38.6699 1409.49 43.2069 Q1408.48 44.3817 1403.05 50.0125 Q1397.62 55.6027 1387.74 65.6895 Z\" fill=\"#000000\" fill-rule=\"evenodd\" fill-opacity=\"1\" /><path clip-path=\"url(#clip150)\" d=\"M1450.98 17.4837 Q1444.66 17.4837 1441.46 23.7221 Q1438.3 29.92 1438.3 42.3968 Q1438.3 54.833 1441.46 61.0714 Q1444.66 67.2693 1450.98 67.2693 Q1457.34 67.2693 1460.49 61.0714 Q1463.7 54.833 1463.7 42.3968 Q1463.7 29.92 1460.49 23.7221 Q1457.34 17.4837 1450.98 17.4837 M1450.98 11.0023 Q1461.14 11.0023 1466.49 19.0636 Q1471.88 27.0843 1471.88 42.3968 Q1471.88 57.6687 1466.49 65.73 Q1461.14 73.7508 1450.98 73.7508 Q1440.81 73.7508 1435.42 65.73 Q1430.07 57.6687 1430.07 42.3968 Q1430.07 27.0843 1435.42 19.0636 Q1440.81 11.0023 1450.98 11.0023 Z\" fill=\"#000000\" fill-rule=\"evenodd\" fill-opacity=\"1\" /><polyline clip-path=\"url(#clip152)\" style=\"stroke:#009af9; stroke-linecap:butt; stroke-linejoin:round; stroke-width:4; stroke-opacity:1; fill:none\" points=\"\n  201.614,1251.34 228.148,1294.05 254.639,1133.86 281.09,1208.62 307.561,1112.51 334.029,1059.11 360.422,1016.39 386.828,962.995 413.22,888.24 439.617,920.278 \n  466.032,845.523 492.39,845.523 518.754,813.485 545.139,706.692 571.558,760.088 597.928,621.257 624.307,696.012 650.793,599.899 677.287,589.219 703.744,567.861 \n  730.245,557.181 756.742,503.785 783.232,514.464 809.657,375.633 836.011,482.426 862.393,300.878 888.877,386.312 915.369,332.916 941.876,290.199 968.294,300.878 \n  994.689,279.519 1021.06,258.161 1047.43,162.047 1073.81,300.878 1100.3,599.899 1126.69,813.485 1153.08,909.599 1179.51,1027.07 1205.88,1080.47 1232.22,1027.07 \n  1258.63,1080.47 1285.03,1165.9 1311.42,1144.54 1337.8,1208.62 1364.21,1197.94 1390.58,1272.7 1417,1251.34 1443.42,1283.37 1469.83,1283.37 1496.21,1272.7 \n  1522.67,1315.41 1549.04,1262.02 1575.42,1272.7 1601.93,1229.98 1628.43,1229.98 1654.9,1208.62 1681.43,1197.94 1707.93,1251.34 1734.44,1229.98 1760.89,1165.9 \n  1787.39,1208.62 1813.84,1208.62 1840.33,1208.62 1866.82,1176.58 1893.35,1240.66 1919.85,1229.98 1946.32,1219.3 1972.79,1251.34 1999.26,1240.66 2025.72,1240.66 \n  2052.21,1251.34 2078.67,1240.66 2105.16,1251.34 2131.57,1229.98 2157.95,1240.66 2184.34,1208.62 2210.74,1240.66 2237.2,1219.3 2263.66,1251.34 2290.1,1229.98 \n  \n  \"/>\n<circle clip-path=\"url(#clip152)\" cx=\"201.614\" cy=\"1251.34\" r=\"14\" fill=\"#009af9\" fill-rule=\"evenodd\" fill-opacity=\"1\" stroke=\"#000000\" stroke-opacity=\"1\" stroke-width=\"3.2\"/>\n<circle clip-path=\"url(#clip152)\" cx=\"228.148\" cy=\"1294.05\" r=\"14\" fill=\"#009af9\" fill-rule=\"evenodd\" fill-opacity=\"1\" stroke=\"#000000\" stroke-opacity=\"1\" stroke-width=\"3.2\"/>\n<circle clip-path=\"url(#clip152)\" cx=\"254.639\" cy=\"1133.86\" r=\"14\" fill=\"#009af9\" fill-rule=\"evenodd\" fill-opacity=\"1\" stroke=\"#000000\" stroke-opacity=\"1\" stroke-width=\"3.2\"/>\n<circle clip-path=\"url(#clip152)\" cx=\"281.09\" cy=\"1208.62\" r=\"14\" fill=\"#009af9\" fill-rule=\"evenodd\" fill-opacity=\"1\" stroke=\"#000000\" stroke-opacity=\"1\" stroke-width=\"3.2\"/>\n<circle clip-path=\"url(#clip152)\" cx=\"307.561\" cy=\"1112.51\" r=\"14\" fill=\"#009af9\" fill-rule=\"evenodd\" fill-opacity=\"1\" stroke=\"#000000\" stroke-opacity=\"1\" stroke-width=\"3.2\"/>\n<circle clip-path=\"url(#clip152)\" cx=\"334.029\" cy=\"1059.11\" r=\"14\" fill=\"#009af9\" fill-rule=\"evenodd\" fill-opacity=\"1\" stroke=\"#000000\" stroke-opacity=\"1\" stroke-width=\"3.2\"/>\n<circle clip-path=\"url(#clip152)\" cx=\"360.422\" cy=\"1016.39\" r=\"14\" fill=\"#009af9\" fill-rule=\"evenodd\" fill-opacity=\"1\" stroke=\"#000000\" stroke-opacity=\"1\" stroke-width=\"3.2\"/>\n<circle clip-path=\"url(#clip152)\" cx=\"386.828\" cy=\"962.995\" r=\"14\" fill=\"#009af9\" fill-rule=\"evenodd\" fill-opacity=\"1\" stroke=\"#000000\" stroke-opacity=\"1\" stroke-width=\"3.2\"/>\n<circle clip-path=\"url(#clip152)\" cx=\"413.22\" cy=\"888.24\" r=\"14\" fill=\"#009af9\" fill-rule=\"evenodd\" fill-opacity=\"1\" stroke=\"#000000\" stroke-opacity=\"1\" stroke-width=\"3.2\"/>\n<circle clip-path=\"url(#clip152)\" cx=\"439.617\" cy=\"920.278\" r=\"14\" fill=\"#009af9\" fill-rule=\"evenodd\" fill-opacity=\"1\" stroke=\"#000000\" stroke-opacity=\"1\" stroke-width=\"3.2\"/>\n<circle clip-path=\"url(#clip152)\" cx=\"466.032\" cy=\"845.523\" r=\"14\" fill=\"#009af9\" fill-rule=\"evenodd\" fill-opacity=\"1\" stroke=\"#000000\" stroke-opacity=\"1\" stroke-width=\"3.2\"/>\n<circle clip-path=\"url(#clip152)\" cx=\"492.39\" cy=\"845.523\" r=\"14\" fill=\"#009af9\" fill-rule=\"evenodd\" fill-opacity=\"1\" stroke=\"#000000\" stroke-opacity=\"1\" stroke-width=\"3.2\"/>\n<circle clip-path=\"url(#clip152)\" cx=\"518.754\" cy=\"813.485\" r=\"14\" fill=\"#009af9\" fill-rule=\"evenodd\" fill-opacity=\"1\" stroke=\"#000000\" stroke-opacity=\"1\" stroke-width=\"3.2\"/>\n<circle clip-path=\"url(#clip152)\" cx=\"545.139\" cy=\"706.692\" r=\"14\" fill=\"#009af9\" fill-rule=\"evenodd\" fill-opacity=\"1\" stroke=\"#000000\" stroke-opacity=\"1\" stroke-width=\"3.2\"/>\n<circle clip-path=\"url(#clip152)\" cx=\"571.558\" cy=\"760.088\" r=\"14\" fill=\"#009af9\" fill-rule=\"evenodd\" fill-opacity=\"1\" stroke=\"#000000\" stroke-opacity=\"1\" stroke-width=\"3.2\"/>\n<circle clip-path=\"url(#clip152)\" cx=\"597.928\" cy=\"621.257\" r=\"14\" fill=\"#009af9\" fill-rule=\"evenodd\" fill-opacity=\"1\" stroke=\"#000000\" stroke-opacity=\"1\" stroke-width=\"3.2\"/>\n<circle clip-path=\"url(#clip152)\" cx=\"624.307\" cy=\"696.012\" r=\"14\" fill=\"#009af9\" fill-rule=\"evenodd\" fill-opacity=\"1\" stroke=\"#000000\" stroke-opacity=\"1\" stroke-width=\"3.2\"/>\n<circle clip-path=\"url(#clip152)\" cx=\"650.793\" cy=\"599.899\" r=\"14\" fill=\"#009af9\" fill-rule=\"evenodd\" fill-opacity=\"1\" stroke=\"#000000\" stroke-opacity=\"1\" stroke-width=\"3.2\"/>\n<circle clip-path=\"url(#clip152)\" cx=\"677.287\" cy=\"589.219\" r=\"14\" fill=\"#009af9\" fill-rule=\"evenodd\" fill-opacity=\"1\" stroke=\"#000000\" stroke-opacity=\"1\" stroke-width=\"3.2\"/>\n<circle clip-path=\"url(#clip152)\" cx=\"703.744\" cy=\"567.861\" r=\"14\" fill=\"#009af9\" fill-rule=\"evenodd\" fill-opacity=\"1\" stroke=\"#000000\" stroke-opacity=\"1\" stroke-width=\"3.2\"/>\n<circle clip-path=\"url(#clip152)\" cx=\"730.245\" cy=\"557.181\" r=\"14\" fill=\"#009af9\" fill-rule=\"evenodd\" fill-opacity=\"1\" stroke=\"#000000\" stroke-opacity=\"1\" stroke-width=\"3.2\"/>\n<circle clip-path=\"url(#clip152)\" cx=\"756.742\" cy=\"503.785\" r=\"14\" fill=\"#009af9\" fill-rule=\"evenodd\" fill-opacity=\"1\" stroke=\"#000000\" stroke-opacity=\"1\" stroke-width=\"3.2\"/>\n<circle clip-path=\"url(#clip152)\" cx=\"783.232\" cy=\"514.464\" r=\"14\" fill=\"#009af9\" fill-rule=\"evenodd\" fill-opacity=\"1\" stroke=\"#000000\" stroke-opacity=\"1\" stroke-width=\"3.2\"/>\n<circle clip-path=\"url(#clip152)\" cx=\"809.657\" cy=\"375.633\" r=\"14\" fill=\"#009af9\" fill-rule=\"evenodd\" fill-opacity=\"1\" stroke=\"#000000\" stroke-opacity=\"1\" stroke-width=\"3.2\"/>\n<circle clip-path=\"url(#clip152)\" cx=\"836.011\" cy=\"482.426\" r=\"14\" fill=\"#009af9\" fill-rule=\"evenodd\" fill-opacity=\"1\" stroke=\"#000000\" stroke-opacity=\"1\" stroke-width=\"3.2\"/>\n<circle clip-path=\"url(#clip152)\" cx=\"862.393\" cy=\"300.878\" r=\"14\" fill=\"#009af9\" fill-rule=\"evenodd\" fill-opacity=\"1\" stroke=\"#000000\" stroke-opacity=\"1\" stroke-width=\"3.2\"/>\n<circle clip-path=\"url(#clip152)\" cx=\"888.877\" cy=\"386.312\" r=\"14\" fill=\"#009af9\" fill-rule=\"evenodd\" fill-opacity=\"1\" stroke=\"#000000\" stroke-opacity=\"1\" stroke-width=\"3.2\"/>\n<circle clip-path=\"url(#clip152)\" cx=\"915.369\" cy=\"332.916\" r=\"14\" fill=\"#009af9\" fill-rule=\"evenodd\" fill-opacity=\"1\" stroke=\"#000000\" stroke-opacity=\"1\" stroke-width=\"3.2\"/>\n<circle clip-path=\"url(#clip152)\" cx=\"941.876\" cy=\"290.199\" r=\"14\" fill=\"#009af9\" fill-rule=\"evenodd\" fill-opacity=\"1\" stroke=\"#000000\" stroke-opacity=\"1\" stroke-width=\"3.2\"/>\n<circle clip-path=\"url(#clip152)\" cx=\"968.294\" cy=\"300.878\" r=\"14\" fill=\"#009af9\" fill-rule=\"evenodd\" fill-opacity=\"1\" stroke=\"#000000\" stroke-opacity=\"1\" stroke-width=\"3.2\"/>\n<circle clip-path=\"url(#clip152)\" cx=\"994.689\" cy=\"279.519\" r=\"14\" fill=\"#009af9\" fill-rule=\"evenodd\" fill-opacity=\"1\" stroke=\"#000000\" stroke-opacity=\"1\" stroke-width=\"3.2\"/>\n<circle clip-path=\"url(#clip152)\" cx=\"1021.06\" cy=\"258.161\" r=\"14\" fill=\"#009af9\" fill-rule=\"evenodd\" fill-opacity=\"1\" stroke=\"#000000\" stroke-opacity=\"1\" stroke-width=\"3.2\"/>\n<circle clip-path=\"url(#clip152)\" cx=\"1047.43\" cy=\"162.047\" r=\"14\" fill=\"#009af9\" fill-rule=\"evenodd\" fill-opacity=\"1\" stroke=\"#000000\" stroke-opacity=\"1\" stroke-width=\"3.2\"/>\n<circle clip-path=\"url(#clip152)\" cx=\"1073.81\" cy=\"300.878\" r=\"14\" fill=\"#009af9\" fill-rule=\"evenodd\" fill-opacity=\"1\" stroke=\"#000000\" stroke-opacity=\"1\" stroke-width=\"3.2\"/>\n<circle clip-path=\"url(#clip152)\" cx=\"1100.3\" cy=\"599.899\" r=\"14\" fill=\"#009af9\" fill-rule=\"evenodd\" fill-opacity=\"1\" stroke=\"#000000\" stroke-opacity=\"1\" stroke-width=\"3.2\"/>\n<circle clip-path=\"url(#clip152)\" cx=\"1126.69\" cy=\"813.485\" r=\"14\" fill=\"#009af9\" fill-rule=\"evenodd\" fill-opacity=\"1\" stroke=\"#000000\" stroke-opacity=\"1\" stroke-width=\"3.2\"/>\n<circle clip-path=\"url(#clip152)\" cx=\"1153.08\" cy=\"909.599\" r=\"14\" fill=\"#009af9\" fill-rule=\"evenodd\" fill-opacity=\"1\" stroke=\"#000000\" stroke-opacity=\"1\" stroke-width=\"3.2\"/>\n<circle clip-path=\"url(#clip152)\" cx=\"1179.51\" cy=\"1027.07\" r=\"14\" fill=\"#009af9\" fill-rule=\"evenodd\" fill-opacity=\"1\" stroke=\"#000000\" stroke-opacity=\"1\" stroke-width=\"3.2\"/>\n<circle clip-path=\"url(#clip152)\" cx=\"1205.88\" cy=\"1080.47\" r=\"14\" fill=\"#009af9\" fill-rule=\"evenodd\" fill-opacity=\"1\" stroke=\"#000000\" stroke-opacity=\"1\" stroke-width=\"3.2\"/>\n<circle clip-path=\"url(#clip152)\" cx=\"1232.22\" cy=\"1027.07\" r=\"14\" fill=\"#009af9\" fill-rule=\"evenodd\" fill-opacity=\"1\" stroke=\"#000000\" stroke-opacity=\"1\" stroke-width=\"3.2\"/>\n<circle clip-path=\"url(#clip152)\" cx=\"1258.63\" cy=\"1080.47\" r=\"14\" fill=\"#009af9\" fill-rule=\"evenodd\" fill-opacity=\"1\" stroke=\"#000000\" stroke-opacity=\"1\" stroke-width=\"3.2\"/>\n<circle clip-path=\"url(#clip152)\" cx=\"1285.03\" cy=\"1165.9\" r=\"14\" fill=\"#009af9\" fill-rule=\"evenodd\" fill-opacity=\"1\" stroke=\"#000000\" stroke-opacity=\"1\" stroke-width=\"3.2\"/>\n<circle clip-path=\"url(#clip152)\" cx=\"1311.42\" cy=\"1144.54\" r=\"14\" fill=\"#009af9\" fill-rule=\"evenodd\" fill-opacity=\"1\" stroke=\"#000000\" stroke-opacity=\"1\" stroke-width=\"3.2\"/>\n<circle clip-path=\"url(#clip152)\" cx=\"1337.8\" cy=\"1208.62\" r=\"14\" fill=\"#009af9\" fill-rule=\"evenodd\" fill-opacity=\"1\" stroke=\"#000000\" stroke-opacity=\"1\" stroke-width=\"3.2\"/>\n<circle clip-path=\"url(#clip152)\" cx=\"1364.21\" cy=\"1197.94\" r=\"14\" fill=\"#009af9\" fill-rule=\"evenodd\" fill-opacity=\"1\" stroke=\"#000000\" stroke-opacity=\"1\" stroke-width=\"3.2\"/>\n<circle clip-path=\"url(#clip152)\" cx=\"1390.58\" cy=\"1272.7\" r=\"14\" fill=\"#009af9\" fill-rule=\"evenodd\" fill-opacity=\"1\" stroke=\"#000000\" stroke-opacity=\"1\" stroke-width=\"3.2\"/>\n<circle clip-path=\"url(#clip152)\" cx=\"1417\" cy=\"1251.34\" r=\"14\" fill=\"#009af9\" fill-rule=\"evenodd\" fill-opacity=\"1\" stroke=\"#000000\" stroke-opacity=\"1\" stroke-width=\"3.2\"/>\n<circle clip-path=\"url(#clip152)\" cx=\"1443.42\" cy=\"1283.37\" r=\"14\" fill=\"#009af9\" fill-rule=\"evenodd\" fill-opacity=\"1\" stroke=\"#000000\" stroke-opacity=\"1\" stroke-width=\"3.2\"/>\n<circle clip-path=\"url(#clip152)\" cx=\"1469.83\" cy=\"1283.37\" r=\"14\" fill=\"#009af9\" fill-rule=\"evenodd\" fill-opacity=\"1\" stroke=\"#000000\" stroke-opacity=\"1\" stroke-width=\"3.2\"/>\n<circle clip-path=\"url(#clip152)\" cx=\"1496.21\" cy=\"1272.7\" r=\"14\" fill=\"#009af9\" fill-rule=\"evenodd\" fill-opacity=\"1\" stroke=\"#000000\" stroke-opacity=\"1\" stroke-width=\"3.2\"/>\n<circle clip-path=\"url(#clip152)\" cx=\"1522.67\" cy=\"1315.41\" r=\"14\" fill=\"#009af9\" fill-rule=\"evenodd\" fill-opacity=\"1\" stroke=\"#000000\" stroke-opacity=\"1\" stroke-width=\"3.2\"/>\n<circle clip-path=\"url(#clip152)\" cx=\"1549.04\" cy=\"1262.02\" r=\"14\" fill=\"#009af9\" fill-rule=\"evenodd\" fill-opacity=\"1\" stroke=\"#000000\" stroke-opacity=\"1\" stroke-width=\"3.2\"/>\n<circle clip-path=\"url(#clip152)\" cx=\"1575.42\" cy=\"1272.7\" r=\"14\" fill=\"#009af9\" fill-rule=\"evenodd\" fill-opacity=\"1\" stroke=\"#000000\" stroke-opacity=\"1\" stroke-width=\"3.2\"/>\n<circle clip-path=\"url(#clip152)\" cx=\"1601.93\" cy=\"1229.98\" r=\"14\" fill=\"#009af9\" fill-rule=\"evenodd\" fill-opacity=\"1\" stroke=\"#000000\" stroke-opacity=\"1\" stroke-width=\"3.2\"/>\n<circle clip-path=\"url(#clip152)\" cx=\"1628.43\" cy=\"1229.98\" r=\"14\" fill=\"#009af9\" fill-rule=\"evenodd\" fill-opacity=\"1\" stroke=\"#000000\" stroke-opacity=\"1\" stroke-width=\"3.2\"/>\n<circle clip-path=\"url(#clip152)\" cx=\"1654.9\" cy=\"1208.62\" r=\"14\" fill=\"#009af9\" fill-rule=\"evenodd\" fill-opacity=\"1\" stroke=\"#000000\" stroke-opacity=\"1\" stroke-width=\"3.2\"/>\n<circle clip-path=\"url(#clip152)\" cx=\"1681.43\" cy=\"1197.94\" r=\"14\" fill=\"#009af9\" fill-rule=\"evenodd\" fill-opacity=\"1\" stroke=\"#000000\" stroke-opacity=\"1\" stroke-width=\"3.2\"/>\n<circle clip-path=\"url(#clip152)\" cx=\"1707.93\" cy=\"1251.34\" r=\"14\" fill=\"#009af9\" fill-rule=\"evenodd\" fill-opacity=\"1\" stroke=\"#000000\" stroke-opacity=\"1\" stroke-width=\"3.2\"/>\n<circle clip-path=\"url(#clip152)\" cx=\"1734.44\" cy=\"1229.98\" r=\"14\" fill=\"#009af9\" fill-rule=\"evenodd\" fill-opacity=\"1\" stroke=\"#000000\" stroke-opacity=\"1\" stroke-width=\"3.2\"/>\n<circle clip-path=\"url(#clip152)\" cx=\"1760.89\" cy=\"1165.9\" r=\"14\" fill=\"#009af9\" fill-rule=\"evenodd\" fill-opacity=\"1\" stroke=\"#000000\" stroke-opacity=\"1\" stroke-width=\"3.2\"/>\n<circle clip-path=\"url(#clip152)\" cx=\"1787.39\" cy=\"1208.62\" r=\"14\" fill=\"#009af9\" fill-rule=\"evenodd\" fill-opacity=\"1\" stroke=\"#000000\" stroke-opacity=\"1\" stroke-width=\"3.2\"/>\n<circle clip-path=\"url(#clip152)\" cx=\"1813.84\" cy=\"1208.62\" r=\"14\" fill=\"#009af9\" fill-rule=\"evenodd\" fill-opacity=\"1\" stroke=\"#000000\" stroke-opacity=\"1\" stroke-width=\"3.2\"/>\n<circle clip-path=\"url(#clip152)\" cx=\"1840.33\" cy=\"1208.62\" r=\"14\" fill=\"#009af9\" fill-rule=\"evenodd\" fill-opacity=\"1\" stroke=\"#000000\" stroke-opacity=\"1\" stroke-width=\"3.2\"/>\n<circle clip-path=\"url(#clip152)\" cx=\"1866.82\" cy=\"1176.58\" r=\"14\" fill=\"#009af9\" fill-rule=\"evenodd\" fill-opacity=\"1\" stroke=\"#000000\" stroke-opacity=\"1\" stroke-width=\"3.2\"/>\n<circle clip-path=\"url(#clip152)\" cx=\"1893.35\" cy=\"1240.66\" r=\"14\" fill=\"#009af9\" fill-rule=\"evenodd\" fill-opacity=\"1\" stroke=\"#000000\" stroke-opacity=\"1\" stroke-width=\"3.2\"/>\n<circle clip-path=\"url(#clip152)\" cx=\"1919.85\" cy=\"1229.98\" r=\"14\" fill=\"#009af9\" fill-rule=\"evenodd\" fill-opacity=\"1\" stroke=\"#000000\" stroke-opacity=\"1\" stroke-width=\"3.2\"/>\n<circle clip-path=\"url(#clip152)\" cx=\"1946.32\" cy=\"1219.3\" r=\"14\" fill=\"#009af9\" fill-rule=\"evenodd\" fill-opacity=\"1\" stroke=\"#000000\" stroke-opacity=\"1\" stroke-width=\"3.2\"/>\n<circle clip-path=\"url(#clip152)\" cx=\"1972.79\" cy=\"1251.34\" r=\"14\" fill=\"#009af9\" fill-rule=\"evenodd\" fill-opacity=\"1\" stroke=\"#000000\" stroke-opacity=\"1\" stroke-width=\"3.2\"/>\n<circle clip-path=\"url(#clip152)\" cx=\"1999.26\" cy=\"1240.66\" r=\"14\" fill=\"#009af9\" fill-rule=\"evenodd\" fill-opacity=\"1\" stroke=\"#000000\" stroke-opacity=\"1\" stroke-width=\"3.2\"/>\n<circle clip-path=\"url(#clip152)\" cx=\"2025.72\" cy=\"1240.66\" r=\"14\" fill=\"#009af9\" fill-rule=\"evenodd\" fill-opacity=\"1\" stroke=\"#000000\" stroke-opacity=\"1\" stroke-width=\"3.2\"/>\n<circle clip-path=\"url(#clip152)\" cx=\"2052.21\" cy=\"1251.34\" r=\"14\" fill=\"#009af9\" fill-rule=\"evenodd\" fill-opacity=\"1\" stroke=\"#000000\" stroke-opacity=\"1\" stroke-width=\"3.2\"/>\n<circle clip-path=\"url(#clip152)\" cx=\"2078.67\" cy=\"1240.66\" r=\"14\" fill=\"#009af9\" fill-rule=\"evenodd\" fill-opacity=\"1\" stroke=\"#000000\" stroke-opacity=\"1\" stroke-width=\"3.2\"/>\n<circle clip-path=\"url(#clip152)\" cx=\"2105.16\" cy=\"1251.34\" r=\"14\" fill=\"#009af9\" fill-rule=\"evenodd\" fill-opacity=\"1\" stroke=\"#000000\" stroke-opacity=\"1\" stroke-width=\"3.2\"/>\n<circle clip-path=\"url(#clip152)\" cx=\"2131.57\" cy=\"1229.98\" r=\"14\" fill=\"#009af9\" fill-rule=\"evenodd\" fill-opacity=\"1\" stroke=\"#000000\" stroke-opacity=\"1\" stroke-width=\"3.2\"/>\n<circle clip-path=\"url(#clip152)\" cx=\"2157.95\" cy=\"1240.66\" r=\"14\" fill=\"#009af9\" fill-rule=\"evenodd\" fill-opacity=\"1\" stroke=\"#000000\" stroke-opacity=\"1\" stroke-width=\"3.2\"/>\n<circle clip-path=\"url(#clip152)\" cx=\"2184.34\" cy=\"1208.62\" r=\"14\" fill=\"#009af9\" fill-rule=\"evenodd\" fill-opacity=\"1\" stroke=\"#000000\" stroke-opacity=\"1\" stroke-width=\"3.2\"/>\n<circle clip-path=\"url(#clip152)\" cx=\"2210.74\" cy=\"1240.66\" r=\"14\" fill=\"#009af9\" fill-rule=\"evenodd\" fill-opacity=\"1\" stroke=\"#000000\" stroke-opacity=\"1\" stroke-width=\"3.2\"/>\n<circle clip-path=\"url(#clip152)\" cx=\"2237.2\" cy=\"1219.3\" r=\"14\" fill=\"#009af9\" fill-rule=\"evenodd\" fill-opacity=\"1\" stroke=\"#000000\" stroke-opacity=\"1\" stroke-width=\"3.2\"/>\n<circle clip-path=\"url(#clip152)\" cx=\"2263.66\" cy=\"1251.34\" r=\"14\" fill=\"#009af9\" fill-rule=\"evenodd\" fill-opacity=\"1\" stroke=\"#000000\" stroke-opacity=\"1\" stroke-width=\"3.2\"/>\n<circle clip-path=\"url(#clip152)\" cx=\"2290.1\" cy=\"1229.98\" r=\"14\" fill=\"#009af9\" fill-rule=\"evenodd\" fill-opacity=\"1\" stroke=\"#000000\" stroke-opacity=\"1\" stroke-width=\"3.2\"/>\n<polyline clip-path=\"url(#clip152)\" style=\"stroke:#e26f46; stroke-linecap:butt; stroke-linejoin:round; stroke-width:4; stroke-opacity:1; fill:none\" points=\"\n  201.614,1447.87 228.148,1164.62 254.639,1116.94 281.09,1087.29 307.561,1081.09 334.029,1075.51 360.422,1071.87 386.828,1069.6 413.22,1072.06 439.617,1065.1 \n  466.032,1065.99 492.39,1062.6 518.754,1059.2 545.139,1065.56 571.558,1057.38 597.928,1066.08 624.307,1057.79 650.793,1062.59 677.287,1061.72 703.744,1061.96 \n  730.245,1059.44 756.742,1062.57 783.232,1057.49 809.657,1068.31 836.011,1057.37 862.393,1070.72 888.877,1063.71 915.369,1066.23 941.876,1069.6 968.294,1069.85 \n  994.689,1071.78 1021.06,1073.82 1047.43,1110.41 1073.81,1112.92 1100.3,1113.48 1126.69,1113.72 1153.08,1113.9 1179.51,1114.03 1205.88,1114.12 1232.22,1114.18 \n  1258.63,1114.23 1285.03,1114.26 1311.42,1114.28 1337.8,1114.3 1364.21,1114.68 1390.58,1118.54 1417,1126.01 1443.42,1134.92 1469.83,1126.19 1496.21,1117.48 \n  1522.67,1110 1549.04,1103.81 1575.42,1098.72 1601.93,1094.51 1628.43,1091.1 1654.9,1088.34 1681.43,1086.12 1707.93,1084.36 1734.44,1082.96 1760.89,1081.88 \n  1787.39,1081.06 1813.84,1080.46 1840.33,1080.04 1866.82,1079.79 1893.35,1079.67 1919.85,1079.68 1946.32,1079.79 1972.79,1080.01 1999.26,1080.31 2025.72,1080.69 \n  2052.21,1081.15 2078.67,1081.67 2105.16,1082.26 2131.57,1082.9 2157.95,1083.6 2184.34,1084.35 2210.74,1085.14 2237.2,1086.02 2263.66,1087.14 2290.1,1088.17 \n  \n  \"/>\n<path clip-path=\"url(#clip152)\" d=\"M185.614 1431.87 L185.614 1463.87 L217.614 1463.87 L217.614 1431.87 L185.614 1431.87 Z\" fill=\"#e26f46\" fill-rule=\"evenodd\" fill-opacity=\"1\" stroke=\"#000000\" stroke-opacity=\"1\" stroke-width=\"3.2\"/>\n<path clip-path=\"url(#clip152)\" d=\"M212.148 1148.62 L212.148 1180.62 L244.148 1180.62 L244.148 1148.62 L212.148 1148.62 Z\" fill=\"#e26f46\" fill-rule=\"evenodd\" fill-opacity=\"1\" stroke=\"#000000\" stroke-opacity=\"1\" stroke-width=\"3.2\"/>\n<path clip-path=\"url(#clip152)\" d=\"M238.639 1100.94 L238.639 1132.94 L270.639 1132.94 L270.639 1100.94 L238.639 1100.94 Z\" fill=\"#e26f46\" fill-rule=\"evenodd\" fill-opacity=\"1\" stroke=\"#000000\" stroke-opacity=\"1\" stroke-width=\"3.2\"/>\n<path clip-path=\"url(#clip152)\" d=\"M265.09 1071.29 L265.09 1103.29 L297.09 1103.29 L297.09 1071.29 L265.09 1071.29 Z\" fill=\"#e26f46\" fill-rule=\"evenodd\" fill-opacity=\"1\" stroke=\"#000000\" stroke-opacity=\"1\" stroke-width=\"3.2\"/>\n<path clip-path=\"url(#clip152)\" d=\"M291.561 1065.09 L291.561 1097.09 L323.561 1097.09 L323.561 1065.09 L291.561 1065.09 Z\" fill=\"#e26f46\" fill-rule=\"evenodd\" fill-opacity=\"1\" stroke=\"#000000\" stroke-opacity=\"1\" stroke-width=\"3.2\"/>\n<path clip-path=\"url(#clip152)\" d=\"M318.029 1059.51 L318.029 1091.51 L350.029 1091.51 L350.029 1059.51 L318.029 1059.51 Z\" fill=\"#e26f46\" fill-rule=\"evenodd\" fill-opacity=\"1\" stroke=\"#000000\" stroke-opacity=\"1\" stroke-width=\"3.2\"/>\n<path clip-path=\"url(#clip152)\" d=\"M344.422 1055.87 L344.422 1087.87 L376.422 1087.87 L376.422 1055.87 L344.422 1055.87 Z\" fill=\"#e26f46\" fill-rule=\"evenodd\" fill-opacity=\"1\" stroke=\"#000000\" stroke-opacity=\"1\" stroke-width=\"3.2\"/>\n<path clip-path=\"url(#clip152)\" d=\"M370.828 1053.6 L370.828 1085.6 L402.828 1085.6 L402.828 1053.6 L370.828 1053.6 Z\" fill=\"#e26f46\" fill-rule=\"evenodd\" fill-opacity=\"1\" stroke=\"#000000\" stroke-opacity=\"1\" stroke-width=\"3.2\"/>\n<path clip-path=\"url(#clip152)\" d=\"M397.22 1056.06 L397.22 1088.06 L429.22 1088.06 L429.22 1056.06 L397.22 1056.06 Z\" fill=\"#e26f46\" fill-rule=\"evenodd\" fill-opacity=\"1\" stroke=\"#000000\" stroke-opacity=\"1\" stroke-width=\"3.2\"/>\n<path clip-path=\"url(#clip152)\" d=\"M423.617 1049.1 L423.617 1081.1 L455.617 1081.1 L455.617 1049.1 L423.617 1049.1 Z\" fill=\"#e26f46\" fill-rule=\"evenodd\" fill-opacity=\"1\" stroke=\"#000000\" stroke-opacity=\"1\" stroke-width=\"3.2\"/>\n<path clip-path=\"url(#clip152)\" d=\"M450.032 1049.99 L450.032 1081.99 L482.032 1081.99 L482.032 1049.99 L450.032 1049.99 Z\" fill=\"#e26f46\" fill-rule=\"evenodd\" fill-opacity=\"1\" stroke=\"#000000\" stroke-opacity=\"1\" stroke-width=\"3.2\"/>\n<path clip-path=\"url(#clip152)\" d=\"M476.39 1046.6 L476.39 1078.6 L508.39 1078.6 L508.39 1046.6 L476.39 1046.6 Z\" fill=\"#e26f46\" fill-rule=\"evenodd\" fill-opacity=\"1\" stroke=\"#000000\" stroke-opacity=\"1\" stroke-width=\"3.2\"/>\n<path clip-path=\"url(#clip152)\" d=\"M502.754 1043.2 L502.754 1075.2 L534.754 1075.2 L534.754 1043.2 L502.754 1043.2 Z\" fill=\"#e26f46\" fill-rule=\"evenodd\" fill-opacity=\"1\" stroke=\"#000000\" stroke-opacity=\"1\" stroke-width=\"3.2\"/>\n<path clip-path=\"url(#clip152)\" d=\"M529.139 1049.56 L529.139 1081.56 L561.139 1081.56 L561.139 1049.56 L529.139 1049.56 Z\" fill=\"#e26f46\" fill-rule=\"evenodd\" fill-opacity=\"1\" stroke=\"#000000\" stroke-opacity=\"1\" stroke-width=\"3.2\"/>\n<path clip-path=\"url(#clip152)\" d=\"M555.558 1041.38 L555.558 1073.38 L587.558 1073.38 L587.558 1041.38 L555.558 1041.38 Z\" fill=\"#e26f46\" fill-rule=\"evenodd\" fill-opacity=\"1\" stroke=\"#000000\" stroke-opacity=\"1\" stroke-width=\"3.2\"/>\n<path clip-path=\"url(#clip152)\" d=\"M581.928 1050.08 L581.928 1082.08 L613.928 1082.08 L613.928 1050.08 L581.928 1050.08 Z\" fill=\"#e26f46\" fill-rule=\"evenodd\" fill-opacity=\"1\" stroke=\"#000000\" stroke-opacity=\"1\" stroke-width=\"3.2\"/>\n<path clip-path=\"url(#clip152)\" d=\"M608.307 1041.79 L608.307 1073.79 L640.307 1073.79 L640.307 1041.79 L608.307 1041.79 Z\" fill=\"#e26f46\" fill-rule=\"evenodd\" fill-opacity=\"1\" stroke=\"#000000\" stroke-opacity=\"1\" stroke-width=\"3.2\"/>\n<path clip-path=\"url(#clip152)\" d=\"M634.793 1046.59 L634.793 1078.59 L666.793 1078.59 L666.793 1046.59 L634.793 1046.59 Z\" fill=\"#e26f46\" fill-rule=\"evenodd\" fill-opacity=\"1\" stroke=\"#000000\" stroke-opacity=\"1\" stroke-width=\"3.2\"/>\n<path clip-path=\"url(#clip152)\" d=\"M661.287 1045.72 L661.287 1077.72 L693.287 1077.72 L693.287 1045.72 L661.287 1045.72 Z\" fill=\"#e26f46\" fill-rule=\"evenodd\" fill-opacity=\"1\" stroke=\"#000000\" stroke-opacity=\"1\" stroke-width=\"3.2\"/>\n<path clip-path=\"url(#clip152)\" d=\"M687.744 1045.96 L687.744 1077.96 L719.744 1077.96 L719.744 1045.96 L687.744 1045.96 Z\" fill=\"#e26f46\" fill-rule=\"evenodd\" fill-opacity=\"1\" stroke=\"#000000\" stroke-opacity=\"1\" stroke-width=\"3.2\"/>\n<path clip-path=\"url(#clip152)\" d=\"M714.245 1043.44 L714.245 1075.44 L746.245 1075.44 L746.245 1043.44 L714.245 1043.44 Z\" fill=\"#e26f46\" fill-rule=\"evenodd\" fill-opacity=\"1\" stroke=\"#000000\" stroke-opacity=\"1\" stroke-width=\"3.2\"/>\n<path clip-path=\"url(#clip152)\" d=\"M740.742 1046.57 L740.742 1078.57 L772.742 1078.57 L772.742 1046.57 L740.742 1046.57 Z\" fill=\"#e26f46\" fill-rule=\"evenodd\" fill-opacity=\"1\" stroke=\"#000000\" stroke-opacity=\"1\" stroke-width=\"3.2\"/>\n<path clip-path=\"url(#clip152)\" d=\"M767.232 1041.49 L767.232 1073.49 L799.232 1073.49 L799.232 1041.49 L767.232 1041.49 Z\" fill=\"#e26f46\" fill-rule=\"evenodd\" fill-opacity=\"1\" stroke=\"#000000\" stroke-opacity=\"1\" stroke-width=\"3.2\"/>\n<path clip-path=\"url(#clip152)\" d=\"M793.657 1052.31 L793.657 1084.31 L825.657 1084.31 L825.657 1052.31 L793.657 1052.31 Z\" fill=\"#e26f46\" fill-rule=\"evenodd\" fill-opacity=\"1\" stroke=\"#000000\" stroke-opacity=\"1\" stroke-width=\"3.2\"/>\n<path clip-path=\"url(#clip152)\" d=\"M820.011 1041.37 L820.011 1073.37 L852.011 1073.37 L852.011 1041.37 L820.011 1041.37 Z\" fill=\"#e26f46\" fill-rule=\"evenodd\" fill-opacity=\"1\" stroke=\"#000000\" stroke-opacity=\"1\" stroke-width=\"3.2\"/>\n<path clip-path=\"url(#clip152)\" d=\"M846.393 1054.72 L846.393 1086.72 L878.393 1086.72 L878.393 1054.72 L846.393 1054.72 Z\" fill=\"#e26f46\" fill-rule=\"evenodd\" fill-opacity=\"1\" stroke=\"#000000\" stroke-opacity=\"1\" stroke-width=\"3.2\"/>\n<path clip-path=\"url(#clip152)\" d=\"M872.877 1047.71 L872.877 1079.71 L904.877 1079.71 L904.877 1047.71 L872.877 1047.71 Z\" fill=\"#e26f46\" fill-rule=\"evenodd\" fill-opacity=\"1\" stroke=\"#000000\" stroke-opacity=\"1\" stroke-width=\"3.2\"/>\n<path clip-path=\"url(#clip152)\" d=\"M899.369 1050.23 L899.369 1082.23 L931.369 1082.23 L931.369 1050.23 L899.369 1050.23 Z\" fill=\"#e26f46\" fill-rule=\"evenodd\" fill-opacity=\"1\" stroke=\"#000000\" stroke-opacity=\"1\" stroke-width=\"3.2\"/>\n<path clip-path=\"url(#clip152)\" d=\"M925.876 1053.6 L925.876 1085.6 L957.876 1085.6 L957.876 1053.6 L925.876 1053.6 Z\" fill=\"#e26f46\" fill-rule=\"evenodd\" fill-opacity=\"1\" stroke=\"#000000\" stroke-opacity=\"1\" stroke-width=\"3.2\"/>\n<path clip-path=\"url(#clip152)\" d=\"M952.294 1053.85 L952.294 1085.85 L984.294 1085.85 L984.294 1053.85 L952.294 1053.85 Z\" fill=\"#e26f46\" fill-rule=\"evenodd\" fill-opacity=\"1\" stroke=\"#000000\" stroke-opacity=\"1\" stroke-width=\"3.2\"/>\n<path clip-path=\"url(#clip152)\" d=\"M978.689 1055.78 L978.689 1087.78 L1010.69 1087.78 L1010.69 1055.78 L978.689 1055.78 Z\" fill=\"#e26f46\" fill-rule=\"evenodd\" fill-opacity=\"1\" stroke=\"#000000\" stroke-opacity=\"1\" stroke-width=\"3.2\"/>\n<path clip-path=\"url(#clip152)\" d=\"M1005.06 1057.82 L1005.06 1089.82 L1037.06 1089.82 L1037.06 1057.82 L1005.06 1057.82 Z\" fill=\"#e26f46\" fill-rule=\"evenodd\" fill-opacity=\"1\" stroke=\"#000000\" stroke-opacity=\"1\" stroke-width=\"3.2\"/>\n<path clip-path=\"url(#clip152)\" d=\"M1031.43 1094.41 L1031.43 1126.41 L1063.43 1126.41 L1063.43 1094.41 L1031.43 1094.41 Z\" fill=\"#e26f46\" fill-rule=\"evenodd\" fill-opacity=\"1\" stroke=\"#000000\" stroke-opacity=\"1\" stroke-width=\"3.2\"/>\n<path clip-path=\"url(#clip152)\" d=\"M1057.81 1096.92 L1057.81 1128.92 L1089.81 1128.92 L1089.81 1096.92 L1057.81 1096.92 Z\" fill=\"#e26f46\" fill-rule=\"evenodd\" fill-opacity=\"1\" stroke=\"#000000\" stroke-opacity=\"1\" stroke-width=\"3.2\"/>\n<path clip-path=\"url(#clip152)\" d=\"M1084.3 1097.48 L1084.3 1129.48 L1116.3 1129.48 L1116.3 1097.48 L1084.3 1097.48 Z\" fill=\"#e26f46\" fill-rule=\"evenodd\" fill-opacity=\"1\" stroke=\"#000000\" stroke-opacity=\"1\" stroke-width=\"3.2\"/>\n<path clip-path=\"url(#clip152)\" d=\"M1110.69 1097.72 L1110.69 1129.72 L1142.69 1129.72 L1142.69 1097.72 L1110.69 1097.72 Z\" fill=\"#e26f46\" fill-rule=\"evenodd\" fill-opacity=\"1\" stroke=\"#000000\" stroke-opacity=\"1\" stroke-width=\"3.2\"/>\n<path clip-path=\"url(#clip152)\" d=\"M1137.08 1097.9 L1137.08 1129.9 L1169.08 1129.9 L1169.08 1097.9 L1137.08 1097.9 Z\" fill=\"#e26f46\" fill-rule=\"evenodd\" fill-opacity=\"1\" stroke=\"#000000\" stroke-opacity=\"1\" stroke-width=\"3.2\"/>\n<path clip-path=\"url(#clip152)\" d=\"M1163.51 1098.03 L1163.51 1130.03 L1195.51 1130.03 L1195.51 1098.03 L1163.51 1098.03 Z\" fill=\"#e26f46\" fill-rule=\"evenodd\" fill-opacity=\"1\" stroke=\"#000000\" stroke-opacity=\"1\" stroke-width=\"3.2\"/>\n<path clip-path=\"url(#clip152)\" d=\"M1189.88 1098.12 L1189.88 1130.12 L1221.88 1130.12 L1221.88 1098.12 L1189.88 1098.12 Z\" fill=\"#e26f46\" fill-rule=\"evenodd\" fill-opacity=\"1\" stroke=\"#000000\" stroke-opacity=\"1\" stroke-width=\"3.2\"/>\n<path clip-path=\"url(#clip152)\" d=\"M1216.22 1098.18 L1216.22 1130.18 L1248.22 1130.18 L1248.22 1098.18 L1216.22 1098.18 Z\" fill=\"#e26f46\" fill-rule=\"evenodd\" fill-opacity=\"1\" stroke=\"#000000\" stroke-opacity=\"1\" stroke-width=\"3.2\"/>\n<path clip-path=\"url(#clip152)\" d=\"M1242.63 1098.23 L1242.63 1130.23 L1274.63 1130.23 L1274.63 1098.23 L1242.63 1098.23 Z\" fill=\"#e26f46\" fill-rule=\"evenodd\" fill-opacity=\"1\" stroke=\"#000000\" stroke-opacity=\"1\" stroke-width=\"3.2\"/>\n<path clip-path=\"url(#clip152)\" d=\"M1269.03 1098.26 L1269.03 1130.26 L1301.03 1130.26 L1301.03 1098.26 L1269.03 1098.26 Z\" fill=\"#e26f46\" fill-rule=\"evenodd\" fill-opacity=\"1\" stroke=\"#000000\" stroke-opacity=\"1\" stroke-width=\"3.2\"/>\n<path clip-path=\"url(#clip152)\" d=\"M1295.42 1098.28 L1295.42 1130.28 L1327.42 1130.28 L1327.42 1098.28 L1295.42 1098.28 Z\" fill=\"#e26f46\" fill-rule=\"evenodd\" fill-opacity=\"1\" stroke=\"#000000\" stroke-opacity=\"1\" stroke-width=\"3.2\"/>\n<path clip-path=\"url(#clip152)\" d=\"M1321.8 1098.3 L1321.8 1130.3 L1353.8 1130.3 L1353.8 1098.3 L1321.8 1098.3 Z\" fill=\"#e26f46\" fill-rule=\"evenodd\" fill-opacity=\"1\" stroke=\"#000000\" stroke-opacity=\"1\" stroke-width=\"3.2\"/>\n<path clip-path=\"url(#clip152)\" d=\"M1348.21 1098.68 L1348.21 1130.68 L1380.21 1130.68 L1380.21 1098.68 L1348.21 1098.68 Z\" fill=\"#e26f46\" fill-rule=\"evenodd\" fill-opacity=\"1\" stroke=\"#000000\" stroke-opacity=\"1\" stroke-width=\"3.2\"/>\n<path clip-path=\"url(#clip152)\" d=\"M1374.58 1102.54 L1374.58 1134.54 L1406.58 1134.54 L1406.58 1102.54 L1374.58 1102.54 Z\" fill=\"#e26f46\" fill-rule=\"evenodd\" fill-opacity=\"1\" stroke=\"#000000\" stroke-opacity=\"1\" stroke-width=\"3.2\"/>\n<path clip-path=\"url(#clip152)\" d=\"M1401 1110.01 L1401 1142.01 L1433 1142.01 L1433 1110.01 L1401 1110.01 Z\" fill=\"#e26f46\" fill-rule=\"evenodd\" fill-opacity=\"1\" stroke=\"#000000\" stroke-opacity=\"1\" stroke-width=\"3.2\"/>\n<path clip-path=\"url(#clip152)\" d=\"M1427.42 1118.92 L1427.42 1150.92 L1459.42 1150.92 L1459.42 1118.92 L1427.42 1118.92 Z\" fill=\"#e26f46\" fill-rule=\"evenodd\" fill-opacity=\"1\" stroke=\"#000000\" stroke-opacity=\"1\" stroke-width=\"3.2\"/>\n<path clip-path=\"url(#clip152)\" d=\"M1453.83 1110.19 L1453.83 1142.19 L1485.83 1142.19 L1485.83 1110.19 L1453.83 1110.19 Z\" fill=\"#e26f46\" fill-rule=\"evenodd\" fill-opacity=\"1\" stroke=\"#000000\" stroke-opacity=\"1\" stroke-width=\"3.2\"/>\n<path clip-path=\"url(#clip152)\" d=\"M1480.21 1101.48 L1480.21 1133.48 L1512.21 1133.48 L1512.21 1101.48 L1480.21 1101.48 Z\" fill=\"#e26f46\" fill-rule=\"evenodd\" fill-opacity=\"1\" stroke=\"#000000\" stroke-opacity=\"1\" stroke-width=\"3.2\"/>\n<path clip-path=\"url(#clip152)\" d=\"M1506.67 1094 L1506.67 1126 L1538.67 1126 L1538.67 1094 L1506.67 1094 Z\" fill=\"#e26f46\" fill-rule=\"evenodd\" fill-opacity=\"1\" stroke=\"#000000\" stroke-opacity=\"1\" stroke-width=\"3.2\"/>\n<path clip-path=\"url(#clip152)\" d=\"M1533.04 1087.81 L1533.04 1119.81 L1565.04 1119.81 L1565.04 1087.81 L1533.04 1087.81 Z\" fill=\"#e26f46\" fill-rule=\"evenodd\" fill-opacity=\"1\" stroke=\"#000000\" stroke-opacity=\"1\" stroke-width=\"3.2\"/>\n<path clip-path=\"url(#clip152)\" d=\"M1559.42 1082.72 L1559.42 1114.72 L1591.42 1114.72 L1591.42 1082.72 L1559.42 1082.72 Z\" fill=\"#e26f46\" fill-rule=\"evenodd\" fill-opacity=\"1\" stroke=\"#000000\" stroke-opacity=\"1\" stroke-width=\"3.2\"/>\n<path clip-path=\"url(#clip152)\" d=\"M1585.93 1078.51 L1585.93 1110.51 L1617.93 1110.51 L1617.93 1078.51 L1585.93 1078.51 Z\" fill=\"#e26f46\" fill-rule=\"evenodd\" fill-opacity=\"1\" stroke=\"#000000\" stroke-opacity=\"1\" stroke-width=\"3.2\"/>\n<path clip-path=\"url(#clip152)\" d=\"M1612.43 1075.1 L1612.43 1107.1 L1644.43 1107.1 L1644.43 1075.1 L1612.43 1075.1 Z\" fill=\"#e26f46\" fill-rule=\"evenodd\" fill-opacity=\"1\" stroke=\"#000000\" stroke-opacity=\"1\" stroke-width=\"3.2\"/>\n<path clip-path=\"url(#clip152)\" d=\"M1638.9 1072.34 L1638.9 1104.34 L1670.9 1104.34 L1670.9 1072.34 L1638.9 1072.34 Z\" fill=\"#e26f46\" fill-rule=\"evenodd\" fill-opacity=\"1\" stroke=\"#000000\" stroke-opacity=\"1\" stroke-width=\"3.2\"/>\n<path clip-path=\"url(#clip152)\" d=\"M1665.43 1070.12 L1665.43 1102.12 L1697.43 1102.12 L1697.43 1070.12 L1665.43 1070.12 Z\" fill=\"#e26f46\" fill-rule=\"evenodd\" fill-opacity=\"1\" stroke=\"#000000\" stroke-opacity=\"1\" stroke-width=\"3.2\"/>\n<path clip-path=\"url(#clip152)\" d=\"M1691.93 1068.36 L1691.93 1100.36 L1723.93 1100.36 L1723.93 1068.36 L1691.93 1068.36 Z\" fill=\"#e26f46\" fill-rule=\"evenodd\" fill-opacity=\"1\" stroke=\"#000000\" stroke-opacity=\"1\" stroke-width=\"3.2\"/>\n<path clip-path=\"url(#clip152)\" d=\"M1718.44 1066.96 L1718.44 1098.96 L1750.44 1098.96 L1750.44 1066.96 L1718.44 1066.96 Z\" fill=\"#e26f46\" fill-rule=\"evenodd\" fill-opacity=\"1\" stroke=\"#000000\" stroke-opacity=\"1\" stroke-width=\"3.2\"/>\n<path clip-path=\"url(#clip152)\" d=\"M1744.89 1065.88 L1744.89 1097.88 L1776.89 1097.88 L1776.89 1065.88 L1744.89 1065.88 Z\" fill=\"#e26f46\" fill-rule=\"evenodd\" fill-opacity=\"1\" stroke=\"#000000\" stroke-opacity=\"1\" stroke-width=\"3.2\"/>\n<path clip-path=\"url(#clip152)\" d=\"M1771.39 1065.06 L1771.39 1097.06 L1803.39 1097.06 L1803.39 1065.06 L1771.39 1065.06 Z\" fill=\"#e26f46\" fill-rule=\"evenodd\" fill-opacity=\"1\" stroke=\"#000000\" stroke-opacity=\"1\" stroke-width=\"3.2\"/>\n<path clip-path=\"url(#clip152)\" d=\"M1797.84 1064.46 L1797.84 1096.46 L1829.84 1096.46 L1829.84 1064.46 L1797.84 1064.46 Z\" fill=\"#e26f46\" fill-rule=\"evenodd\" fill-opacity=\"1\" stroke=\"#000000\" stroke-opacity=\"1\" stroke-width=\"3.2\"/>\n<path clip-path=\"url(#clip152)\" d=\"M1824.33 1064.04 L1824.33 1096.04 L1856.33 1096.04 L1856.33 1064.04 L1824.33 1064.04 Z\" fill=\"#e26f46\" fill-rule=\"evenodd\" fill-opacity=\"1\" stroke=\"#000000\" stroke-opacity=\"1\" stroke-width=\"3.2\"/>\n<path clip-path=\"url(#clip152)\" d=\"M1850.82 1063.79 L1850.82 1095.79 L1882.82 1095.79 L1882.82 1063.79 L1850.82 1063.79 Z\" fill=\"#e26f46\" fill-rule=\"evenodd\" fill-opacity=\"1\" stroke=\"#000000\" stroke-opacity=\"1\" stroke-width=\"3.2\"/>\n<path clip-path=\"url(#clip152)\" d=\"M1877.35 1063.67 L1877.35 1095.67 L1909.35 1095.67 L1909.35 1063.67 L1877.35 1063.67 Z\" fill=\"#e26f46\" fill-rule=\"evenodd\" fill-opacity=\"1\" stroke=\"#000000\" stroke-opacity=\"1\" stroke-width=\"3.2\"/>\n<path clip-path=\"url(#clip152)\" d=\"M1903.85 1063.68 L1903.85 1095.68 L1935.85 1095.68 L1935.85 1063.68 L1903.85 1063.68 Z\" fill=\"#e26f46\" fill-rule=\"evenodd\" fill-opacity=\"1\" stroke=\"#000000\" stroke-opacity=\"1\" stroke-width=\"3.2\"/>\n<path clip-path=\"url(#clip152)\" d=\"M1930.32 1063.79 L1930.32 1095.79 L1962.32 1095.79 L1962.32 1063.79 L1930.32 1063.79 Z\" fill=\"#e26f46\" fill-rule=\"evenodd\" fill-opacity=\"1\" stroke=\"#000000\" stroke-opacity=\"1\" stroke-width=\"3.2\"/>\n<path clip-path=\"url(#clip152)\" d=\"M1956.79 1064.01 L1956.79 1096.01 L1988.79 1096.01 L1988.79 1064.01 L1956.79 1064.01 Z\" fill=\"#e26f46\" fill-rule=\"evenodd\" fill-opacity=\"1\" stroke=\"#000000\" stroke-opacity=\"1\" stroke-width=\"3.2\"/>\n<path clip-path=\"url(#clip152)\" d=\"M1983.26 1064.31 L1983.26 1096.31 L2015.26 1096.31 L2015.26 1064.31 L1983.26 1064.31 Z\" fill=\"#e26f46\" fill-rule=\"evenodd\" fill-opacity=\"1\" stroke=\"#000000\" stroke-opacity=\"1\" stroke-width=\"3.2\"/>\n<path clip-path=\"url(#clip152)\" d=\"M2009.72 1064.69 L2009.72 1096.69 L2041.72 1096.69 L2041.72 1064.69 L2009.72 1064.69 Z\" fill=\"#e26f46\" fill-rule=\"evenodd\" fill-opacity=\"1\" stroke=\"#000000\" stroke-opacity=\"1\" stroke-width=\"3.2\"/>\n<path clip-path=\"url(#clip152)\" d=\"M2036.21 1065.15 L2036.21 1097.15 L2068.21 1097.15 L2068.21 1065.15 L2036.21 1065.15 Z\" fill=\"#e26f46\" fill-rule=\"evenodd\" fill-opacity=\"1\" stroke=\"#000000\" stroke-opacity=\"1\" stroke-width=\"3.2\"/>\n<path clip-path=\"url(#clip152)\" d=\"M2062.67 1065.67 L2062.67 1097.67 L2094.67 1097.67 L2094.67 1065.67 L2062.67 1065.67 Z\" fill=\"#e26f46\" fill-rule=\"evenodd\" fill-opacity=\"1\" stroke=\"#000000\" stroke-opacity=\"1\" stroke-width=\"3.2\"/>\n<path clip-path=\"url(#clip152)\" d=\"M2089.16 1066.26 L2089.16 1098.26 L2121.16 1098.26 L2121.16 1066.26 L2089.16 1066.26 Z\" fill=\"#e26f46\" fill-rule=\"evenodd\" fill-opacity=\"1\" stroke=\"#000000\" stroke-opacity=\"1\" stroke-width=\"3.2\"/>\n<path clip-path=\"url(#clip152)\" d=\"M2115.57 1066.9 L2115.57 1098.9 L2147.57 1098.9 L2147.57 1066.9 L2115.57 1066.9 Z\" fill=\"#e26f46\" fill-rule=\"evenodd\" fill-opacity=\"1\" stroke=\"#000000\" stroke-opacity=\"1\" stroke-width=\"3.2\"/>\n<path clip-path=\"url(#clip152)\" d=\"M2141.95 1067.6 L2141.95 1099.6 L2173.95 1099.6 L2173.95 1067.6 L2141.95 1067.6 Z\" fill=\"#e26f46\" fill-rule=\"evenodd\" fill-opacity=\"1\" stroke=\"#000000\" stroke-opacity=\"1\" stroke-width=\"3.2\"/>\n<path clip-path=\"url(#clip152)\" d=\"M2168.34 1068.35 L2168.34 1100.35 L2200.34 1100.35 L2200.34 1068.35 L2168.34 1068.35 Z\" fill=\"#e26f46\" fill-rule=\"evenodd\" fill-opacity=\"1\" stroke=\"#000000\" stroke-opacity=\"1\" stroke-width=\"3.2\"/>\n<path clip-path=\"url(#clip152)\" d=\"M2194.74 1069.14 L2194.74 1101.14 L2226.74 1101.14 L2226.74 1069.14 L2194.74 1069.14 Z\" fill=\"#e26f46\" fill-rule=\"evenodd\" fill-opacity=\"1\" stroke=\"#000000\" stroke-opacity=\"1\" stroke-width=\"3.2\"/>\n<path clip-path=\"url(#clip152)\" d=\"M2221.2 1070.02 L2221.2 1102.02 L2253.2 1102.02 L2253.2 1070.02 L2221.2 1070.02 Z\" fill=\"#e26f46\" fill-rule=\"evenodd\" fill-opacity=\"1\" stroke=\"#000000\" stroke-opacity=\"1\" stroke-width=\"3.2\"/>\n<path clip-path=\"url(#clip152)\" d=\"M2247.66 1071.14 L2247.66 1103.14 L2279.66 1103.14 L2279.66 1071.14 L2247.66 1071.14 Z\" fill=\"#e26f46\" fill-rule=\"evenodd\" fill-opacity=\"1\" stroke=\"#000000\" stroke-opacity=\"1\" stroke-width=\"3.2\"/>\n<path clip-path=\"url(#clip152)\" d=\"M2274.1 1072.17 L2274.1 1104.17 L2306.1 1104.17 L2306.1 1072.17 L2274.1 1072.17 Z\" fill=\"#e26f46\" fill-rule=\"evenodd\" fill-opacity=\"1\" stroke=\"#000000\" stroke-opacity=\"1\" stroke-width=\"3.2\"/>\n<path clip-path=\"url(#clip150)\" d=\"\nM1803.47 324.425 L2278.96 324.425 L2278.96 168.905 L1803.47 168.905  Z\n  \" fill=\"#ffffff\" fill-rule=\"evenodd\" fill-opacity=\"1\"/>\n<polyline clip-path=\"url(#clip150)\" style=\"stroke:#000000; stroke-linecap:butt; stroke-linejoin:round; stroke-width:4; stroke-opacity:1; fill:none\" points=\"\n  1803.47,324.425 2278.96,324.425 2278.96,168.905 1803.47,168.905 1803.47,324.425 \n  \"/>\n<polyline clip-path=\"url(#clip150)\" style=\"stroke:#009af9; stroke-linecap:butt; stroke-linejoin:round; stroke-width:4; stroke-opacity:1; fill:none\" points=\"\n  1828.07,220.745 1975.66,220.745 \n  \"/>\n<circle clip-path=\"url(#clip150)\" cx=\"1901.86\" cy=\"220.745\" r=\"23\" fill=\"#009af9\" fill-rule=\"evenodd\" fill-opacity=\"1\" stroke=\"#000000\" stroke-opacity=\"1\" stroke-width=\"5.12\"/>\n<path clip-path=\"url(#clip150)\" d=\"M2007.66 204.738 L2007.66 212.099 L2016.44 212.099 L2016.44 215.409 L2007.66 215.409 L2007.66 229.483 Q2007.66 232.654 2008.52 233.557 Q2009.4 234.46 2012.06 234.46 L2016.44 234.46 L2016.44 238.025 L2012.06 238.025 Q2007.13 238.025 2005.25 236.196 Q2003.38 234.344 2003.38 229.483 L2003.38 215.409 L2000.25 215.409 L2000.25 212.099 L2003.38 212.099 L2003.38 204.738 L2007.66 204.738 Z\" fill=\"#000000\" fill-rule=\"evenodd\" fill-opacity=\"1\" /><path clip-path=\"url(#clip150)\" d=\"M2037.06 216.08 Q2036.34 215.664 2035.49 215.478 Q2034.65 215.27 2033.63 215.27 Q2030.02 215.27 2028.08 217.631 Q2026.16 219.969 2026.16 224.367 L2026.16 238.025 L2021.87 238.025 L2021.87 212.099 L2026.16 212.099 L2026.16 216.127 Q2027.5 213.766 2029.65 212.631 Q2031.81 211.474 2034.88 211.474 Q2035.32 211.474 2035.86 211.543 Q2036.39 211.59 2037.04 211.705 L2037.06 216.08 Z\" fill=\"#000000\" fill-rule=\"evenodd\" fill-opacity=\"1\" /><path clip-path=\"url(#clip150)\" d=\"M2041.09 227.793 L2041.09 212.099 L2045.35 212.099 L2045.35 227.631 Q2045.35 231.312 2046.78 233.164 Q2048.22 234.992 2051.09 234.992 Q2054.54 234.992 2056.53 232.793 Q2058.54 230.594 2058.54 226.798 L2058.54 212.099 L2062.8 212.099 L2062.8 238.025 L2058.54 238.025 L2058.54 234.043 Q2056.99 236.404 2054.93 237.562 Q2052.89 238.696 2050.18 238.696 Q2045.72 238.696 2043.4 235.918 Q2041.09 233.14 2041.09 227.793 M2051.81 211.474 L2051.81 211.474 Z\" fill=\"#000000\" fill-rule=\"evenodd\" fill-opacity=\"1\" /><path clip-path=\"url(#clip150)\" d=\"M2093.75 223.997 L2093.75 226.08 L2074.17 226.08 Q2074.44 230.478 2076.81 232.793 Q2079.19 235.085 2083.43 235.085 Q2085.88 235.085 2088.17 234.483 Q2090.49 233.881 2092.75 232.677 L2092.75 236.705 Q2090.46 237.677 2088.06 238.187 Q2085.65 238.696 2083.17 238.696 Q2076.97 238.696 2073.33 235.085 Q2069.72 231.474 2069.72 225.316 Q2069.72 218.951 2073.15 215.224 Q2076.6 211.474 2082.43 211.474 Q2087.66 211.474 2090.69 214.853 Q2093.75 218.21 2093.75 223.997 M2089.49 222.747 Q2089.44 219.252 2087.52 217.168 Q2085.62 215.085 2082.48 215.085 Q2078.91 215.085 2076.76 217.099 Q2074.63 219.113 2074.31 222.77 L2089.49 222.747 Z\" fill=\"#000000\" fill-rule=\"evenodd\" fill-opacity=\"1\" /><polyline clip-path=\"url(#clip150)\" style=\"stroke:#e26f46; stroke-linecap:butt; stroke-linejoin:round; stroke-width:4; stroke-opacity:1; fill:none\" points=\"\n  1828.07,272.585 1975.66,272.585 \n  \"/>\n<path clip-path=\"url(#clip150)\" d=\"M1876.26 246.985 L1876.26 298.185 L1927.46 298.185 L1927.46 246.985 L1876.26 246.985 Z\" fill=\"#e26f46\" fill-rule=\"evenodd\" fill-opacity=\"1\" stroke=\"#000000\" stroke-opacity=\"1\" stroke-width=\"5.12\"/>\n<path clip-path=\"url(#clip150)\" d=\"M2004.54 285.976 L2004.54 299.726 L2000.25 299.726 L2000.25 263.939 L2004.54 263.939 L2004.54 267.874 Q2005.88 265.559 2007.92 264.448 Q2009.98 263.314 2012.82 263.314 Q2017.55 263.314 2020.49 267.064 Q2023.45 270.814 2023.45 276.925 Q2023.45 283.036 2020.49 286.786 Q2017.55 290.536 2012.82 290.536 Q2009.98 290.536 2007.92 289.425 Q2005.88 288.291 2004.54 285.976 M2019.03 276.925 Q2019.03 272.226 2017.08 269.564 Q2015.16 266.879 2011.78 266.879 Q2008.4 266.879 2006.46 269.564 Q2004.54 272.226 2004.54 276.925 Q2004.54 281.624 2006.46 284.309 Q2008.4 286.971 2011.78 286.971 Q2015.16 286.971 2017.08 284.309 Q2019.03 281.624 2019.03 276.925 Z\" fill=\"#000000\" fill-rule=\"evenodd\" fill-opacity=\"1\" /><path clip-path=\"url(#clip150)\" d=\"M2045.53 267.92 Q2044.81 267.504 2043.96 267.318 Q2043.12 267.11 2042.11 267.11 Q2038.5 267.11 2036.55 269.471 Q2034.63 271.809 2034.63 276.207 L2034.63 289.865 L2030.35 289.865 L2030.35 263.939 L2034.63 263.939 L2034.63 267.967 Q2035.97 265.606 2038.12 264.471 Q2040.28 263.314 2043.36 263.314 Q2043.8 263.314 2044.33 263.383 Q2044.86 263.43 2045.51 263.545 L2045.53 267.92 Z\" fill=\"#000000\" fill-rule=\"evenodd\" fill-opacity=\"1\" /><path clip-path=\"url(#clip150)\" d=\"M2071.13 275.837 L2071.13 277.92 L2051.55 277.92 Q2051.83 282.318 2054.19 284.633 Q2056.57 286.925 2060.81 286.925 Q2063.26 286.925 2065.56 286.323 Q2067.87 285.721 2070.14 284.517 L2070.14 288.545 Q2067.85 289.517 2065.44 290.027 Q2063.03 290.536 2060.56 290.536 Q2054.35 290.536 2050.72 286.925 Q2047.11 283.314 2047.11 277.156 Q2047.11 270.791 2050.53 267.064 Q2053.98 263.314 2059.81 263.314 Q2065.05 263.314 2068.08 266.693 Q2071.13 270.05 2071.13 275.837 M2066.87 274.587 Q2066.83 271.092 2064.91 269.008 Q2063.01 266.925 2059.86 266.925 Q2056.3 266.925 2054.14 268.939 Q2052.01 270.953 2051.69 274.61 L2066.87 274.587 Z\" fill=\"#000000\" fill-rule=\"evenodd\" fill-opacity=\"1\" /><path clip-path=\"url(#clip150)\" d=\"M2095.18 267.874 L2095.18 253.846 L2099.44 253.846 L2099.44 289.865 L2095.18 289.865 L2095.18 285.976 Q2093.84 288.291 2091.78 289.425 Q2089.74 290.536 2086.87 290.536 Q2082.18 290.536 2079.21 286.786 Q2076.27 283.036 2076.27 276.925 Q2076.27 270.814 2079.21 267.064 Q2082.18 263.314 2086.87 263.314 Q2089.74 263.314 2091.78 264.448 Q2093.84 265.559 2095.18 267.874 M2080.67 276.925 Q2080.67 281.624 2082.59 284.309 Q2084.54 286.971 2087.92 286.971 Q2091.3 286.971 2093.24 284.309 Q2095.18 281.624 2095.18 276.925 Q2095.18 272.226 2093.24 269.564 Q2091.3 266.879 2087.92 266.879 Q2084.54 266.879 2082.59 269.564 Q2080.67 272.226 2080.67 276.925 Z\" fill=\"#000000\" fill-rule=\"evenodd\" fill-opacity=\"1\" /><path clip-path=\"url(#clip150)\" d=\"M2108.22 263.939 L2112.48 263.939 L2112.48 289.865 L2108.22 289.865 L2108.22 263.939 M2108.22 253.846 L2112.48 253.846 L2112.48 259.24 L2108.22 259.24 L2108.22 253.846 Z\" fill=\"#000000\" fill-rule=\"evenodd\" fill-opacity=\"1\" /><path clip-path=\"url(#clip150)\" d=\"M2140.05 264.934 L2140.05 268.916 Q2138.24 267.92 2136.41 267.434 Q2134.61 266.925 2132.75 266.925 Q2128.61 266.925 2126.32 269.564 Q2124.03 272.18 2124.03 276.925 Q2124.03 281.67 2126.32 284.309 Q2128.61 286.925 2132.75 286.925 Q2134.61 286.925 2136.41 286.439 Q2138.24 285.929 2140.05 284.934 L2140.05 288.869 Q2138.26 289.703 2136.34 290.119 Q2134.44 290.536 2132.29 290.536 Q2126.43 290.536 2122.99 286.855 Q2119.54 283.175 2119.54 276.925 Q2119.54 270.582 2123.01 266.948 Q2126.5 263.314 2132.57 263.314 Q2134.54 263.314 2136.41 263.731 Q2138.29 264.124 2140.05 264.934 Z\" fill=\"#000000\" fill-rule=\"evenodd\" fill-opacity=\"1\" /><path clip-path=\"url(#clip150)\" d=\"M2151.67 256.578 L2151.67 263.939 L2160.44 263.939 L2160.44 267.249 L2151.67 267.249 L2151.67 281.323 Q2151.67 284.494 2152.52 285.397 Q2153.4 286.3 2156.06 286.3 L2160.44 286.3 L2160.44 289.865 L2156.06 289.865 Q2151.13 289.865 2149.26 288.036 Q2147.38 286.184 2147.38 281.323 L2147.38 267.249 L2144.26 267.249 L2144.26 263.939 L2147.38 263.939 L2147.38 256.578 L2151.67 256.578 Z\" fill=\"#000000\" fill-rule=\"evenodd\" fill-opacity=\"1\" /><path clip-path=\"url(#clip150)\" d=\"M2166.04 263.939 L2170.3 263.939 L2170.3 289.865 L2166.04 289.865 L2166.04 263.939 M2166.04 253.846 L2170.3 253.846 L2170.3 259.24 L2166.04 259.24 L2166.04 253.846 Z\" fill=\"#000000\" fill-rule=\"evenodd\" fill-opacity=\"1\" /><path clip-path=\"url(#clip150)\" d=\"M2189.26 266.925 Q2185.83 266.925 2183.84 269.61 Q2181.85 272.272 2181.85 276.925 Q2181.85 281.578 2183.82 284.263 Q2185.81 286.925 2189.26 286.925 Q2192.66 286.925 2194.65 284.24 Q2196.64 281.555 2196.64 276.925 Q2196.64 272.318 2194.65 269.633 Q2192.66 266.925 2189.26 266.925 M2189.26 263.314 Q2194.81 263.314 2197.98 266.925 Q2201.16 270.536 2201.16 276.925 Q2201.16 283.291 2197.98 286.925 Q2194.81 290.536 2189.26 290.536 Q2183.68 290.536 2180.51 286.925 Q2177.36 283.291 2177.36 276.925 Q2177.36 270.536 2180.51 266.925 Q2183.68 263.314 2189.26 263.314 Z\" fill=\"#000000\" fill-rule=\"evenodd\" fill-opacity=\"1\" /><path clip-path=\"url(#clip150)\" d=\"M2229.77 274.217 L2229.77 289.865 L2225.51 289.865 L2225.51 274.355 Q2225.51 270.675 2224.07 268.846 Q2222.64 267.018 2219.77 267.018 Q2216.32 267.018 2214.33 269.217 Q2212.34 271.416 2212.34 275.212 L2212.34 289.865 L2208.05 289.865 L2208.05 263.939 L2212.34 263.939 L2212.34 267.967 Q2213.86 265.629 2215.92 264.471 Q2218.01 263.314 2220.72 263.314 Q2225.18 263.314 2227.48 266.092 Q2229.77 268.846 2229.77 274.217 Z\" fill=\"#000000\" fill-rule=\"evenodd\" fill-opacity=\"1\" /></svg>\n"
          },
          "metadata": {},
          "execution_count": 43
        }
      ]
    },
    {
      "cell_type": "markdown",
      "source": [
        "This does not look so good, does it? Well, we have not trained the models enough and they might even not be large enough.\n",
        "\n",
        "Let's load some already trained model and compare the results."
      ],
      "metadata": {
        "id": "KDw0O7_njdUK"
      }
    },
    {
      "cell_type": "code",
      "source": [
        "using BSON\n",
        "trained_models = BSON.load(datadir(\"good_models.bson\"))[:models]"
      ],
      "metadata": {
        "colab": {
          "base_uri": "https://localhost:8080/"
        },
        "id": "LpPV2ABLcbYG",
        "outputId": "1bf56679-6ebc-4e99-d3c5-6476fffb9be9"
      },
      "execution_count": 30,
      "outputs": [
        {
          "output_type": "execute_result",
          "data": {
            "text/plain": [
              "Dict{Symbol, Any} with 9 entries:\n",
              "  Symbol(\"R=5, C=20\")  => Chain(Recur(GRUCell(42, 32)), Dense(32, 32, elu), Den…\n",
              "  Symbol(\"R=50, C=20\") => Chain(Recur(GRUCell(42, 32)), Dense(32, 32, elu), Den…\n",
              "  Symbol(\"R=5, C=10\")  => Chain(Recur(GRUCell(42, 32)), Dense(32, 32, elu), Den…\n",
              "  Symbol(\"R=20, C=50\") => Chain(Recur(GRUCell(42, 32)), Dense(32, 32, elu), Den…\n",
              "  Symbol(\"R=20, C=10\") => Chain(Recur(GRUCell(42, 32)), Dense(32, 32, elu), Den…\n",
              "  Symbol(\"R=50, C=50\") => Chain(Recur(GRUCell(42, 32)), Dense(32, 32, elu), Den…\n",
              "  Symbol(\"R=20, C=20\") => Chain(Recur(GRUCell(42, 32)), Dense(32, 32, elu), Den…\n",
              "  Symbol(\"R=5, C=50\")  => Chain(Recur(GRUCell(42, 32)), Dense(32, 32, elu), Den…\n",
              "  Symbol(\"R=50, C=10\") => Chain(Recur(GRUCell(42, 32)), Dense(32, 32, elu), Den…"
            ]
          },
          "metadata": {},
          "execution_count": 30
        }
      ]
    },
    {
      "cell_type": "code",
      "source": [
        "plot_sequences(dataset, trained_models, ks, :test, seed = 10)"
      ],
      "metadata": {
        "colab": {
          "base_uri": "https://localhost:8080/",
          "height": 421
        },
        "id": "yLETGjlJjXQo",
        "outputId": "bd5a1e20-d785-42aa-97f9-b6bc29031097"
      },
      "execution_count": 44,
      "outputs": [
        {
          "output_type": "execute_result",
          "data": {
            "image/svg+xml": "<?xml version=\"1.0\" encoding=\"utf-8\"?>\n<svg xmlns=\"http://www.w3.org/2000/svg\" xmlns:xlink=\"http://www.w3.org/1999/xlink\" width=\"600\" height=\"400\" viewBox=\"0 0 2400 1600\">\n<defs>\n  <clipPath id=\"clip190\">\n    <rect x=\"0\" y=\"0\" width=\"2400\" height=\"1600\"/>\n  </clipPath>\n</defs>\n<path clip-path=\"url(#clip190)\" d=\"\nM0 1600 L2400 1600 L2400 0 L0 0  Z\n  \" fill=\"#ffffff\" fill-rule=\"evenodd\" fill-opacity=\"1\"/>\n<defs>\n  <clipPath id=\"clip191\">\n    <rect x=\"480\" y=\"0\" width=\"1681\" height=\"1600\"/>\n  </clipPath>\n</defs>\n<path clip-path=\"url(#clip190)\" d=\"\nM138.959 1486.45 L2352.76 1486.45 L2352.76 123.472 L138.959 123.472  Z\n  \" fill=\"#ffffff\" fill-rule=\"evenodd\" fill-opacity=\"1\"/>\n<defs>\n  <clipPath id=\"clip192\">\n    <rect x=\"138\" y=\"123\" width=\"2215\" height=\"1364\"/>\n  </clipPath>\n</defs>\n<polyline clip-path=\"url(#clip192)\" style=\"stroke:#000000; stroke-linecap:butt; stroke-linejoin:round; stroke-width:2; stroke-opacity:0.1; fill:none\" points=\"\n  201.614,1486.45 201.614,123.472 \n  \"/>\n<polyline clip-path=\"url(#clip192)\" style=\"stroke:#000000; stroke-linecap:butt; stroke-linejoin:round; stroke-width:2; stroke-opacity:0.1; fill:none\" points=\"\n  618.583,1486.45 618.583,123.472 \n  \"/>\n<polyline clip-path=\"url(#clip192)\" style=\"stroke:#000000; stroke-linecap:butt; stroke-linejoin:round; stroke-width:2; stroke-opacity:0.1; fill:none\" points=\"\n  1035.55,1486.45 1035.55,123.472 \n  \"/>\n<polyline clip-path=\"url(#clip192)\" style=\"stroke:#000000; stroke-linecap:butt; stroke-linejoin:round; stroke-width:2; stroke-opacity:0.1; fill:none\" points=\"\n  1452.52,1486.45 1452.52,123.472 \n  \"/>\n<polyline clip-path=\"url(#clip192)\" style=\"stroke:#000000; stroke-linecap:butt; stroke-linejoin:round; stroke-width:2; stroke-opacity:0.1; fill:none\" points=\"\n  1869.49,1486.45 1869.49,123.472 \n  \"/>\n<polyline clip-path=\"url(#clip192)\" style=\"stroke:#000000; stroke-linecap:butt; stroke-linejoin:round; stroke-width:2; stroke-opacity:0.1; fill:none\" points=\"\n  2286.46,1486.45 2286.46,123.472 \n  \"/>\n<polyline clip-path=\"url(#clip190)\" style=\"stroke:#000000; stroke-linecap:butt; stroke-linejoin:round; stroke-width:4; stroke-opacity:1; fill:none\" points=\"\n  138.959,1486.45 2352.76,1486.45 \n  \"/>\n<polyline clip-path=\"url(#clip190)\" style=\"stroke:#000000; stroke-linecap:butt; stroke-linejoin:round; stroke-width:4; stroke-opacity:1; fill:none\" points=\"\n  201.614,1486.45 201.614,1467.55 \n  \"/>\n<polyline clip-path=\"url(#clip190)\" style=\"stroke:#000000; stroke-linecap:butt; stroke-linejoin:round; stroke-width:4; stroke-opacity:1; fill:none\" points=\"\n  618.583,1486.45 618.583,1467.55 \n  \"/>\n<polyline clip-path=\"url(#clip190)\" style=\"stroke:#000000; stroke-linecap:butt; stroke-linejoin:round; stroke-width:4; stroke-opacity:1; fill:none\" points=\"\n  1035.55,1486.45 1035.55,1467.55 \n  \"/>\n<polyline clip-path=\"url(#clip190)\" style=\"stroke:#000000; stroke-linecap:butt; stroke-linejoin:round; stroke-width:4; stroke-opacity:1; fill:none\" points=\"\n  1452.52,1486.45 1452.52,1467.55 \n  \"/>\n<polyline clip-path=\"url(#clip190)\" style=\"stroke:#000000; stroke-linecap:butt; stroke-linejoin:round; stroke-width:4; stroke-opacity:1; fill:none\" points=\"\n  1869.49,1486.45 1869.49,1467.55 \n  \"/>\n<polyline clip-path=\"url(#clip190)\" style=\"stroke:#000000; stroke-linecap:butt; stroke-linejoin:round; stroke-width:4; stroke-opacity:1; fill:none\" points=\"\n  2286.46,1486.45 2286.46,1467.55 \n  \"/>\n<path clip-path=\"url(#clip190)\" d=\"M178.998 1517.37 Q175.387 1517.37 173.559 1520.93 Q171.753 1524.47 171.753 1531.6 Q171.753 1538.71 173.559 1542.27 Q175.387 1545.82 178.998 1545.82 Q182.633 1545.82 184.438 1542.27 Q186.267 1538.71 186.267 1531.6 Q186.267 1524.47 184.438 1520.93 Q182.633 1517.37 178.998 1517.37 M178.998 1513.66 Q184.809 1513.66 187.864 1518.27 Q190.943 1522.85 190.943 1531.6 Q190.943 1540.33 187.864 1544.94 Q184.809 1549.52 178.998 1549.52 Q173.188 1549.52 170.11 1544.94 Q167.054 1540.33 167.054 1531.6 Q167.054 1522.85 170.11 1518.27 Q173.188 1513.66 178.998 1513.66 Z\" fill=\"#000000\" fill-rule=\"evenodd\" fill-opacity=\"1\" /><path clip-path=\"url(#clip190)\" d=\"M199.16 1542.97 L204.045 1542.97 L204.045 1548.85 L199.16 1548.85 L199.16 1542.97 Z\" fill=\"#000000\" fill-rule=\"evenodd\" fill-opacity=\"1\" /><path clip-path=\"url(#clip190)\" d=\"M224.23 1517.37 Q220.619 1517.37 218.79 1520.93 Q216.984 1524.47 216.984 1531.6 Q216.984 1538.71 218.79 1542.27 Q220.619 1545.82 224.23 1545.82 Q227.864 1545.82 229.669 1542.27 Q231.498 1538.71 231.498 1531.6 Q231.498 1524.47 229.669 1520.93 Q227.864 1517.37 224.23 1517.37 M224.23 1513.66 Q230.04 1513.66 233.095 1518.27 Q236.174 1522.85 236.174 1531.6 Q236.174 1540.33 233.095 1544.94 Q230.04 1549.52 224.23 1549.52 Q218.42 1549.52 215.341 1544.94 Q212.285 1540.33 212.285 1531.6 Q212.285 1522.85 215.341 1518.27 Q218.42 1513.66 224.23 1513.66 Z\" fill=\"#000000\" fill-rule=\"evenodd\" fill-opacity=\"1\" /><path clip-path=\"url(#clip190)\" d=\"M596.465 1517.37 Q592.854 1517.37 591.025 1520.93 Q589.22 1524.47 589.22 1531.6 Q589.22 1538.71 591.025 1542.27 Q592.854 1545.82 596.465 1545.82 Q600.099 1545.82 601.905 1542.27 Q603.734 1538.71 603.734 1531.6 Q603.734 1524.47 601.905 1520.93 Q600.099 1517.37 596.465 1517.37 M596.465 1513.66 Q602.275 1513.66 605.331 1518.27 Q608.409 1522.85 608.409 1531.6 Q608.409 1540.33 605.331 1544.94 Q602.275 1549.52 596.465 1549.52 Q590.655 1549.52 587.576 1544.94 Q584.521 1540.33 584.521 1531.6 Q584.521 1522.85 587.576 1518.27 Q590.655 1513.66 596.465 1513.66 Z\" fill=\"#000000\" fill-rule=\"evenodd\" fill-opacity=\"1\" /><path clip-path=\"url(#clip190)\" d=\"M616.627 1542.97 L621.511 1542.97 L621.511 1548.85 L616.627 1548.85 L616.627 1542.97 Z\" fill=\"#000000\" fill-rule=\"evenodd\" fill-opacity=\"1\" /><path clip-path=\"url(#clip190)\" d=\"M631.743 1514.29 L650.099 1514.29 L650.099 1518.22 L636.025 1518.22 L636.025 1526.7 Q637.044 1526.35 638.062 1526.19 Q639.081 1526 640.099 1526 Q645.886 1526 649.266 1529.17 Q652.645 1532.34 652.645 1537.76 Q652.645 1543.34 649.173 1546.44 Q645.701 1549.52 639.382 1549.52 Q637.206 1549.52 634.937 1549.15 Q632.692 1548.78 630.284 1548.04 L630.284 1543.34 Q632.368 1544.47 634.59 1545.03 Q636.812 1545.58 639.289 1545.58 Q643.294 1545.58 645.631 1543.48 Q647.969 1541.37 647.969 1537.76 Q647.969 1534.15 645.631 1532.04 Q643.294 1529.94 639.289 1529.94 Q637.414 1529.94 635.539 1530.35 Q633.687 1530.77 631.743 1531.65 L631.743 1514.29 Z\" fill=\"#000000\" fill-rule=\"evenodd\" fill-opacity=\"1\" /><path clip-path=\"url(#clip190)\" d=\"M1002.7 1544.91 L1010.34 1544.91 L1010.34 1518.55 L1002.03 1520.21 L1002.03 1515.95 L1010.3 1514.29 L1014.97 1514.29 L1014.97 1544.91 L1022.61 1544.91 L1022.61 1548.85 L1002.7 1548.85 L1002.7 1544.91 Z\" fill=\"#000000\" fill-rule=\"evenodd\" fill-opacity=\"1\" /><path clip-path=\"url(#clip190)\" d=\"M1032.06 1542.97 L1036.94 1542.97 L1036.94 1548.85 L1032.06 1548.85 L1032.06 1542.97 Z\" fill=\"#000000\" fill-rule=\"evenodd\" fill-opacity=\"1\" /><path clip-path=\"url(#clip190)\" d=\"M1057.13 1517.37 Q1053.51 1517.37 1051.69 1520.93 Q1049.88 1524.47 1049.88 1531.6 Q1049.88 1538.71 1051.69 1542.27 Q1053.51 1545.82 1057.13 1545.82 Q1060.76 1545.82 1062.57 1542.27 Q1064.39 1538.71 1064.39 1531.6 Q1064.39 1524.47 1062.57 1520.93 Q1060.76 1517.37 1057.13 1517.37 M1057.13 1513.66 Q1062.94 1513.66 1065.99 1518.27 Q1069.07 1522.85 1069.07 1531.6 Q1069.07 1540.33 1065.99 1544.94 Q1062.94 1549.52 1057.13 1549.52 Q1051.32 1549.52 1048.24 1544.94 Q1045.18 1540.33 1045.18 1531.6 Q1045.18 1522.85 1048.24 1518.27 Q1051.32 1513.66 1057.13 1513.66 Z\" fill=\"#000000\" fill-rule=\"evenodd\" fill-opacity=\"1\" /><path clip-path=\"url(#clip190)\" d=\"M1420.17 1544.91 L1427.81 1544.91 L1427.81 1518.55 L1419.5 1520.21 L1419.5 1515.95 L1427.76 1514.29 L1432.44 1514.29 L1432.44 1544.91 L1440.08 1544.91 L1440.08 1548.85 L1420.17 1548.85 L1420.17 1544.91 Z\" fill=\"#000000\" fill-rule=\"evenodd\" fill-opacity=\"1\" /><path clip-path=\"url(#clip190)\" d=\"M1449.52 1542.97 L1454.41 1542.97 L1454.41 1548.85 L1449.52 1548.85 L1449.52 1542.97 Z\" fill=\"#000000\" fill-rule=\"evenodd\" fill-opacity=\"1\" /><path clip-path=\"url(#clip190)\" d=\"M1464.64 1514.29 L1483 1514.29 L1483 1518.22 L1468.92 1518.22 L1468.92 1526.7 Q1469.94 1526.35 1470.96 1526.19 Q1471.98 1526 1473 1526 Q1478.78 1526 1482.16 1529.17 Q1485.54 1532.34 1485.54 1537.76 Q1485.54 1543.34 1482.07 1546.44 Q1478.6 1549.52 1472.28 1549.52 Q1470.1 1549.52 1467.83 1549.15 Q1465.59 1548.78 1463.18 1548.04 L1463.18 1543.34 Q1465.26 1544.47 1467.49 1545.03 Q1469.71 1545.58 1472.19 1545.58 Q1476.19 1545.58 1478.53 1543.48 Q1480.87 1541.37 1480.87 1537.76 Q1480.87 1534.15 1478.53 1532.04 Q1476.19 1529.94 1472.19 1529.94 Q1470.31 1529.94 1468.44 1530.35 Q1466.58 1530.77 1464.64 1531.65 L1464.64 1514.29 Z\" fill=\"#000000\" fill-rule=\"evenodd\" fill-opacity=\"1\" /><path clip-path=\"url(#clip190)\" d=\"M1840.73 1544.91 L1857.05 1544.91 L1857.05 1548.85 L1835.1 1548.85 L1835.1 1544.91 Q1837.77 1542.16 1842.35 1537.53 Q1846.96 1532.88 1848.14 1531.53 Q1850.38 1529.01 1851.26 1527.27 Q1852.16 1525.51 1852.16 1523.82 Q1852.16 1521.07 1850.22 1519.33 Q1848.3 1517.6 1845.2 1517.6 Q1843 1517.6 1840.54 1518.36 Q1838.11 1519.13 1835.33 1520.68 L1835.33 1515.95 Q1838.16 1514.82 1840.61 1514.24 Q1843.07 1513.66 1845.1 1513.66 Q1850.47 1513.66 1853.67 1516.35 Q1856.86 1519.03 1856.86 1523.52 Q1856.86 1525.65 1856.05 1527.57 Q1855.27 1529.47 1853.16 1532.07 Q1852.58 1532.74 1849.48 1535.95 Q1846.38 1539.15 1840.73 1544.91 Z\" fill=\"#000000\" fill-rule=\"evenodd\" fill-opacity=\"1\" /><path clip-path=\"url(#clip190)\" d=\"M1866.86 1542.97 L1871.75 1542.97 L1871.75 1548.85 L1866.86 1548.85 L1866.86 1542.97 Z\" fill=\"#000000\" fill-rule=\"evenodd\" fill-opacity=\"1\" /><path clip-path=\"url(#clip190)\" d=\"M1891.93 1517.37 Q1888.32 1517.37 1886.49 1520.93 Q1884.69 1524.47 1884.69 1531.6 Q1884.69 1538.71 1886.49 1542.27 Q1888.32 1545.82 1891.93 1545.82 Q1895.57 1545.82 1897.37 1542.27 Q1899.2 1538.71 1899.2 1531.6 Q1899.2 1524.47 1897.37 1520.93 Q1895.57 1517.37 1891.93 1517.37 M1891.93 1513.66 Q1897.74 1513.66 1900.8 1518.27 Q1903.88 1522.85 1903.88 1531.6 Q1903.88 1540.33 1900.8 1544.94 Q1897.74 1549.52 1891.93 1549.52 Q1886.12 1549.52 1883.04 1544.94 Q1879.99 1540.33 1879.99 1531.6 Q1879.99 1522.85 1883.04 1518.27 Q1886.12 1513.66 1891.93 1513.66 Z\" fill=\"#000000\" fill-rule=\"evenodd\" fill-opacity=\"1\" /><path clip-path=\"url(#clip190)\" d=\"M2258.2 1544.91 L2274.51 1544.91 L2274.51 1548.85 L2252.57 1548.85 L2252.57 1544.91 Q2255.23 1542.16 2259.82 1537.53 Q2264.42 1532.88 2265.6 1531.53 Q2267.85 1529.01 2268.73 1527.27 Q2269.63 1525.51 2269.63 1523.82 Q2269.63 1521.07 2267.69 1519.33 Q2265.76 1517.6 2262.66 1517.6 Q2260.46 1517.6 2258.01 1518.36 Q2255.58 1519.13 2252.8 1520.68 L2252.8 1515.95 Q2255.63 1514.82 2258.08 1514.24 Q2260.53 1513.66 2262.57 1513.66 Q2267.94 1513.66 2271.13 1516.35 Q2274.33 1519.03 2274.33 1523.52 Q2274.33 1525.65 2273.52 1527.57 Q2272.73 1529.47 2270.63 1532.07 Q2270.05 1532.74 2266.95 1535.95 Q2263.84 1539.15 2258.2 1544.91 Z\" fill=\"#000000\" fill-rule=\"evenodd\" fill-opacity=\"1\" /><path clip-path=\"url(#clip190)\" d=\"M2284.33 1542.97 L2289.21 1542.97 L2289.21 1548.85 L2284.33 1548.85 L2284.33 1542.97 Z\" fill=\"#000000\" fill-rule=\"evenodd\" fill-opacity=\"1\" /><path clip-path=\"url(#clip190)\" d=\"M2299.44 1514.29 L2317.8 1514.29 L2317.8 1518.22 L2303.73 1518.22 L2303.73 1526.7 Q2304.75 1526.35 2305.76 1526.19 Q2306.78 1526 2307.8 1526 Q2313.59 1526 2316.97 1529.17 Q2320.35 1532.34 2320.35 1537.76 Q2320.35 1543.34 2316.88 1546.44 Q2313.4 1549.52 2307.08 1549.52 Q2304.91 1549.52 2302.64 1549.15 Q2300.39 1548.78 2297.99 1548.04 L2297.99 1543.34 Q2300.07 1544.47 2302.29 1545.03 Q2304.51 1545.58 2306.99 1545.58 Q2311 1545.58 2313.33 1543.48 Q2315.67 1541.37 2315.67 1537.76 Q2315.67 1534.15 2313.33 1532.04 Q2311 1529.94 2306.99 1529.94 Q2305.12 1529.94 2303.24 1530.35 Q2301.39 1530.77 2299.44 1531.65 L2299.44 1514.29 Z\" fill=\"#000000\" fill-rule=\"evenodd\" fill-opacity=\"1\" /><polyline clip-path=\"url(#clip192)\" style=\"stroke:#000000; stroke-linecap:butt; stroke-linejoin:round; stroke-width:2; stroke-opacity:0.1; fill:none\" points=\"\n  138.959,1279.74 2352.76,1279.74 \n  \"/>\n<polyline clip-path=\"url(#clip192)\" style=\"stroke:#000000; stroke-linecap:butt; stroke-linejoin:round; stroke-width:2; stroke-opacity:0.1; fill:none\" points=\"\n  138.959,986.436 2352.76,986.436 \n  \"/>\n<polyline clip-path=\"url(#clip192)\" style=\"stroke:#000000; stroke-linecap:butt; stroke-linejoin:round; stroke-width:2; stroke-opacity:0.1; fill:none\" points=\"\n  138.959,693.131 2352.76,693.131 \n  \"/>\n<polyline clip-path=\"url(#clip192)\" style=\"stroke:#000000; stroke-linecap:butt; stroke-linejoin:round; stroke-width:2; stroke-opacity:0.1; fill:none\" points=\"\n  138.959,399.827 2352.76,399.827 \n  \"/>\n<polyline clip-path=\"url(#clip190)\" style=\"stroke:#000000; stroke-linecap:butt; stroke-linejoin:round; stroke-width:4; stroke-opacity:1; fill:none\" points=\"\n  138.959,1486.45 138.959,123.472 \n  \"/>\n<polyline clip-path=\"url(#clip190)\" style=\"stroke:#000000; stroke-linecap:butt; stroke-linejoin:round; stroke-width:4; stroke-opacity:1; fill:none\" points=\"\n  138.959,1279.74 157.857,1279.74 \n  \"/>\n<polyline clip-path=\"url(#clip190)\" style=\"stroke:#000000; stroke-linecap:butt; stroke-linejoin:round; stroke-width:4; stroke-opacity:1; fill:none\" points=\"\n  138.959,986.436 157.857,986.436 \n  \"/>\n<polyline clip-path=\"url(#clip190)\" style=\"stroke:#000000; stroke-linecap:butt; stroke-linejoin:round; stroke-width:4; stroke-opacity:1; fill:none\" points=\"\n  138.959,693.131 157.857,693.131 \n  \"/>\n<polyline clip-path=\"url(#clip190)\" style=\"stroke:#000000; stroke-linecap:butt; stroke-linejoin:round; stroke-width:4; stroke-opacity:1; fill:none\" points=\"\n  138.959,399.827 157.857,399.827 \n  \"/>\n<path clip-path=\"url(#clip190)\" d=\"M91.4317 1277.88 Q88.2836 1277.88 86.4318 1280.03 Q84.6031 1282.18 84.6031 1285.93 Q84.6031 1289.66 86.4318 1291.83 Q88.2836 1293.99 91.4317 1293.99 Q94.5799 1293.99 96.4085 1291.83 Q98.2604 1289.66 98.2604 1285.93 Q98.2604 1282.18 96.4085 1280.03 Q94.5799 1277.88 91.4317 1277.88 M100.714 1263.22 L100.714 1267.48 Q98.9548 1266.65 97.1493 1266.21 Q95.3669 1265.77 93.6076 1265.77 Q88.978 1265.77 86.5243 1268.9 Q84.0938 1272.02 83.7466 1278.34 Q85.1123 1276.33 87.1725 1275.26 Q89.2327 1274.17 91.7095 1274.17 Q96.9178 1274.17 99.927 1277.34 Q102.959 1280.49 102.959 1285.93 Q102.959 1291.26 99.8113 1294.47 Q96.6632 1297.69 91.4317 1297.69 Q85.4364 1297.69 82.2651 1293.11 Q79.0938 1288.5 79.0938 1279.77 Q79.0938 1271.58 82.9827 1266.72 Q86.8716 1261.84 93.4225 1261.84 Q95.1817 1261.84 96.9641 1262.18 Q98.7696 1262.53 100.714 1263.22 Z\" fill=\"#000000\" fill-rule=\"evenodd\" fill-opacity=\"1\" /><path clip-path=\"url(#clip190)\" d=\"M91.1077 987.304 Q87.7743 987.304 85.8531 989.086 Q83.9549 990.868 83.9549 993.993 Q83.9549 997.118 85.8531 998.901 Q87.7743 1000.68 91.1077 1000.68 Q94.441 1000.68 96.3623 998.901 Q98.2835 997.095 98.2835 993.993 Q98.2835 990.868 96.3623 989.086 Q94.4641 987.304 91.1077 987.304 M86.4318 985.313 Q83.4225 984.572 81.7327 982.512 Q80.066 980.452 80.066 977.489 Q80.066 973.345 83.0058 970.938 Q85.9688 968.531 91.1077 968.531 Q96.2697 968.531 99.2095 970.938 Q102.149 973.345 102.149 977.489 Q102.149 980.452 100.459 982.512 Q98.7928 984.572 95.8067 985.313 Q99.1863 986.1 101.061 988.392 Q102.959 990.683 102.959 993.993 Q102.959 999.017 99.8808 1001.7 Q96.8252 1004.39 91.1077 1004.39 Q85.3901 1004.39 82.3114 1001.7 Q79.2559 999.017 79.2559 993.993 Q79.2559 990.683 81.154 988.392 Q83.0521 986.1 86.4318 985.313 M84.7188 977.929 Q84.7188 980.614 86.3855 982.119 Q88.0753 983.623 91.1077 983.623 Q94.1169 983.623 95.8067 982.119 Q97.5197 980.614 97.5197 977.929 Q97.5197 975.244 95.8067 973.739 Q94.1169 972.234 91.1077 972.234 Q88.0753 972.234 86.3855 973.739 Q84.7188 975.244 84.7188 977.929 Z\" fill=\"#000000\" fill-rule=\"evenodd\" fill-opacity=\"1\" /><path clip-path=\"url(#clip190)\" d=\"M51.6634 706.476 L59.3023 706.476 L59.3023 680.11 L50.9921 681.777 L50.9921 677.518 L59.256 675.851 L63.9319 675.851 L63.9319 706.476 L71.5707 706.476 L71.5707 710.411 L51.6634 710.411 L51.6634 706.476 Z\" fill=\"#000000\" fill-rule=\"evenodd\" fill-opacity=\"1\" /><path clip-path=\"url(#clip190)\" d=\"M91.0151 678.93 Q87.404 678.93 85.5753 682.495 Q83.7697 686.036 83.7697 693.166 Q83.7697 700.272 85.5753 703.837 Q87.404 707.379 91.0151 707.379 Q94.6493 707.379 96.4548 703.837 Q98.2835 700.272 98.2835 693.166 Q98.2835 686.036 96.4548 682.495 Q94.6493 678.93 91.0151 678.93 M91.0151 675.226 Q96.8252 675.226 99.8808 679.833 Q102.959 684.416 102.959 693.166 Q102.959 701.893 99.8808 706.499 Q96.8252 711.082 91.0151 711.082 Q85.2049 711.082 82.1262 706.499 Q79.0707 701.893 79.0707 693.166 Q79.0707 684.416 82.1262 679.833 Q85.2049 675.226 91.0151 675.226 Z\" fill=\"#000000\" fill-rule=\"evenodd\" fill-opacity=\"1\" /><path clip-path=\"url(#clip190)\" d=\"M53.2606 413.171 L60.8995 413.171 L60.8995 386.806 L52.5893 388.473 L52.5893 384.213 L60.8532 382.547 L65.5291 382.547 L65.5291 413.171 L73.1679 413.171 L73.1679 417.107 L53.2606 417.107 L53.2606 413.171 Z\" fill=\"#000000\" fill-rule=\"evenodd\" fill-opacity=\"1\" /><path clip-path=\"url(#clip190)\" d=\"M86.6401 413.171 L102.959 413.171 L102.959 417.107 L81.0151 417.107 L81.0151 413.171 Q83.6771 410.417 88.2604 405.787 Q92.8669 401.134 94.0475 399.792 Q96.2928 397.269 97.1724 395.533 Q98.0752 393.773 98.0752 392.084 Q98.0752 389.329 96.1308 387.593 Q94.2095 385.857 91.1077 385.857 Q88.9086 385.857 86.4549 386.621 Q84.0244 387.385 81.2466 388.935 L81.2466 384.213 Q84.0707 383.079 86.5243 382.5 Q88.978 381.922 91.0151 381.922 Q96.3854 381.922 99.5798 384.607 Q102.774 387.292 102.774 391.783 Q102.774 393.912 101.964 395.834 Q101.177 397.732 99.0706 400.324 Q98.4919 400.996 95.39 404.213 Q92.2882 407.408 86.6401 413.171 Z\" fill=\"#000000\" fill-rule=\"evenodd\" fill-opacity=\"1\" /><path clip-path=\"url(#clip190)\" d=\"M1048.52 44.2197 Q1051.15 45.1109 1053.62 48.0275 Q1056.13 50.9442 1058.65 56.0483 L1066.95 72.576 L1058.16 72.576 L1050.42 57.061 Q1047.42 50.9847 1044.59 48.9997 Q1041.79 47.0148 1036.93 47.0148 L1028.02 47.0148 L1028.02 72.576 L1019.84 72.576 L1019.84 12.096 L1038.31 12.096 Q1048.68 12.096 1053.78 16.4305 Q1058.89 20.7649 1058.89 29.5149 Q1058.89 35.2267 1056.21 38.994 Q1053.58 42.7613 1048.52 44.2197 M1028.02 18.8205 L1028.02 40.2903 L1038.31 40.2903 Q1044.22 40.2903 1047.22 37.5762 Q1050.26 34.8216 1050.26 29.5149 Q1050.26 24.2082 1047.22 21.5346 Q1044.22 18.8205 1038.31 18.8205 L1028.02 18.8205 Z\" fill=\"#000000\" fill-rule=\"evenodd\" fill-opacity=\"1\" /><path clip-path=\"url(#clip190)\" d=\"M1078.13 34.9026 L1130.06 34.9026 L1130.06 41.7081 L1078.13 41.7081 L1078.13 34.9026 M1078.13 51.4303 L1130.06 51.4303 L1130.06 58.3168 L1078.13 58.3168 L1078.13 51.4303 Z\" fill=\"#000000\" fill-rule=\"evenodd\" fill-opacity=\"1\" /><path clip-path=\"url(#clip190)\" d=\"M1147.81 12.096 L1179.93 12.096 L1179.93 18.9825 L1155.3 18.9825 L1155.3 33.8088 Q1157.08 33.2012 1158.86 32.9176 Q1160.65 32.5936 1162.43 32.5936 Q1172.56 32.5936 1178.47 38.1433 Q1184.39 43.6931 1184.39 53.1722 Q1184.39 62.9348 1178.31 68.3631 Q1172.23 73.7508 1161.17 73.7508 Q1157.37 73.7508 1153.4 73.1026 Q1149.47 72.4545 1145.25 71.1582 L1145.25 62.9348 Q1148.9 64.9198 1152.79 65.892 Q1156.68 66.8642 1161.01 66.8642 Q1168.02 66.8642 1172.11 63.1779 Q1176.2 59.4916 1176.2 53.1722 Q1176.2 46.8528 1172.11 43.1664 Q1168.02 39.4801 1161.01 39.4801 Q1157.73 39.4801 1154.45 40.2093 Q1151.21 40.9384 1147.81 42.4778 L1147.81 12.096 Z\" fill=\"#000000\" fill-rule=\"evenodd\" fill-opacity=\"1\" /><path clip-path=\"url(#clip190)\" d=\"M1201.36 62.2867 L1209.91 62.2867 L1209.91 69.2543 L1203.26 82.2172 L1198.04 82.2172 L1201.36 69.2543 L1201.36 62.2867 Z\" fill=\"#000000\" fill-rule=\"evenodd\" fill-opacity=\"1\" /><path clip-path=\"url(#clip190)\" d=\"M1297.81 16.7545 L1297.81 25.383 Q1293.68 21.5346 1288.98 19.6307 Q1284.32 17.7268 1279.05 17.7268 Q1268.68 17.7268 1263.18 24.0867 Q1257.67 30.4061 1257.67 42.3968 Q1257.67 54.3469 1263.18 60.7069 Q1268.68 67.0263 1279.05 67.0263 Q1284.32 67.0263 1288.98 65.1223 Q1293.68 63.2184 1297.81 59.3701 L1297.81 67.9175 Q1293.52 70.8341 1288.7 72.2924 Q1283.92 73.7508 1278.57 73.7508 Q1264.84 73.7508 1256.94 65.3654 Q1249.04 56.9395 1249.04 42.3968 Q1249.04 27.8135 1256.94 19.4281 Q1264.84 11.0023 1278.57 11.0023 Q1284 11.0023 1288.78 12.4606 Q1293.6 13.8784 1297.81 16.7545 Z\" fill=\"#000000\" fill-rule=\"evenodd\" fill-opacity=\"1\" /><path clip-path=\"url(#clip190)\" d=\"M1311.1 34.9026 L1363.03 34.9026 L1363.03 41.7081 L1311.1 41.7081 L1311.1 34.9026 M1311.1 51.4303 L1363.03 51.4303 L1363.03 58.3168 L1311.1 58.3168 L1311.1 51.4303 Z\" fill=\"#000000\" fill-rule=\"evenodd\" fill-opacity=\"1\" /><path clip-path=\"url(#clip190)\" d=\"M1387.74 65.6895 L1416.3 65.6895 L1416.3 72.576 L1377.9 72.576 L1377.9 65.6895 Q1382.56 60.8689 1390.58 52.7671 Q1398.64 44.6248 1400.7 42.2752 Q1404.63 37.8598 1406.17 34.8216 Q1407.75 31.7429 1407.75 28.7857 Q1407.75 23.9651 1404.35 20.927 Q1400.99 17.8888 1395.56 17.8888 Q1391.71 17.8888 1387.42 19.2256 Q1383.16 20.5624 1378.3 23.2765 L1378.3 15.0127 Q1383.24 13.0277 1387.54 12.015 Q1391.83 11.0023 1395.4 11.0023 Q1404.79 11.0023 1410.39 15.7013 Q1415.98 20.4004 1415.98 28.2591 Q1415.98 31.9859 1414.56 35.3482 Q1413.18 38.6699 1409.49 43.2069 Q1408.48 44.3817 1403.05 50.0125 Q1397.62 55.6027 1387.74 65.6895 Z\" fill=\"#000000\" fill-rule=\"evenodd\" fill-opacity=\"1\" /><path clip-path=\"url(#clip190)\" d=\"M1450.98 17.4837 Q1444.66 17.4837 1441.46 23.7221 Q1438.3 29.92 1438.3 42.3968 Q1438.3 54.833 1441.46 61.0714 Q1444.66 67.2693 1450.98 67.2693 Q1457.34 67.2693 1460.49 61.0714 Q1463.7 54.833 1463.7 42.3968 Q1463.7 29.92 1460.49 23.7221 Q1457.34 17.4837 1450.98 17.4837 M1450.98 11.0023 Q1461.14 11.0023 1466.49 19.0636 Q1471.88 27.0843 1471.88 42.3968 Q1471.88 57.6687 1466.49 65.73 Q1461.14 73.7508 1450.98 73.7508 Q1440.81 73.7508 1435.42 65.73 Q1430.07 57.6687 1430.07 42.3968 Q1430.07 27.0843 1435.42 19.0636 Q1440.81 11.0023 1450.98 11.0023 Z\" fill=\"#000000\" fill-rule=\"evenodd\" fill-opacity=\"1\" /><polyline clip-path=\"url(#clip192)\" style=\"stroke:#009af9; stroke-linecap:butt; stroke-linejoin:round; stroke-width:4; stroke-opacity:1; fill:none\" points=\"\n  201.614,1262.33 228.148,1303.57 254.639,1148.92 281.09,1221.09 307.561,1128.3 334.029,1076.75 360.422,1035.51 386.828,983.963 413.22,911.794 439.617,942.723 \n  466.032,870.554 492.39,870.554 518.754,839.624 545.139,736.524 571.558,788.074 597.928,654.044 624.307,726.214 650.793,633.424 677.287,623.114 703.744,602.495 \n  730.245,592.184 756.742,540.635 783.232,550.945 809.657,416.915 836.011,520.015 862.393,344.745 888.877,427.225 915.369,375.675 941.876,334.435 968.294,344.745 \n  994.689,324.125 1021.06,303.505 1047.43,210.716 1073.81,344.745 1100.3,633.424 1126.69,839.624 1153.08,932.413 1179.51,1045.82 1205.88,1097.37 1232.22,1045.82 \n  1258.63,1097.37 1285.03,1179.85 1311.42,1159.23 1337.8,1221.09 1364.21,1210.78 1390.58,1282.95 1417,1262.33 1443.42,1293.26 1469.83,1293.26 1496.21,1282.95 \n  1522.67,1324.19 1549.04,1272.64 1575.42,1282.95 1601.93,1241.71 1628.43,1241.71 1654.9,1221.09 1681.43,1210.78 1707.93,1262.33 1734.44,1241.71 1760.89,1179.85 \n  1787.39,1221.09 1813.84,1221.09 1840.33,1221.09 1866.82,1190.16 1893.35,1252.02 1919.85,1241.71 1946.32,1231.4 1972.79,1262.33 1999.26,1252.02 2025.72,1252.02 \n  2052.21,1262.33 2078.67,1252.02 2105.16,1262.33 2131.57,1241.71 2157.95,1252.02 2184.34,1221.09 2210.74,1252.02 2237.2,1231.4 2263.66,1262.33 2290.1,1241.71 \n  \n  \"/>\n<circle clip-path=\"url(#clip192)\" cx=\"201.614\" cy=\"1262.33\" r=\"14\" fill=\"#009af9\" fill-rule=\"evenodd\" fill-opacity=\"1\" stroke=\"#000000\" stroke-opacity=\"1\" stroke-width=\"3.2\"/>\n<circle clip-path=\"url(#clip192)\" cx=\"228.148\" cy=\"1303.57\" r=\"14\" fill=\"#009af9\" fill-rule=\"evenodd\" fill-opacity=\"1\" stroke=\"#000000\" stroke-opacity=\"1\" stroke-width=\"3.2\"/>\n<circle clip-path=\"url(#clip192)\" cx=\"254.639\" cy=\"1148.92\" r=\"14\" fill=\"#009af9\" fill-rule=\"evenodd\" fill-opacity=\"1\" stroke=\"#000000\" stroke-opacity=\"1\" stroke-width=\"3.2\"/>\n<circle clip-path=\"url(#clip192)\" cx=\"281.09\" cy=\"1221.09\" r=\"14\" fill=\"#009af9\" fill-rule=\"evenodd\" fill-opacity=\"1\" stroke=\"#000000\" stroke-opacity=\"1\" stroke-width=\"3.2\"/>\n<circle clip-path=\"url(#clip192)\" cx=\"307.561\" cy=\"1128.3\" r=\"14\" fill=\"#009af9\" fill-rule=\"evenodd\" fill-opacity=\"1\" stroke=\"#000000\" stroke-opacity=\"1\" stroke-width=\"3.2\"/>\n<circle clip-path=\"url(#clip192)\" cx=\"334.029\" cy=\"1076.75\" r=\"14\" fill=\"#009af9\" fill-rule=\"evenodd\" fill-opacity=\"1\" stroke=\"#000000\" stroke-opacity=\"1\" stroke-width=\"3.2\"/>\n<circle clip-path=\"url(#clip192)\" cx=\"360.422\" cy=\"1035.51\" r=\"14\" fill=\"#009af9\" fill-rule=\"evenodd\" fill-opacity=\"1\" stroke=\"#000000\" stroke-opacity=\"1\" stroke-width=\"3.2\"/>\n<circle clip-path=\"url(#clip192)\" cx=\"386.828\" cy=\"983.963\" r=\"14\" fill=\"#009af9\" fill-rule=\"evenodd\" fill-opacity=\"1\" stroke=\"#000000\" stroke-opacity=\"1\" stroke-width=\"3.2\"/>\n<circle clip-path=\"url(#clip192)\" cx=\"413.22\" cy=\"911.794\" r=\"14\" fill=\"#009af9\" fill-rule=\"evenodd\" fill-opacity=\"1\" stroke=\"#000000\" stroke-opacity=\"1\" stroke-width=\"3.2\"/>\n<circle clip-path=\"url(#clip192)\" cx=\"439.617\" cy=\"942.723\" r=\"14\" fill=\"#009af9\" fill-rule=\"evenodd\" fill-opacity=\"1\" stroke=\"#000000\" stroke-opacity=\"1\" stroke-width=\"3.2\"/>\n<circle clip-path=\"url(#clip192)\" cx=\"466.032\" cy=\"870.554\" r=\"14\" fill=\"#009af9\" fill-rule=\"evenodd\" fill-opacity=\"1\" stroke=\"#000000\" stroke-opacity=\"1\" stroke-width=\"3.2\"/>\n<circle clip-path=\"url(#clip192)\" cx=\"492.39\" cy=\"870.554\" r=\"14\" fill=\"#009af9\" fill-rule=\"evenodd\" fill-opacity=\"1\" stroke=\"#000000\" stroke-opacity=\"1\" stroke-width=\"3.2\"/>\n<circle clip-path=\"url(#clip192)\" cx=\"518.754\" cy=\"839.624\" r=\"14\" fill=\"#009af9\" fill-rule=\"evenodd\" fill-opacity=\"1\" stroke=\"#000000\" stroke-opacity=\"1\" stroke-width=\"3.2\"/>\n<circle clip-path=\"url(#clip192)\" cx=\"545.139\" cy=\"736.524\" r=\"14\" fill=\"#009af9\" fill-rule=\"evenodd\" fill-opacity=\"1\" stroke=\"#000000\" stroke-opacity=\"1\" stroke-width=\"3.2\"/>\n<circle clip-path=\"url(#clip192)\" cx=\"571.558\" cy=\"788.074\" r=\"14\" fill=\"#009af9\" fill-rule=\"evenodd\" fill-opacity=\"1\" stroke=\"#000000\" stroke-opacity=\"1\" stroke-width=\"3.2\"/>\n<circle clip-path=\"url(#clip192)\" cx=\"597.928\" cy=\"654.044\" r=\"14\" fill=\"#009af9\" fill-rule=\"evenodd\" fill-opacity=\"1\" stroke=\"#000000\" stroke-opacity=\"1\" stroke-width=\"3.2\"/>\n<circle clip-path=\"url(#clip192)\" cx=\"624.307\" cy=\"726.214\" r=\"14\" fill=\"#009af9\" fill-rule=\"evenodd\" fill-opacity=\"1\" stroke=\"#000000\" stroke-opacity=\"1\" stroke-width=\"3.2\"/>\n<circle clip-path=\"url(#clip192)\" cx=\"650.793\" cy=\"633.424\" r=\"14\" fill=\"#009af9\" fill-rule=\"evenodd\" fill-opacity=\"1\" stroke=\"#000000\" stroke-opacity=\"1\" stroke-width=\"3.2\"/>\n<circle clip-path=\"url(#clip192)\" cx=\"677.287\" cy=\"623.114\" r=\"14\" fill=\"#009af9\" fill-rule=\"evenodd\" fill-opacity=\"1\" stroke=\"#000000\" stroke-opacity=\"1\" stroke-width=\"3.2\"/>\n<circle clip-path=\"url(#clip192)\" cx=\"703.744\" cy=\"602.495\" r=\"14\" fill=\"#009af9\" fill-rule=\"evenodd\" fill-opacity=\"1\" stroke=\"#000000\" stroke-opacity=\"1\" stroke-width=\"3.2\"/>\n<circle clip-path=\"url(#clip192)\" cx=\"730.245\" cy=\"592.184\" r=\"14\" fill=\"#009af9\" fill-rule=\"evenodd\" fill-opacity=\"1\" stroke=\"#000000\" stroke-opacity=\"1\" stroke-width=\"3.2\"/>\n<circle clip-path=\"url(#clip192)\" cx=\"756.742\" cy=\"540.635\" r=\"14\" fill=\"#009af9\" fill-rule=\"evenodd\" fill-opacity=\"1\" stroke=\"#000000\" stroke-opacity=\"1\" stroke-width=\"3.2\"/>\n<circle clip-path=\"url(#clip192)\" cx=\"783.232\" cy=\"550.945\" r=\"14\" fill=\"#009af9\" fill-rule=\"evenodd\" fill-opacity=\"1\" stroke=\"#000000\" stroke-opacity=\"1\" stroke-width=\"3.2\"/>\n<circle clip-path=\"url(#clip192)\" cx=\"809.657\" cy=\"416.915\" r=\"14\" fill=\"#009af9\" fill-rule=\"evenodd\" fill-opacity=\"1\" stroke=\"#000000\" stroke-opacity=\"1\" stroke-width=\"3.2\"/>\n<circle clip-path=\"url(#clip192)\" cx=\"836.011\" cy=\"520.015\" r=\"14\" fill=\"#009af9\" fill-rule=\"evenodd\" fill-opacity=\"1\" stroke=\"#000000\" stroke-opacity=\"1\" stroke-width=\"3.2\"/>\n<circle clip-path=\"url(#clip192)\" cx=\"862.393\" cy=\"344.745\" r=\"14\" fill=\"#009af9\" fill-rule=\"evenodd\" fill-opacity=\"1\" stroke=\"#000000\" stroke-opacity=\"1\" stroke-width=\"3.2\"/>\n<circle clip-path=\"url(#clip192)\" cx=\"888.877\" cy=\"427.225\" r=\"14\" fill=\"#009af9\" fill-rule=\"evenodd\" fill-opacity=\"1\" stroke=\"#000000\" stroke-opacity=\"1\" stroke-width=\"3.2\"/>\n<circle clip-path=\"url(#clip192)\" cx=\"915.369\" cy=\"375.675\" r=\"14\" fill=\"#009af9\" fill-rule=\"evenodd\" fill-opacity=\"1\" stroke=\"#000000\" stroke-opacity=\"1\" stroke-width=\"3.2\"/>\n<circle clip-path=\"url(#clip192)\" cx=\"941.876\" cy=\"334.435\" r=\"14\" fill=\"#009af9\" fill-rule=\"evenodd\" fill-opacity=\"1\" stroke=\"#000000\" stroke-opacity=\"1\" stroke-width=\"3.2\"/>\n<circle clip-path=\"url(#clip192)\" cx=\"968.294\" cy=\"344.745\" r=\"14\" fill=\"#009af9\" fill-rule=\"evenodd\" fill-opacity=\"1\" stroke=\"#000000\" stroke-opacity=\"1\" stroke-width=\"3.2\"/>\n<circle clip-path=\"url(#clip192)\" cx=\"994.689\" cy=\"324.125\" r=\"14\" fill=\"#009af9\" fill-rule=\"evenodd\" fill-opacity=\"1\" stroke=\"#000000\" stroke-opacity=\"1\" stroke-width=\"3.2\"/>\n<circle clip-path=\"url(#clip192)\" cx=\"1021.06\" cy=\"303.505\" r=\"14\" fill=\"#009af9\" fill-rule=\"evenodd\" fill-opacity=\"1\" stroke=\"#000000\" stroke-opacity=\"1\" stroke-width=\"3.2\"/>\n<circle clip-path=\"url(#clip192)\" cx=\"1047.43\" cy=\"210.716\" r=\"14\" fill=\"#009af9\" fill-rule=\"evenodd\" fill-opacity=\"1\" stroke=\"#000000\" stroke-opacity=\"1\" stroke-width=\"3.2\"/>\n<circle clip-path=\"url(#clip192)\" cx=\"1073.81\" cy=\"344.745\" r=\"14\" fill=\"#009af9\" fill-rule=\"evenodd\" fill-opacity=\"1\" stroke=\"#000000\" stroke-opacity=\"1\" stroke-width=\"3.2\"/>\n<circle clip-path=\"url(#clip192)\" cx=\"1100.3\" cy=\"633.424\" r=\"14\" fill=\"#009af9\" fill-rule=\"evenodd\" fill-opacity=\"1\" stroke=\"#000000\" stroke-opacity=\"1\" stroke-width=\"3.2\"/>\n<circle clip-path=\"url(#clip192)\" cx=\"1126.69\" cy=\"839.624\" r=\"14\" fill=\"#009af9\" fill-rule=\"evenodd\" fill-opacity=\"1\" stroke=\"#000000\" stroke-opacity=\"1\" stroke-width=\"3.2\"/>\n<circle clip-path=\"url(#clip192)\" cx=\"1153.08\" cy=\"932.413\" r=\"14\" fill=\"#009af9\" fill-rule=\"evenodd\" fill-opacity=\"1\" stroke=\"#000000\" stroke-opacity=\"1\" stroke-width=\"3.2\"/>\n<circle clip-path=\"url(#clip192)\" cx=\"1179.51\" cy=\"1045.82\" r=\"14\" fill=\"#009af9\" fill-rule=\"evenodd\" fill-opacity=\"1\" stroke=\"#000000\" stroke-opacity=\"1\" stroke-width=\"3.2\"/>\n<circle clip-path=\"url(#clip192)\" cx=\"1205.88\" cy=\"1097.37\" r=\"14\" fill=\"#009af9\" fill-rule=\"evenodd\" fill-opacity=\"1\" stroke=\"#000000\" stroke-opacity=\"1\" stroke-width=\"3.2\"/>\n<circle clip-path=\"url(#clip192)\" cx=\"1232.22\" cy=\"1045.82\" r=\"14\" fill=\"#009af9\" fill-rule=\"evenodd\" fill-opacity=\"1\" stroke=\"#000000\" stroke-opacity=\"1\" stroke-width=\"3.2\"/>\n<circle clip-path=\"url(#clip192)\" cx=\"1258.63\" cy=\"1097.37\" r=\"14\" fill=\"#009af9\" fill-rule=\"evenodd\" fill-opacity=\"1\" stroke=\"#000000\" stroke-opacity=\"1\" stroke-width=\"3.2\"/>\n<circle clip-path=\"url(#clip192)\" cx=\"1285.03\" cy=\"1179.85\" r=\"14\" fill=\"#009af9\" fill-rule=\"evenodd\" fill-opacity=\"1\" stroke=\"#000000\" stroke-opacity=\"1\" stroke-width=\"3.2\"/>\n<circle clip-path=\"url(#clip192)\" cx=\"1311.42\" cy=\"1159.23\" r=\"14\" fill=\"#009af9\" fill-rule=\"evenodd\" fill-opacity=\"1\" stroke=\"#000000\" stroke-opacity=\"1\" stroke-width=\"3.2\"/>\n<circle clip-path=\"url(#clip192)\" cx=\"1337.8\" cy=\"1221.09\" r=\"14\" fill=\"#009af9\" fill-rule=\"evenodd\" fill-opacity=\"1\" stroke=\"#000000\" stroke-opacity=\"1\" stroke-width=\"3.2\"/>\n<circle clip-path=\"url(#clip192)\" cx=\"1364.21\" cy=\"1210.78\" r=\"14\" fill=\"#009af9\" fill-rule=\"evenodd\" fill-opacity=\"1\" stroke=\"#000000\" stroke-opacity=\"1\" stroke-width=\"3.2\"/>\n<circle clip-path=\"url(#clip192)\" cx=\"1390.58\" cy=\"1282.95\" r=\"14\" fill=\"#009af9\" fill-rule=\"evenodd\" fill-opacity=\"1\" stroke=\"#000000\" stroke-opacity=\"1\" stroke-width=\"3.2\"/>\n<circle clip-path=\"url(#clip192)\" cx=\"1417\" cy=\"1262.33\" r=\"14\" fill=\"#009af9\" fill-rule=\"evenodd\" fill-opacity=\"1\" stroke=\"#000000\" stroke-opacity=\"1\" stroke-width=\"3.2\"/>\n<circle clip-path=\"url(#clip192)\" cx=\"1443.42\" cy=\"1293.26\" r=\"14\" fill=\"#009af9\" fill-rule=\"evenodd\" fill-opacity=\"1\" stroke=\"#000000\" stroke-opacity=\"1\" stroke-width=\"3.2\"/>\n<circle clip-path=\"url(#clip192)\" cx=\"1469.83\" cy=\"1293.26\" r=\"14\" fill=\"#009af9\" fill-rule=\"evenodd\" fill-opacity=\"1\" stroke=\"#000000\" stroke-opacity=\"1\" stroke-width=\"3.2\"/>\n<circle clip-path=\"url(#clip192)\" cx=\"1496.21\" cy=\"1282.95\" r=\"14\" fill=\"#009af9\" fill-rule=\"evenodd\" fill-opacity=\"1\" stroke=\"#000000\" stroke-opacity=\"1\" stroke-width=\"3.2\"/>\n<circle clip-path=\"url(#clip192)\" cx=\"1522.67\" cy=\"1324.19\" r=\"14\" fill=\"#009af9\" fill-rule=\"evenodd\" fill-opacity=\"1\" stroke=\"#000000\" stroke-opacity=\"1\" stroke-width=\"3.2\"/>\n<circle clip-path=\"url(#clip192)\" cx=\"1549.04\" cy=\"1272.64\" r=\"14\" fill=\"#009af9\" fill-rule=\"evenodd\" fill-opacity=\"1\" stroke=\"#000000\" stroke-opacity=\"1\" stroke-width=\"3.2\"/>\n<circle clip-path=\"url(#clip192)\" cx=\"1575.42\" cy=\"1282.95\" r=\"14\" fill=\"#009af9\" fill-rule=\"evenodd\" fill-opacity=\"1\" stroke=\"#000000\" stroke-opacity=\"1\" stroke-width=\"3.2\"/>\n<circle clip-path=\"url(#clip192)\" cx=\"1601.93\" cy=\"1241.71\" r=\"14\" fill=\"#009af9\" fill-rule=\"evenodd\" fill-opacity=\"1\" stroke=\"#000000\" stroke-opacity=\"1\" stroke-width=\"3.2\"/>\n<circle clip-path=\"url(#clip192)\" cx=\"1628.43\" cy=\"1241.71\" r=\"14\" fill=\"#009af9\" fill-rule=\"evenodd\" fill-opacity=\"1\" stroke=\"#000000\" stroke-opacity=\"1\" stroke-width=\"3.2\"/>\n<circle clip-path=\"url(#clip192)\" cx=\"1654.9\" cy=\"1221.09\" r=\"14\" fill=\"#009af9\" fill-rule=\"evenodd\" fill-opacity=\"1\" stroke=\"#000000\" stroke-opacity=\"1\" stroke-width=\"3.2\"/>\n<circle clip-path=\"url(#clip192)\" cx=\"1681.43\" cy=\"1210.78\" r=\"14\" fill=\"#009af9\" fill-rule=\"evenodd\" fill-opacity=\"1\" stroke=\"#000000\" stroke-opacity=\"1\" stroke-width=\"3.2\"/>\n<circle clip-path=\"url(#clip192)\" cx=\"1707.93\" cy=\"1262.33\" r=\"14\" fill=\"#009af9\" fill-rule=\"evenodd\" fill-opacity=\"1\" stroke=\"#000000\" stroke-opacity=\"1\" stroke-width=\"3.2\"/>\n<circle clip-path=\"url(#clip192)\" cx=\"1734.44\" cy=\"1241.71\" r=\"14\" fill=\"#009af9\" fill-rule=\"evenodd\" fill-opacity=\"1\" stroke=\"#000000\" stroke-opacity=\"1\" stroke-width=\"3.2\"/>\n<circle clip-path=\"url(#clip192)\" cx=\"1760.89\" cy=\"1179.85\" r=\"14\" fill=\"#009af9\" fill-rule=\"evenodd\" fill-opacity=\"1\" stroke=\"#000000\" stroke-opacity=\"1\" stroke-width=\"3.2\"/>\n<circle clip-path=\"url(#clip192)\" cx=\"1787.39\" cy=\"1221.09\" r=\"14\" fill=\"#009af9\" fill-rule=\"evenodd\" fill-opacity=\"1\" stroke=\"#000000\" stroke-opacity=\"1\" stroke-width=\"3.2\"/>\n<circle clip-path=\"url(#clip192)\" cx=\"1813.84\" cy=\"1221.09\" r=\"14\" fill=\"#009af9\" fill-rule=\"evenodd\" fill-opacity=\"1\" stroke=\"#000000\" stroke-opacity=\"1\" stroke-width=\"3.2\"/>\n<circle clip-path=\"url(#clip192)\" cx=\"1840.33\" cy=\"1221.09\" r=\"14\" fill=\"#009af9\" fill-rule=\"evenodd\" fill-opacity=\"1\" stroke=\"#000000\" stroke-opacity=\"1\" stroke-width=\"3.2\"/>\n<circle clip-path=\"url(#clip192)\" cx=\"1866.82\" cy=\"1190.16\" r=\"14\" fill=\"#009af9\" fill-rule=\"evenodd\" fill-opacity=\"1\" stroke=\"#000000\" stroke-opacity=\"1\" stroke-width=\"3.2\"/>\n<circle clip-path=\"url(#clip192)\" cx=\"1893.35\" cy=\"1252.02\" r=\"14\" fill=\"#009af9\" fill-rule=\"evenodd\" fill-opacity=\"1\" stroke=\"#000000\" stroke-opacity=\"1\" stroke-width=\"3.2\"/>\n<circle clip-path=\"url(#clip192)\" cx=\"1919.85\" cy=\"1241.71\" r=\"14\" fill=\"#009af9\" fill-rule=\"evenodd\" fill-opacity=\"1\" stroke=\"#000000\" stroke-opacity=\"1\" stroke-width=\"3.2\"/>\n<circle clip-path=\"url(#clip192)\" cx=\"1946.32\" cy=\"1231.4\" r=\"14\" fill=\"#009af9\" fill-rule=\"evenodd\" fill-opacity=\"1\" stroke=\"#000000\" stroke-opacity=\"1\" stroke-width=\"3.2\"/>\n<circle clip-path=\"url(#clip192)\" cx=\"1972.79\" cy=\"1262.33\" r=\"14\" fill=\"#009af9\" fill-rule=\"evenodd\" fill-opacity=\"1\" stroke=\"#000000\" stroke-opacity=\"1\" stroke-width=\"3.2\"/>\n<circle clip-path=\"url(#clip192)\" cx=\"1999.26\" cy=\"1252.02\" r=\"14\" fill=\"#009af9\" fill-rule=\"evenodd\" fill-opacity=\"1\" stroke=\"#000000\" stroke-opacity=\"1\" stroke-width=\"3.2\"/>\n<circle clip-path=\"url(#clip192)\" cx=\"2025.72\" cy=\"1252.02\" r=\"14\" fill=\"#009af9\" fill-rule=\"evenodd\" fill-opacity=\"1\" stroke=\"#000000\" stroke-opacity=\"1\" stroke-width=\"3.2\"/>\n<circle clip-path=\"url(#clip192)\" cx=\"2052.21\" cy=\"1262.33\" r=\"14\" fill=\"#009af9\" fill-rule=\"evenodd\" fill-opacity=\"1\" stroke=\"#000000\" stroke-opacity=\"1\" stroke-width=\"3.2\"/>\n<circle clip-path=\"url(#clip192)\" cx=\"2078.67\" cy=\"1252.02\" r=\"14\" fill=\"#009af9\" fill-rule=\"evenodd\" fill-opacity=\"1\" stroke=\"#000000\" stroke-opacity=\"1\" stroke-width=\"3.2\"/>\n<circle clip-path=\"url(#clip192)\" cx=\"2105.16\" cy=\"1262.33\" r=\"14\" fill=\"#009af9\" fill-rule=\"evenodd\" fill-opacity=\"1\" stroke=\"#000000\" stroke-opacity=\"1\" stroke-width=\"3.2\"/>\n<circle clip-path=\"url(#clip192)\" cx=\"2131.57\" cy=\"1241.71\" r=\"14\" fill=\"#009af9\" fill-rule=\"evenodd\" fill-opacity=\"1\" stroke=\"#000000\" stroke-opacity=\"1\" stroke-width=\"3.2\"/>\n<circle clip-path=\"url(#clip192)\" cx=\"2157.95\" cy=\"1252.02\" r=\"14\" fill=\"#009af9\" fill-rule=\"evenodd\" fill-opacity=\"1\" stroke=\"#000000\" stroke-opacity=\"1\" stroke-width=\"3.2\"/>\n<circle clip-path=\"url(#clip192)\" cx=\"2184.34\" cy=\"1221.09\" r=\"14\" fill=\"#009af9\" fill-rule=\"evenodd\" fill-opacity=\"1\" stroke=\"#000000\" stroke-opacity=\"1\" stroke-width=\"3.2\"/>\n<circle clip-path=\"url(#clip192)\" cx=\"2210.74\" cy=\"1252.02\" r=\"14\" fill=\"#009af9\" fill-rule=\"evenodd\" fill-opacity=\"1\" stroke=\"#000000\" stroke-opacity=\"1\" stroke-width=\"3.2\"/>\n<circle clip-path=\"url(#clip192)\" cx=\"2237.2\" cy=\"1231.4\" r=\"14\" fill=\"#009af9\" fill-rule=\"evenodd\" fill-opacity=\"1\" stroke=\"#000000\" stroke-opacity=\"1\" stroke-width=\"3.2\"/>\n<circle clip-path=\"url(#clip192)\" cx=\"2263.66\" cy=\"1262.33\" r=\"14\" fill=\"#009af9\" fill-rule=\"evenodd\" fill-opacity=\"1\" stroke=\"#000000\" stroke-opacity=\"1\" stroke-width=\"3.2\"/>\n<circle clip-path=\"url(#clip192)\" cx=\"2290.1\" cy=\"1241.71\" r=\"14\" fill=\"#009af9\" fill-rule=\"evenodd\" fill-opacity=\"1\" stroke=\"#000000\" stroke-opacity=\"1\" stroke-width=\"3.2\"/>\n<polyline clip-path=\"url(#clip192)\" style=\"stroke:#e26f46; stroke-linecap:butt; stroke-linejoin:round; stroke-width:4; stroke-opacity:1; fill:none\" points=\"\n  201.614,1447.87 228.148,1400.85 254.639,1298.28 281.09,1303.66 307.561,1222.55 334.029,1197.36 360.422,1137.6 386.828,1103.66 413.22,1013.96 439.617,1042.62 \n  466.032,938.197 492.39,962.427 518.754,906.783 545.139,815.505 571.558,878.422 597.928,711.758 624.307,804.269 650.793,666.688 677.287,708.479 703.744,604.596 \n  730.245,632.575 756.742,511.432 783.232,565.617 809.657,388.738 836.011,480.948 862.393,305.871 888.877,351.055 915.369,283.759 941.876,257.973 968.294,235.249 \n  994.689,202.227 1021.06,162.047 1047.43,181.548 1073.81,418.121 1100.3,743.086 1126.69,875.819 1153.08,926.801 1179.51,975.843 1205.88,1023.94 1232.22,1069.26 \n  1258.63,1110.77 1285.03,1147.56 1311.42,1179 1337.8,1205.06 1364.21,1226.34 1390.58,1244.53 1417,1263.1 1443.42,1274.5 1469.83,1274.79 1496.21,1266.71 \n  1522.67,1253.69 1549.04,1239.95 1575.42,1228.26 1601.93,1219.24 1628.43,1212.42 1654.9,1207.11 1681.43,1202.77 1707.93,1199.18 1734.44,1196.24 1760.89,1193.93 \n  1787.39,1192.23 1813.84,1191.15 1840.33,1190.66 1866.82,1190.75 1893.35,1191.36 1919.85,1192.44 1946.32,1193.93 1972.79,1195.75 1999.26,1197.83 2025.72,1200.12 \n  2052.21,1202.55 2078.67,1205.07 2105.16,1207.61 2131.57,1210.14 2157.95,1212.6 2184.34,1214.96 2210.74,1217.17 2237.2,1219.3 2263.66,1221.21 2290.1,1222.84 \n  \n  \"/>\n<path clip-path=\"url(#clip192)\" d=\"M185.614 1431.87 L185.614 1463.87 L217.614 1463.87 L217.614 1431.87 L185.614 1431.87 Z\" fill=\"#e26f46\" fill-rule=\"evenodd\" fill-opacity=\"1\" stroke=\"#000000\" stroke-opacity=\"1\" stroke-width=\"3.2\"/>\n<path clip-path=\"url(#clip192)\" d=\"M212.148 1384.85 L212.148 1416.85 L244.148 1416.85 L244.148 1384.85 L212.148 1384.85 Z\" fill=\"#e26f46\" fill-rule=\"evenodd\" fill-opacity=\"1\" stroke=\"#000000\" stroke-opacity=\"1\" stroke-width=\"3.2\"/>\n<path clip-path=\"url(#clip192)\" d=\"M238.639 1282.28 L238.639 1314.28 L270.639 1314.28 L270.639 1282.28 L238.639 1282.28 Z\" fill=\"#e26f46\" fill-rule=\"evenodd\" fill-opacity=\"1\" stroke=\"#000000\" stroke-opacity=\"1\" stroke-width=\"3.2\"/>\n<path clip-path=\"url(#clip192)\" d=\"M265.09 1287.66 L265.09 1319.66 L297.09 1319.66 L297.09 1287.66 L265.09 1287.66 Z\" fill=\"#e26f46\" fill-rule=\"evenodd\" fill-opacity=\"1\" stroke=\"#000000\" stroke-opacity=\"1\" stroke-width=\"3.2\"/>\n<path clip-path=\"url(#clip192)\" d=\"M291.561 1206.55 L291.561 1238.55 L323.561 1238.55 L323.561 1206.55 L291.561 1206.55 Z\" fill=\"#e26f46\" fill-rule=\"evenodd\" fill-opacity=\"1\" stroke=\"#000000\" stroke-opacity=\"1\" stroke-width=\"3.2\"/>\n<path clip-path=\"url(#clip192)\" d=\"M318.029 1181.36 L318.029 1213.36 L350.029 1213.36 L350.029 1181.36 L318.029 1181.36 Z\" fill=\"#e26f46\" fill-rule=\"evenodd\" fill-opacity=\"1\" stroke=\"#000000\" stroke-opacity=\"1\" stroke-width=\"3.2\"/>\n<path clip-path=\"url(#clip192)\" d=\"M344.422 1121.6 L344.422 1153.6 L376.422 1153.6 L376.422 1121.6 L344.422 1121.6 Z\" fill=\"#e26f46\" fill-rule=\"evenodd\" fill-opacity=\"1\" stroke=\"#000000\" stroke-opacity=\"1\" stroke-width=\"3.2\"/>\n<path clip-path=\"url(#clip192)\" d=\"M370.828 1087.66 L370.828 1119.66 L402.828 1119.66 L402.828 1087.66 L370.828 1087.66 Z\" fill=\"#e26f46\" fill-rule=\"evenodd\" fill-opacity=\"1\" stroke=\"#000000\" stroke-opacity=\"1\" stroke-width=\"3.2\"/>\n<path clip-path=\"url(#clip192)\" d=\"M397.22 997.961 L397.22 1029.96 L429.22 1029.96 L429.22 997.961 L397.22 997.961 Z\" fill=\"#e26f46\" fill-rule=\"evenodd\" fill-opacity=\"1\" stroke=\"#000000\" stroke-opacity=\"1\" stroke-width=\"3.2\"/>\n<path clip-path=\"url(#clip192)\" d=\"M423.617 1026.62 L423.617 1058.62 L455.617 1058.62 L455.617 1026.62 L423.617 1026.62 Z\" fill=\"#e26f46\" fill-rule=\"evenodd\" fill-opacity=\"1\" stroke=\"#000000\" stroke-opacity=\"1\" stroke-width=\"3.2\"/>\n<path clip-path=\"url(#clip192)\" d=\"M450.032 922.197 L450.032 954.197 L482.032 954.197 L482.032 922.197 L450.032 922.197 Z\" fill=\"#e26f46\" fill-rule=\"evenodd\" fill-opacity=\"1\" stroke=\"#000000\" stroke-opacity=\"1\" stroke-width=\"3.2\"/>\n<path clip-path=\"url(#clip192)\" d=\"M476.39 946.427 L476.39 978.427 L508.39 978.427 L508.39 946.427 L476.39 946.427 Z\" fill=\"#e26f46\" fill-rule=\"evenodd\" fill-opacity=\"1\" stroke=\"#000000\" stroke-opacity=\"1\" stroke-width=\"3.2\"/>\n<path clip-path=\"url(#clip192)\" d=\"M502.754 890.783 L502.754 922.783 L534.754 922.783 L534.754 890.783 L502.754 890.783 Z\" fill=\"#e26f46\" fill-rule=\"evenodd\" fill-opacity=\"1\" stroke=\"#000000\" stroke-opacity=\"1\" stroke-width=\"3.2\"/>\n<path clip-path=\"url(#clip192)\" d=\"M529.139 799.505 L529.139 831.505 L561.139 831.505 L561.139 799.505 L529.139 799.505 Z\" fill=\"#e26f46\" fill-rule=\"evenodd\" fill-opacity=\"1\" stroke=\"#000000\" stroke-opacity=\"1\" stroke-width=\"3.2\"/>\n<path clip-path=\"url(#clip192)\" d=\"M555.558 862.422 L555.558 894.422 L587.558 894.422 L587.558 862.422 L555.558 862.422 Z\" fill=\"#e26f46\" fill-rule=\"evenodd\" fill-opacity=\"1\" stroke=\"#000000\" stroke-opacity=\"1\" stroke-width=\"3.2\"/>\n<path clip-path=\"url(#clip192)\" d=\"M581.928 695.758 L581.928 727.758 L613.928 727.758 L613.928 695.758 L581.928 695.758 Z\" fill=\"#e26f46\" fill-rule=\"evenodd\" fill-opacity=\"1\" stroke=\"#000000\" stroke-opacity=\"1\" stroke-width=\"3.2\"/>\n<path clip-path=\"url(#clip192)\" d=\"M608.307 788.269 L608.307 820.269 L640.307 820.269 L640.307 788.269 L608.307 788.269 Z\" fill=\"#e26f46\" fill-rule=\"evenodd\" fill-opacity=\"1\" stroke=\"#000000\" stroke-opacity=\"1\" stroke-width=\"3.2\"/>\n<path clip-path=\"url(#clip192)\" d=\"M634.793 650.688 L634.793 682.688 L666.793 682.688 L666.793 650.688 L634.793 650.688 Z\" fill=\"#e26f46\" fill-rule=\"evenodd\" fill-opacity=\"1\" stroke=\"#000000\" stroke-opacity=\"1\" stroke-width=\"3.2\"/>\n<path clip-path=\"url(#clip192)\" d=\"M661.287 692.479 L661.287 724.479 L693.287 724.479 L693.287 692.479 L661.287 692.479 Z\" fill=\"#e26f46\" fill-rule=\"evenodd\" fill-opacity=\"1\" stroke=\"#000000\" stroke-opacity=\"1\" stroke-width=\"3.2\"/>\n<path clip-path=\"url(#clip192)\" d=\"M687.744 588.596 L687.744 620.596 L719.744 620.596 L719.744 588.596 L687.744 588.596 Z\" fill=\"#e26f46\" fill-rule=\"evenodd\" fill-opacity=\"1\" stroke=\"#000000\" stroke-opacity=\"1\" stroke-width=\"3.2\"/>\n<path clip-path=\"url(#clip192)\" d=\"M714.245 616.575 L714.245 648.575 L746.245 648.575 L746.245 616.575 L714.245 616.575 Z\" fill=\"#e26f46\" fill-rule=\"evenodd\" fill-opacity=\"1\" stroke=\"#000000\" stroke-opacity=\"1\" stroke-width=\"3.2\"/>\n<path clip-path=\"url(#clip192)\" d=\"M740.742 495.432 L740.742 527.432 L772.742 527.432 L772.742 495.432 L740.742 495.432 Z\" fill=\"#e26f46\" fill-rule=\"evenodd\" fill-opacity=\"1\" stroke=\"#000000\" stroke-opacity=\"1\" stroke-width=\"3.2\"/>\n<path clip-path=\"url(#clip192)\" d=\"M767.232 549.617 L767.232 581.617 L799.232 581.617 L799.232 549.617 L767.232 549.617 Z\" fill=\"#e26f46\" fill-rule=\"evenodd\" fill-opacity=\"1\" stroke=\"#000000\" stroke-opacity=\"1\" stroke-width=\"3.2\"/>\n<path clip-path=\"url(#clip192)\" d=\"M793.657 372.738 L793.657 404.738 L825.657 404.738 L825.657 372.738 L793.657 372.738 Z\" fill=\"#e26f46\" fill-rule=\"evenodd\" fill-opacity=\"1\" stroke=\"#000000\" stroke-opacity=\"1\" stroke-width=\"3.2\"/>\n<path clip-path=\"url(#clip192)\" d=\"M820.011 464.948 L820.011 496.948 L852.011 496.948 L852.011 464.948 L820.011 464.948 Z\" fill=\"#e26f46\" fill-rule=\"evenodd\" fill-opacity=\"1\" stroke=\"#000000\" stroke-opacity=\"1\" stroke-width=\"3.2\"/>\n<path clip-path=\"url(#clip192)\" d=\"M846.393 289.871 L846.393 321.871 L878.393 321.871 L878.393 289.871 L846.393 289.871 Z\" fill=\"#e26f46\" fill-rule=\"evenodd\" fill-opacity=\"1\" stroke=\"#000000\" stroke-opacity=\"1\" stroke-width=\"3.2\"/>\n<path clip-path=\"url(#clip192)\" d=\"M872.877 335.055 L872.877 367.055 L904.877 367.055 L904.877 335.055 L872.877 335.055 Z\" fill=\"#e26f46\" fill-rule=\"evenodd\" fill-opacity=\"1\" stroke=\"#000000\" stroke-opacity=\"1\" stroke-width=\"3.2\"/>\n<path clip-path=\"url(#clip192)\" d=\"M899.369 267.759 L899.369 299.759 L931.369 299.759 L931.369 267.759 L899.369 267.759 Z\" fill=\"#e26f46\" fill-rule=\"evenodd\" fill-opacity=\"1\" stroke=\"#000000\" stroke-opacity=\"1\" stroke-width=\"3.2\"/>\n<path clip-path=\"url(#clip192)\" d=\"M925.876 241.973 L925.876 273.973 L957.876 273.973 L957.876 241.973 L925.876 241.973 Z\" fill=\"#e26f46\" fill-rule=\"evenodd\" fill-opacity=\"1\" stroke=\"#000000\" stroke-opacity=\"1\" stroke-width=\"3.2\"/>\n<path clip-path=\"url(#clip192)\" d=\"M952.294 219.249 L952.294 251.249 L984.294 251.249 L984.294 219.249 L952.294 219.249 Z\" fill=\"#e26f46\" fill-rule=\"evenodd\" fill-opacity=\"1\" stroke=\"#000000\" stroke-opacity=\"1\" stroke-width=\"3.2\"/>\n<path clip-path=\"url(#clip192)\" d=\"M978.689 186.227 L978.689 218.227 L1010.69 218.227 L1010.69 186.227 L978.689 186.227 Z\" fill=\"#e26f46\" fill-rule=\"evenodd\" fill-opacity=\"1\" stroke=\"#000000\" stroke-opacity=\"1\" stroke-width=\"3.2\"/>\n<path clip-path=\"url(#clip192)\" d=\"M1005.06 146.047 L1005.06 178.047 L1037.06 178.047 L1037.06 146.047 L1005.06 146.047 Z\" fill=\"#e26f46\" fill-rule=\"evenodd\" fill-opacity=\"1\" stroke=\"#000000\" stroke-opacity=\"1\" stroke-width=\"3.2\"/>\n<path clip-path=\"url(#clip192)\" d=\"M1031.43 165.548 L1031.43 197.548 L1063.43 197.548 L1063.43 165.548 L1031.43 165.548 Z\" fill=\"#e26f46\" fill-rule=\"evenodd\" fill-opacity=\"1\" stroke=\"#000000\" stroke-opacity=\"1\" stroke-width=\"3.2\"/>\n<path clip-path=\"url(#clip192)\" d=\"M1057.81 402.121 L1057.81 434.121 L1089.81 434.121 L1089.81 402.121 L1057.81 402.121 Z\" fill=\"#e26f46\" fill-rule=\"evenodd\" fill-opacity=\"1\" stroke=\"#000000\" stroke-opacity=\"1\" stroke-width=\"3.2\"/>\n<path clip-path=\"url(#clip192)\" d=\"M1084.3 727.086 L1084.3 759.086 L1116.3 759.086 L1116.3 727.086 L1084.3 727.086 Z\" fill=\"#e26f46\" fill-rule=\"evenodd\" fill-opacity=\"1\" stroke=\"#000000\" stroke-opacity=\"1\" stroke-width=\"3.2\"/>\n<path clip-path=\"url(#clip192)\" d=\"M1110.69 859.819 L1110.69 891.819 L1142.69 891.819 L1142.69 859.819 L1110.69 859.819 Z\" fill=\"#e26f46\" fill-rule=\"evenodd\" fill-opacity=\"1\" stroke=\"#000000\" stroke-opacity=\"1\" stroke-width=\"3.2\"/>\n<path clip-path=\"url(#clip192)\" d=\"M1137.08 910.801 L1137.08 942.801 L1169.08 942.801 L1169.08 910.801 L1137.08 910.801 Z\" fill=\"#e26f46\" fill-rule=\"evenodd\" fill-opacity=\"1\" stroke=\"#000000\" stroke-opacity=\"1\" stroke-width=\"3.2\"/>\n<path clip-path=\"url(#clip192)\" d=\"M1163.51 959.843 L1163.51 991.843 L1195.51 991.843 L1195.51 959.843 L1163.51 959.843 Z\" fill=\"#e26f46\" fill-rule=\"evenodd\" fill-opacity=\"1\" stroke=\"#000000\" stroke-opacity=\"1\" stroke-width=\"3.2\"/>\n<path clip-path=\"url(#clip192)\" d=\"M1189.88 1007.94 L1189.88 1039.94 L1221.88 1039.94 L1221.88 1007.94 L1189.88 1007.94 Z\" fill=\"#e26f46\" fill-rule=\"evenodd\" fill-opacity=\"1\" stroke=\"#000000\" stroke-opacity=\"1\" stroke-width=\"3.2\"/>\n<path clip-path=\"url(#clip192)\" d=\"M1216.22 1053.26 L1216.22 1085.26 L1248.22 1085.26 L1248.22 1053.26 L1216.22 1053.26 Z\" fill=\"#e26f46\" fill-rule=\"evenodd\" fill-opacity=\"1\" stroke=\"#000000\" stroke-opacity=\"1\" stroke-width=\"3.2\"/>\n<path clip-path=\"url(#clip192)\" d=\"M1242.63 1094.77 L1242.63 1126.77 L1274.63 1126.77 L1274.63 1094.77 L1242.63 1094.77 Z\" fill=\"#e26f46\" fill-rule=\"evenodd\" fill-opacity=\"1\" stroke=\"#000000\" stroke-opacity=\"1\" stroke-width=\"3.2\"/>\n<path clip-path=\"url(#clip192)\" d=\"M1269.03 1131.56 L1269.03 1163.56 L1301.03 1163.56 L1301.03 1131.56 L1269.03 1131.56 Z\" fill=\"#e26f46\" fill-rule=\"evenodd\" fill-opacity=\"1\" stroke=\"#000000\" stroke-opacity=\"1\" stroke-width=\"3.2\"/>\n<path clip-path=\"url(#clip192)\" d=\"M1295.42 1163 L1295.42 1195 L1327.42 1195 L1327.42 1163 L1295.42 1163 Z\" fill=\"#e26f46\" fill-rule=\"evenodd\" fill-opacity=\"1\" stroke=\"#000000\" stroke-opacity=\"1\" stroke-width=\"3.2\"/>\n<path clip-path=\"url(#clip192)\" d=\"M1321.8 1189.06 L1321.8 1221.06 L1353.8 1221.06 L1353.8 1189.06 L1321.8 1189.06 Z\" fill=\"#e26f46\" fill-rule=\"evenodd\" fill-opacity=\"1\" stroke=\"#000000\" stroke-opacity=\"1\" stroke-width=\"3.2\"/>\n<path clip-path=\"url(#clip192)\" d=\"M1348.21 1210.34 L1348.21 1242.34 L1380.21 1242.34 L1380.21 1210.34 L1348.21 1210.34 Z\" fill=\"#e26f46\" fill-rule=\"evenodd\" fill-opacity=\"1\" stroke=\"#000000\" stroke-opacity=\"1\" stroke-width=\"3.2\"/>\n<path clip-path=\"url(#clip192)\" d=\"M1374.58 1228.53 L1374.58 1260.53 L1406.58 1260.53 L1406.58 1228.53 L1374.58 1228.53 Z\" fill=\"#e26f46\" fill-rule=\"evenodd\" fill-opacity=\"1\" stroke=\"#000000\" stroke-opacity=\"1\" stroke-width=\"3.2\"/>\n<path clip-path=\"url(#clip192)\" d=\"M1401 1247.1 L1401 1279.1 L1433 1279.1 L1433 1247.1 L1401 1247.1 Z\" fill=\"#e26f46\" fill-rule=\"evenodd\" fill-opacity=\"1\" stroke=\"#000000\" stroke-opacity=\"1\" stroke-width=\"3.2\"/>\n<path clip-path=\"url(#clip192)\" d=\"M1427.42 1258.5 L1427.42 1290.5 L1459.42 1290.5 L1459.42 1258.5 L1427.42 1258.5 Z\" fill=\"#e26f46\" fill-rule=\"evenodd\" fill-opacity=\"1\" stroke=\"#000000\" stroke-opacity=\"1\" stroke-width=\"3.2\"/>\n<path clip-path=\"url(#clip192)\" d=\"M1453.83 1258.79 L1453.83 1290.79 L1485.83 1290.79 L1485.83 1258.79 L1453.83 1258.79 Z\" fill=\"#e26f46\" fill-rule=\"evenodd\" fill-opacity=\"1\" stroke=\"#000000\" stroke-opacity=\"1\" stroke-width=\"3.2\"/>\n<path clip-path=\"url(#clip192)\" d=\"M1480.21 1250.71 L1480.21 1282.71 L1512.21 1282.71 L1512.21 1250.71 L1480.21 1250.71 Z\" fill=\"#e26f46\" fill-rule=\"evenodd\" fill-opacity=\"1\" stroke=\"#000000\" stroke-opacity=\"1\" stroke-width=\"3.2\"/>\n<path clip-path=\"url(#clip192)\" d=\"M1506.67 1237.69 L1506.67 1269.69 L1538.67 1269.69 L1538.67 1237.69 L1506.67 1237.69 Z\" fill=\"#e26f46\" fill-rule=\"evenodd\" fill-opacity=\"1\" stroke=\"#000000\" stroke-opacity=\"1\" stroke-width=\"3.2\"/>\n<path clip-path=\"url(#clip192)\" d=\"M1533.04 1223.95 L1533.04 1255.95 L1565.04 1255.95 L1565.04 1223.95 L1533.04 1223.95 Z\" fill=\"#e26f46\" fill-rule=\"evenodd\" fill-opacity=\"1\" stroke=\"#000000\" stroke-opacity=\"1\" stroke-width=\"3.2\"/>\n<path clip-path=\"url(#clip192)\" d=\"M1559.42 1212.26 L1559.42 1244.26 L1591.42 1244.26 L1591.42 1212.26 L1559.42 1212.26 Z\" fill=\"#e26f46\" fill-rule=\"evenodd\" fill-opacity=\"1\" stroke=\"#000000\" stroke-opacity=\"1\" stroke-width=\"3.2\"/>\n<path clip-path=\"url(#clip192)\" d=\"M1585.93 1203.24 L1585.93 1235.24 L1617.93 1235.24 L1617.93 1203.24 L1585.93 1203.24 Z\" fill=\"#e26f46\" fill-rule=\"evenodd\" fill-opacity=\"1\" stroke=\"#000000\" stroke-opacity=\"1\" stroke-width=\"3.2\"/>\n<path clip-path=\"url(#clip192)\" d=\"M1612.43 1196.42 L1612.43 1228.42 L1644.43 1228.42 L1644.43 1196.42 L1612.43 1196.42 Z\" fill=\"#e26f46\" fill-rule=\"evenodd\" fill-opacity=\"1\" stroke=\"#000000\" stroke-opacity=\"1\" stroke-width=\"3.2\"/>\n<path clip-path=\"url(#clip192)\" d=\"M1638.9 1191.11 L1638.9 1223.11 L1670.9 1223.11 L1670.9 1191.11 L1638.9 1191.11 Z\" fill=\"#e26f46\" fill-rule=\"evenodd\" fill-opacity=\"1\" stroke=\"#000000\" stroke-opacity=\"1\" stroke-width=\"3.2\"/>\n<path clip-path=\"url(#clip192)\" d=\"M1665.43 1186.77 L1665.43 1218.77 L1697.43 1218.77 L1697.43 1186.77 L1665.43 1186.77 Z\" fill=\"#e26f46\" fill-rule=\"evenodd\" fill-opacity=\"1\" stroke=\"#000000\" stroke-opacity=\"1\" stroke-width=\"3.2\"/>\n<path clip-path=\"url(#clip192)\" d=\"M1691.93 1183.18 L1691.93 1215.18 L1723.93 1215.18 L1723.93 1183.18 L1691.93 1183.18 Z\" fill=\"#e26f46\" fill-rule=\"evenodd\" fill-opacity=\"1\" stroke=\"#000000\" stroke-opacity=\"1\" stroke-width=\"3.2\"/>\n<path clip-path=\"url(#clip192)\" d=\"M1718.44 1180.24 L1718.44 1212.24 L1750.44 1212.24 L1750.44 1180.24 L1718.44 1180.24 Z\" fill=\"#e26f46\" fill-rule=\"evenodd\" fill-opacity=\"1\" stroke=\"#000000\" stroke-opacity=\"1\" stroke-width=\"3.2\"/>\n<path clip-path=\"url(#clip192)\" d=\"M1744.89 1177.93 L1744.89 1209.93 L1776.89 1209.93 L1776.89 1177.93 L1744.89 1177.93 Z\" fill=\"#e26f46\" fill-rule=\"evenodd\" fill-opacity=\"1\" stroke=\"#000000\" stroke-opacity=\"1\" stroke-width=\"3.2\"/>\n<path clip-path=\"url(#clip192)\" d=\"M1771.39 1176.23 L1771.39 1208.23 L1803.39 1208.23 L1803.39 1176.23 L1771.39 1176.23 Z\" fill=\"#e26f46\" fill-rule=\"evenodd\" fill-opacity=\"1\" stroke=\"#000000\" stroke-opacity=\"1\" stroke-width=\"3.2\"/>\n<path clip-path=\"url(#clip192)\" d=\"M1797.84 1175.15 L1797.84 1207.15 L1829.84 1207.15 L1829.84 1175.15 L1797.84 1175.15 Z\" fill=\"#e26f46\" fill-rule=\"evenodd\" fill-opacity=\"1\" stroke=\"#000000\" stroke-opacity=\"1\" stroke-width=\"3.2\"/>\n<path clip-path=\"url(#clip192)\" d=\"M1824.33 1174.66 L1824.33 1206.66 L1856.33 1206.66 L1856.33 1174.66 L1824.33 1174.66 Z\" fill=\"#e26f46\" fill-rule=\"evenodd\" fill-opacity=\"1\" stroke=\"#000000\" stroke-opacity=\"1\" stroke-width=\"3.2\"/>\n<path clip-path=\"url(#clip192)\" d=\"M1850.82 1174.75 L1850.82 1206.75 L1882.82 1206.75 L1882.82 1174.75 L1850.82 1174.75 Z\" fill=\"#e26f46\" fill-rule=\"evenodd\" fill-opacity=\"1\" stroke=\"#000000\" stroke-opacity=\"1\" stroke-width=\"3.2\"/>\n<path clip-path=\"url(#clip192)\" d=\"M1877.35 1175.36 L1877.35 1207.36 L1909.35 1207.36 L1909.35 1175.36 L1877.35 1175.36 Z\" fill=\"#e26f46\" fill-rule=\"evenodd\" fill-opacity=\"1\" stroke=\"#000000\" stroke-opacity=\"1\" stroke-width=\"3.2\"/>\n<path clip-path=\"url(#clip192)\" d=\"M1903.85 1176.44 L1903.85 1208.44 L1935.85 1208.44 L1935.85 1176.44 L1903.85 1176.44 Z\" fill=\"#e26f46\" fill-rule=\"evenodd\" fill-opacity=\"1\" stroke=\"#000000\" stroke-opacity=\"1\" stroke-width=\"3.2\"/>\n<path clip-path=\"url(#clip192)\" d=\"M1930.32 1177.93 L1930.32 1209.93 L1962.32 1209.93 L1962.32 1177.93 L1930.32 1177.93 Z\" fill=\"#e26f46\" fill-rule=\"evenodd\" fill-opacity=\"1\" stroke=\"#000000\" stroke-opacity=\"1\" stroke-width=\"3.2\"/>\n<path clip-path=\"url(#clip192)\" d=\"M1956.79 1179.75 L1956.79 1211.75 L1988.79 1211.75 L1988.79 1179.75 L1956.79 1179.75 Z\" fill=\"#e26f46\" fill-rule=\"evenodd\" fill-opacity=\"1\" stroke=\"#000000\" stroke-opacity=\"1\" stroke-width=\"3.2\"/>\n<path clip-path=\"url(#clip192)\" d=\"M1983.26 1181.83 L1983.26 1213.83 L2015.26 1213.83 L2015.26 1181.83 L1983.26 1181.83 Z\" fill=\"#e26f46\" fill-rule=\"evenodd\" fill-opacity=\"1\" stroke=\"#000000\" stroke-opacity=\"1\" stroke-width=\"3.2\"/>\n<path clip-path=\"url(#clip192)\" d=\"M2009.72 1184.12 L2009.72 1216.12 L2041.72 1216.12 L2041.72 1184.12 L2009.72 1184.12 Z\" fill=\"#e26f46\" fill-rule=\"evenodd\" fill-opacity=\"1\" stroke=\"#000000\" stroke-opacity=\"1\" stroke-width=\"3.2\"/>\n<path clip-path=\"url(#clip192)\" d=\"M2036.21 1186.55 L2036.21 1218.55 L2068.21 1218.55 L2068.21 1186.55 L2036.21 1186.55 Z\" fill=\"#e26f46\" fill-rule=\"evenodd\" fill-opacity=\"1\" stroke=\"#000000\" stroke-opacity=\"1\" stroke-width=\"3.2\"/>\n<path clip-path=\"url(#clip192)\" d=\"M2062.67 1189.07 L2062.67 1221.07 L2094.67 1221.07 L2094.67 1189.07 L2062.67 1189.07 Z\" fill=\"#e26f46\" fill-rule=\"evenodd\" fill-opacity=\"1\" stroke=\"#000000\" stroke-opacity=\"1\" stroke-width=\"3.2\"/>\n<path clip-path=\"url(#clip192)\" d=\"M2089.16 1191.61 L2089.16 1223.61 L2121.16 1223.61 L2121.16 1191.61 L2089.16 1191.61 Z\" fill=\"#e26f46\" fill-rule=\"evenodd\" fill-opacity=\"1\" stroke=\"#000000\" stroke-opacity=\"1\" stroke-width=\"3.2\"/>\n<path clip-path=\"url(#clip192)\" d=\"M2115.57 1194.14 L2115.57 1226.14 L2147.57 1226.14 L2147.57 1194.14 L2115.57 1194.14 Z\" fill=\"#e26f46\" fill-rule=\"evenodd\" fill-opacity=\"1\" stroke=\"#000000\" stroke-opacity=\"1\" stroke-width=\"3.2\"/>\n<path clip-path=\"url(#clip192)\" d=\"M2141.95 1196.6 L2141.95 1228.6 L2173.95 1228.6 L2173.95 1196.6 L2141.95 1196.6 Z\" fill=\"#e26f46\" fill-rule=\"evenodd\" fill-opacity=\"1\" stroke=\"#000000\" stroke-opacity=\"1\" stroke-width=\"3.2\"/>\n<path clip-path=\"url(#clip192)\" d=\"M2168.34 1198.96 L2168.34 1230.96 L2200.34 1230.96 L2200.34 1198.96 L2168.34 1198.96 Z\" fill=\"#e26f46\" fill-rule=\"evenodd\" fill-opacity=\"1\" stroke=\"#000000\" stroke-opacity=\"1\" stroke-width=\"3.2\"/>\n<path clip-path=\"url(#clip192)\" d=\"M2194.74 1201.17 L2194.74 1233.17 L2226.74 1233.17 L2226.74 1201.17 L2194.74 1201.17 Z\" fill=\"#e26f46\" fill-rule=\"evenodd\" fill-opacity=\"1\" stroke=\"#000000\" stroke-opacity=\"1\" stroke-width=\"3.2\"/>\n<path clip-path=\"url(#clip192)\" d=\"M2221.2 1203.3 L2221.2 1235.3 L2253.2 1235.3 L2253.2 1203.3 L2221.2 1203.3 Z\" fill=\"#e26f46\" fill-rule=\"evenodd\" fill-opacity=\"1\" stroke=\"#000000\" stroke-opacity=\"1\" stroke-width=\"3.2\"/>\n<path clip-path=\"url(#clip192)\" d=\"M2247.66 1205.21 L2247.66 1237.21 L2279.66 1237.21 L2279.66 1205.21 L2247.66 1205.21 Z\" fill=\"#e26f46\" fill-rule=\"evenodd\" fill-opacity=\"1\" stroke=\"#000000\" stroke-opacity=\"1\" stroke-width=\"3.2\"/>\n<path clip-path=\"url(#clip192)\" d=\"M2274.1 1206.84 L2274.1 1238.84 L2306.1 1238.84 L2306.1 1206.84 L2274.1 1206.84 Z\" fill=\"#e26f46\" fill-rule=\"evenodd\" fill-opacity=\"1\" stroke=\"#000000\" stroke-opacity=\"1\" stroke-width=\"3.2\"/>\n<path clip-path=\"url(#clip190)\" d=\"\nM1803.47 324.425 L2278.96 324.425 L2278.96 168.905 L1803.47 168.905  Z\n  \" fill=\"#ffffff\" fill-rule=\"evenodd\" fill-opacity=\"1\"/>\n<polyline clip-path=\"url(#clip190)\" style=\"stroke:#000000; stroke-linecap:butt; stroke-linejoin:round; stroke-width:4; stroke-opacity:1; fill:none\" points=\"\n  1803.47,324.425 2278.96,324.425 2278.96,168.905 1803.47,168.905 1803.47,324.425 \n  \"/>\n<polyline clip-path=\"url(#clip190)\" style=\"stroke:#009af9; stroke-linecap:butt; stroke-linejoin:round; stroke-width:4; stroke-opacity:1; fill:none\" points=\"\n  1828.07,220.745 1975.66,220.745 \n  \"/>\n<circle clip-path=\"url(#clip190)\" cx=\"1901.86\" cy=\"220.745\" r=\"23\" fill=\"#009af9\" fill-rule=\"evenodd\" fill-opacity=\"1\" stroke=\"#000000\" stroke-opacity=\"1\" stroke-width=\"5.12\"/>\n<path clip-path=\"url(#clip190)\" d=\"M2007.66 204.738 L2007.66 212.099 L2016.44 212.099 L2016.44 215.409 L2007.66 215.409 L2007.66 229.483 Q2007.66 232.654 2008.52 233.557 Q2009.4 234.46 2012.06 234.46 L2016.44 234.46 L2016.44 238.025 L2012.06 238.025 Q2007.13 238.025 2005.25 236.196 Q2003.38 234.344 2003.38 229.483 L2003.38 215.409 L2000.25 215.409 L2000.25 212.099 L2003.38 212.099 L2003.38 204.738 L2007.66 204.738 Z\" fill=\"#000000\" fill-rule=\"evenodd\" fill-opacity=\"1\" /><path clip-path=\"url(#clip190)\" d=\"M2037.06 216.08 Q2036.34 215.664 2035.49 215.478 Q2034.65 215.27 2033.63 215.27 Q2030.02 215.27 2028.08 217.631 Q2026.16 219.969 2026.16 224.367 L2026.16 238.025 L2021.87 238.025 L2021.87 212.099 L2026.16 212.099 L2026.16 216.127 Q2027.5 213.766 2029.65 212.631 Q2031.81 211.474 2034.88 211.474 Q2035.32 211.474 2035.86 211.543 Q2036.39 211.59 2037.04 211.705 L2037.06 216.08 Z\" fill=\"#000000\" fill-rule=\"evenodd\" fill-opacity=\"1\" /><path clip-path=\"url(#clip190)\" d=\"M2041.09 227.793 L2041.09 212.099 L2045.35 212.099 L2045.35 227.631 Q2045.35 231.312 2046.78 233.164 Q2048.22 234.992 2051.09 234.992 Q2054.54 234.992 2056.53 232.793 Q2058.54 230.594 2058.54 226.798 L2058.54 212.099 L2062.8 212.099 L2062.8 238.025 L2058.54 238.025 L2058.54 234.043 Q2056.99 236.404 2054.93 237.562 Q2052.89 238.696 2050.18 238.696 Q2045.72 238.696 2043.4 235.918 Q2041.09 233.14 2041.09 227.793 M2051.81 211.474 L2051.81 211.474 Z\" fill=\"#000000\" fill-rule=\"evenodd\" fill-opacity=\"1\" /><path clip-path=\"url(#clip190)\" d=\"M2093.75 223.997 L2093.75 226.08 L2074.17 226.08 Q2074.44 230.478 2076.81 232.793 Q2079.19 235.085 2083.43 235.085 Q2085.88 235.085 2088.17 234.483 Q2090.49 233.881 2092.75 232.677 L2092.75 236.705 Q2090.46 237.677 2088.06 238.187 Q2085.65 238.696 2083.17 238.696 Q2076.97 238.696 2073.33 235.085 Q2069.72 231.474 2069.72 225.316 Q2069.72 218.951 2073.15 215.224 Q2076.6 211.474 2082.43 211.474 Q2087.66 211.474 2090.69 214.853 Q2093.75 218.21 2093.75 223.997 M2089.49 222.747 Q2089.44 219.252 2087.52 217.168 Q2085.62 215.085 2082.48 215.085 Q2078.91 215.085 2076.76 217.099 Q2074.63 219.113 2074.31 222.77 L2089.49 222.747 Z\" fill=\"#000000\" fill-rule=\"evenodd\" fill-opacity=\"1\" /><polyline clip-path=\"url(#clip190)\" style=\"stroke:#e26f46; stroke-linecap:butt; stroke-linejoin:round; stroke-width:4; stroke-opacity:1; fill:none\" points=\"\n  1828.07,272.585 1975.66,272.585 \n  \"/>\n<path clip-path=\"url(#clip190)\" d=\"M1876.26 246.985 L1876.26 298.185 L1927.46 298.185 L1927.46 246.985 L1876.26 246.985 Z\" fill=\"#e26f46\" fill-rule=\"evenodd\" fill-opacity=\"1\" stroke=\"#000000\" stroke-opacity=\"1\" stroke-width=\"5.12\"/>\n<path clip-path=\"url(#clip190)\" d=\"M2004.54 285.976 L2004.54 299.726 L2000.25 299.726 L2000.25 263.939 L2004.54 263.939 L2004.54 267.874 Q2005.88 265.559 2007.92 264.448 Q2009.98 263.314 2012.82 263.314 Q2017.55 263.314 2020.49 267.064 Q2023.45 270.814 2023.45 276.925 Q2023.45 283.036 2020.49 286.786 Q2017.55 290.536 2012.82 290.536 Q2009.98 290.536 2007.92 289.425 Q2005.88 288.291 2004.54 285.976 M2019.03 276.925 Q2019.03 272.226 2017.08 269.564 Q2015.16 266.879 2011.78 266.879 Q2008.4 266.879 2006.46 269.564 Q2004.54 272.226 2004.54 276.925 Q2004.54 281.624 2006.46 284.309 Q2008.4 286.971 2011.78 286.971 Q2015.16 286.971 2017.08 284.309 Q2019.03 281.624 2019.03 276.925 Z\" fill=\"#000000\" fill-rule=\"evenodd\" fill-opacity=\"1\" /><path clip-path=\"url(#clip190)\" d=\"M2045.53 267.92 Q2044.81 267.504 2043.96 267.318 Q2043.12 267.11 2042.11 267.11 Q2038.5 267.11 2036.55 269.471 Q2034.63 271.809 2034.63 276.207 L2034.63 289.865 L2030.35 289.865 L2030.35 263.939 L2034.63 263.939 L2034.63 267.967 Q2035.97 265.606 2038.12 264.471 Q2040.28 263.314 2043.36 263.314 Q2043.8 263.314 2044.33 263.383 Q2044.86 263.43 2045.51 263.545 L2045.53 267.92 Z\" fill=\"#000000\" fill-rule=\"evenodd\" fill-opacity=\"1\" /><path clip-path=\"url(#clip190)\" d=\"M2071.13 275.837 L2071.13 277.92 L2051.55 277.92 Q2051.83 282.318 2054.19 284.633 Q2056.57 286.925 2060.81 286.925 Q2063.26 286.925 2065.56 286.323 Q2067.87 285.721 2070.14 284.517 L2070.14 288.545 Q2067.85 289.517 2065.44 290.027 Q2063.03 290.536 2060.56 290.536 Q2054.35 290.536 2050.72 286.925 Q2047.11 283.314 2047.11 277.156 Q2047.11 270.791 2050.53 267.064 Q2053.98 263.314 2059.81 263.314 Q2065.05 263.314 2068.08 266.693 Q2071.13 270.05 2071.13 275.837 M2066.87 274.587 Q2066.83 271.092 2064.91 269.008 Q2063.01 266.925 2059.86 266.925 Q2056.3 266.925 2054.14 268.939 Q2052.01 270.953 2051.69 274.61 L2066.87 274.587 Z\" fill=\"#000000\" fill-rule=\"evenodd\" fill-opacity=\"1\" /><path clip-path=\"url(#clip190)\" d=\"M2095.18 267.874 L2095.18 253.846 L2099.44 253.846 L2099.44 289.865 L2095.18 289.865 L2095.18 285.976 Q2093.84 288.291 2091.78 289.425 Q2089.74 290.536 2086.87 290.536 Q2082.18 290.536 2079.21 286.786 Q2076.27 283.036 2076.27 276.925 Q2076.27 270.814 2079.21 267.064 Q2082.18 263.314 2086.87 263.314 Q2089.74 263.314 2091.78 264.448 Q2093.84 265.559 2095.18 267.874 M2080.67 276.925 Q2080.67 281.624 2082.59 284.309 Q2084.54 286.971 2087.92 286.971 Q2091.3 286.971 2093.24 284.309 Q2095.18 281.624 2095.18 276.925 Q2095.18 272.226 2093.24 269.564 Q2091.3 266.879 2087.92 266.879 Q2084.54 266.879 2082.59 269.564 Q2080.67 272.226 2080.67 276.925 Z\" fill=\"#000000\" fill-rule=\"evenodd\" fill-opacity=\"1\" /><path clip-path=\"url(#clip190)\" d=\"M2108.22 263.939 L2112.48 263.939 L2112.48 289.865 L2108.22 289.865 L2108.22 263.939 M2108.22 253.846 L2112.48 253.846 L2112.48 259.24 L2108.22 259.24 L2108.22 253.846 Z\" fill=\"#000000\" fill-rule=\"evenodd\" fill-opacity=\"1\" /><path clip-path=\"url(#clip190)\" d=\"M2140.05 264.934 L2140.05 268.916 Q2138.24 267.92 2136.41 267.434 Q2134.61 266.925 2132.75 266.925 Q2128.61 266.925 2126.32 269.564 Q2124.03 272.18 2124.03 276.925 Q2124.03 281.67 2126.32 284.309 Q2128.61 286.925 2132.75 286.925 Q2134.61 286.925 2136.41 286.439 Q2138.24 285.929 2140.05 284.934 L2140.05 288.869 Q2138.26 289.703 2136.34 290.119 Q2134.44 290.536 2132.29 290.536 Q2126.43 290.536 2122.99 286.855 Q2119.54 283.175 2119.54 276.925 Q2119.54 270.582 2123.01 266.948 Q2126.5 263.314 2132.57 263.314 Q2134.54 263.314 2136.41 263.731 Q2138.29 264.124 2140.05 264.934 Z\" fill=\"#000000\" fill-rule=\"evenodd\" fill-opacity=\"1\" /><path clip-path=\"url(#clip190)\" d=\"M2151.67 256.578 L2151.67 263.939 L2160.44 263.939 L2160.44 267.249 L2151.67 267.249 L2151.67 281.323 Q2151.67 284.494 2152.52 285.397 Q2153.4 286.3 2156.06 286.3 L2160.44 286.3 L2160.44 289.865 L2156.06 289.865 Q2151.13 289.865 2149.26 288.036 Q2147.38 286.184 2147.38 281.323 L2147.38 267.249 L2144.26 267.249 L2144.26 263.939 L2147.38 263.939 L2147.38 256.578 L2151.67 256.578 Z\" fill=\"#000000\" fill-rule=\"evenodd\" fill-opacity=\"1\" /><path clip-path=\"url(#clip190)\" d=\"M2166.04 263.939 L2170.3 263.939 L2170.3 289.865 L2166.04 289.865 L2166.04 263.939 M2166.04 253.846 L2170.3 253.846 L2170.3 259.24 L2166.04 259.24 L2166.04 253.846 Z\" fill=\"#000000\" fill-rule=\"evenodd\" fill-opacity=\"1\" /><path clip-path=\"url(#clip190)\" d=\"M2189.26 266.925 Q2185.83 266.925 2183.84 269.61 Q2181.85 272.272 2181.85 276.925 Q2181.85 281.578 2183.82 284.263 Q2185.81 286.925 2189.26 286.925 Q2192.66 286.925 2194.65 284.24 Q2196.64 281.555 2196.64 276.925 Q2196.64 272.318 2194.65 269.633 Q2192.66 266.925 2189.26 266.925 M2189.26 263.314 Q2194.81 263.314 2197.98 266.925 Q2201.16 270.536 2201.16 276.925 Q2201.16 283.291 2197.98 286.925 Q2194.81 290.536 2189.26 290.536 Q2183.68 290.536 2180.51 286.925 Q2177.36 283.291 2177.36 276.925 Q2177.36 270.536 2180.51 266.925 Q2183.68 263.314 2189.26 263.314 Z\" fill=\"#000000\" fill-rule=\"evenodd\" fill-opacity=\"1\" /><path clip-path=\"url(#clip190)\" d=\"M2229.77 274.217 L2229.77 289.865 L2225.51 289.865 L2225.51 274.355 Q2225.51 270.675 2224.07 268.846 Q2222.64 267.018 2219.77 267.018 Q2216.32 267.018 2214.33 269.217 Q2212.34 271.416 2212.34 275.212 L2212.34 289.865 L2208.05 289.865 L2208.05 263.939 L2212.34 263.939 L2212.34 267.967 Q2213.86 265.629 2215.92 264.471 Q2218.01 263.314 2220.72 263.314 Q2225.18 263.314 2227.48 266.092 Q2229.77 268.846 2229.77 274.217 Z\" fill=\"#000000\" fill-rule=\"evenodd\" fill-opacity=\"1\" /></svg>\n"
          },
          "metadata": {},
          "execution_count": 44
        }
      ]
    },
    {
      "cell_type": "markdown",
      "source": [
        "I guess that looks much better!\n",
        "\n",
        "And that is everything from the demo! Thanks for your attention and patience and see you at the presentations.\n",
        "\n",
        "For a table of summary of current results, look below."
      ],
      "metadata": {
        "id": "D1KF1jaNUyGe"
      }
    },
    {
      "cell_type": "markdown",
      "source": [
        "# SUMMARY RESULTS (for all models tried)\n",
        "\n",
        "The overview of models can be found at https://github.com/masenka31/Ventilator/tree/master/Ventilator.jl/scripts. Here we present only a summary table of the best results achieved for which models.\n",
        "\n",
        "The 9 models are not yet calculated, will be in the next 24 hours (currently running on Helios).\n",
        "\n",
        "## Results table\n",
        "\n",
        "| model | best validation score | test score | train hours |\n",
        "| --- | --- | --- | --- |\n",
        "| vector - idim = 162 | 0.992 | 1.01 | 12 |\n",
        "| vector - idim = 162 (u_out = 0 with ⁍) | 0.999 | 1.017 | 12 |\n",
        "| simple RNN - idim = 5 | 0.933 | 0.911 | 24 |\n",
        "| RNN onehot - idim = 9 | 0.769 | 0.757 | 48 |\n",
        "| RNN onehot engineered - idim = 45 | 0.713 | 0.703 | 48 |\n",
        "| RNN lagged - idim = 45 | 1.09 | 1.076 | 14 |\n",
        "| 9 models - idim = 42 |  |  | 24 (x9 threads) |\n",
        "\n",
        "As can be seen, the best results currently achieved are with RNN model and feature engineering achieving 0.703 MAE on test dataset."
      ],
      "metadata": {
        "id": "oooyqqzMPwRV"
      }
    }
  ]
}